{
  "nbformat": 4,
  "nbformat_minor": 0,
  "metadata": {
    "colab": {
      "name": "NBA.ipynb",
      "provenance": [],
      "collapsed_sections": [],
      "authorship_tag": "ABX9TyN+aux9c6ZCeytDQUW9I1Qf",
      "include_colab_link": true
    },
    "kernelspec": {
      "name": "python3",
      "display_name": "Python 3"
    },
    "language_info": {
      "name": "python"
    }
  },
  "cells": [
    {
      "cell_type": "markdown",
      "metadata": {
        "id": "view-in-github",
        "colab_type": "text"
      },
      "source": [
        "<a href=\"https://colab.research.google.com/github/danysc/DA-Projects/blob/main/NBA.ipynb\" target=\"_parent\"><img src=\"https://colab.research.google.com/assets/colab-badge.svg\" alt=\"Open In Colab\"/></a>"
      ]
    },
    {
      "cell_type": "markdown",
      "source": [
        "**NBA**\n",
        "Example of personal data set"
      ],
      "metadata": {
        "id": "hOnuwc_6wbaa"
      }
    },
    {
      "cell_type": "markdown",
      "source": [
        "https://www.geeksforgeeks.org/python-pandas-series-tolist/"
      ],
      "metadata": {
        "id": "nBl-veMVwbtf"
      }
    },
    {
      "cell_type": "code",
      "source": [
        "# importing pandas module \n",
        "import pandas as pd \n",
        "  \n",
        "# importing regex module\n",
        "import re"
      ],
      "metadata": {
        "id": "wDEgVn_excbN"
      },
      "execution_count": 37,
      "outputs": []
    },
    {
      "cell_type": "code",
      "source": [
        "import matplotlib.pyplot as plt\n",
        "import seaborn as sns"
      ],
      "metadata": {
        "id": "lEVDSIsuKxxv"
      },
      "execution_count": 38,
      "outputs": []
    },
    {
      "cell_type": "markdown",
      "source": [
        "Example:\n",
        "In this example, the data type of Name column is stored in a variable. After that it is converted using tolist() method and again data type is stored and printed."
      ],
      "metadata": {
        "id": "8Y159EMrz7Kf"
      }
    },
    {
      "cell_type": "code",
      "source": [
        "# making data frame \n",
        "nba = pd.read_csv(\"https://media.geeksforgeeks.org/wp-content/uploads/nba.csv\") \n",
        "\n",
        "# Removing null values to avoid errors \n",
        "nba.dropna(inplace = True) \n",
        "# nba.isna().sum()\n",
        "\n",
        "# Null Check:\n",
        "# Note the null values\n",
        "# nba.isnull().sum()\n",
        "nba.head()"
      ],
      "metadata": {
        "colab": {
          "base_uri": "https://localhost:8080/",
          "height": 206
        },
        "id": "Ww5j1kMrwcYO",
        "outputId": "be694f55-8ca3-42be-b49d-0129edd769bf"
      },
      "execution_count": 39,
      "outputs": [
        {
          "output_type": "execute_result",
          "data": {
            "text/html": [
              "\n",
              "  <div id=\"df-f4e69f8b-951a-4060-a20d-1e7d4a6b1047\">\n",
              "    <div class=\"colab-df-container\">\n",
              "      <div>\n",
              "<style scoped>\n",
              "    .dataframe tbody tr th:only-of-type {\n",
              "        vertical-align: middle;\n",
              "    }\n",
              "\n",
              "    .dataframe tbody tr th {\n",
              "        vertical-align: top;\n",
              "    }\n",
              "\n",
              "    .dataframe thead th {\n",
              "        text-align: right;\n",
              "    }\n",
              "</style>\n",
              "<table border=\"1\" class=\"dataframe\">\n",
              "  <thead>\n",
              "    <tr style=\"text-align: right;\">\n",
              "      <th></th>\n",
              "      <th>Name</th>\n",
              "      <th>Team</th>\n",
              "      <th>Number</th>\n",
              "      <th>Position</th>\n",
              "      <th>Age</th>\n",
              "      <th>Height</th>\n",
              "      <th>Weight</th>\n",
              "      <th>College</th>\n",
              "      <th>Salary</th>\n",
              "    </tr>\n",
              "  </thead>\n",
              "  <tbody>\n",
              "    <tr>\n",
              "      <th>0</th>\n",
              "      <td>Avery Bradley</td>\n",
              "      <td>Boston Celtics</td>\n",
              "      <td>0.0</td>\n",
              "      <td>PG</td>\n",
              "      <td>25.0</td>\n",
              "      <td>6-2</td>\n",
              "      <td>180.0</td>\n",
              "      <td>Texas</td>\n",
              "      <td>7730337.0</td>\n",
              "    </tr>\n",
              "    <tr>\n",
              "      <th>1</th>\n",
              "      <td>Jae Crowder</td>\n",
              "      <td>Boston Celtics</td>\n",
              "      <td>99.0</td>\n",
              "      <td>SF</td>\n",
              "      <td>25.0</td>\n",
              "      <td>6-6</td>\n",
              "      <td>235.0</td>\n",
              "      <td>Marquette</td>\n",
              "      <td>6796117.0</td>\n",
              "    </tr>\n",
              "    <tr>\n",
              "      <th>3</th>\n",
              "      <td>R.J. Hunter</td>\n",
              "      <td>Boston Celtics</td>\n",
              "      <td>28.0</td>\n",
              "      <td>SG</td>\n",
              "      <td>22.0</td>\n",
              "      <td>6-5</td>\n",
              "      <td>185.0</td>\n",
              "      <td>Georgia State</td>\n",
              "      <td>1148640.0</td>\n",
              "    </tr>\n",
              "    <tr>\n",
              "      <th>6</th>\n",
              "      <td>Jordan Mickey</td>\n",
              "      <td>Boston Celtics</td>\n",
              "      <td>55.0</td>\n",
              "      <td>PF</td>\n",
              "      <td>21.0</td>\n",
              "      <td>6-8</td>\n",
              "      <td>235.0</td>\n",
              "      <td>LSU</td>\n",
              "      <td>1170960.0</td>\n",
              "    </tr>\n",
              "    <tr>\n",
              "      <th>7</th>\n",
              "      <td>Kelly Olynyk</td>\n",
              "      <td>Boston Celtics</td>\n",
              "      <td>41.0</td>\n",
              "      <td>C</td>\n",
              "      <td>25.0</td>\n",
              "      <td>7-0</td>\n",
              "      <td>238.0</td>\n",
              "      <td>Gonzaga</td>\n",
              "      <td>2165160.0</td>\n",
              "    </tr>\n",
              "  </tbody>\n",
              "</table>\n",
              "</div>\n",
              "      <button class=\"colab-df-convert\" onclick=\"convertToInteractive('df-f4e69f8b-951a-4060-a20d-1e7d4a6b1047')\"\n",
              "              title=\"Convert this dataframe to an interactive table.\"\n",
              "              style=\"display:none;\">\n",
              "        \n",
              "  <svg xmlns=\"http://www.w3.org/2000/svg\" height=\"24px\"viewBox=\"0 0 24 24\"\n",
              "       width=\"24px\">\n",
              "    <path d=\"M0 0h24v24H0V0z\" fill=\"none\"/>\n",
              "    <path d=\"M18.56 5.44l.94 2.06.94-2.06 2.06-.94-2.06-.94-.94-2.06-.94 2.06-2.06.94zm-11 1L8.5 8.5l.94-2.06 2.06-.94-2.06-.94L8.5 2.5l-.94 2.06-2.06.94zm10 10l.94 2.06.94-2.06 2.06-.94-2.06-.94-.94-2.06-.94 2.06-2.06.94z\"/><path d=\"M17.41 7.96l-1.37-1.37c-.4-.4-.92-.59-1.43-.59-.52 0-1.04.2-1.43.59L10.3 9.45l-7.72 7.72c-.78.78-.78 2.05 0 2.83L4 21.41c.39.39.9.59 1.41.59.51 0 1.02-.2 1.41-.59l7.78-7.78 2.81-2.81c.8-.78.8-2.07 0-2.86zM5.41 20L4 18.59l7.72-7.72 1.47 1.35L5.41 20z\"/>\n",
              "  </svg>\n",
              "      </button>\n",
              "      \n",
              "  <style>\n",
              "    .colab-df-container {\n",
              "      display:flex;\n",
              "      flex-wrap:wrap;\n",
              "      gap: 12px;\n",
              "    }\n",
              "\n",
              "    .colab-df-convert {\n",
              "      background-color: #E8F0FE;\n",
              "      border: none;\n",
              "      border-radius: 50%;\n",
              "      cursor: pointer;\n",
              "      display: none;\n",
              "      fill: #1967D2;\n",
              "      height: 32px;\n",
              "      padding: 0 0 0 0;\n",
              "      width: 32px;\n",
              "    }\n",
              "\n",
              "    .colab-df-convert:hover {\n",
              "      background-color: #E2EBFA;\n",
              "      box-shadow: 0px 1px 2px rgba(60, 64, 67, 0.3), 0px 1px 3px 1px rgba(60, 64, 67, 0.15);\n",
              "      fill: #174EA6;\n",
              "    }\n",
              "\n",
              "    [theme=dark] .colab-df-convert {\n",
              "      background-color: #3B4455;\n",
              "      fill: #D2E3FC;\n",
              "    }\n",
              "\n",
              "    [theme=dark] .colab-df-convert:hover {\n",
              "      background-color: #434B5C;\n",
              "      box-shadow: 0px 1px 3px 1px rgba(0, 0, 0, 0.15);\n",
              "      filter: drop-shadow(0px 1px 2px rgba(0, 0, 0, 0.3));\n",
              "      fill: #FFFFFF;\n",
              "    }\n",
              "  </style>\n",
              "\n",
              "      <script>\n",
              "        const buttonEl =\n",
              "          document.querySelector('#df-f4e69f8b-951a-4060-a20d-1e7d4a6b1047 button.colab-df-convert');\n",
              "        buttonEl.style.display =\n",
              "          google.colab.kernel.accessAllowed ? 'block' : 'none';\n",
              "\n",
              "        async function convertToInteractive(key) {\n",
              "          const element = document.querySelector('#df-f4e69f8b-951a-4060-a20d-1e7d4a6b1047');\n",
              "          const dataTable =\n",
              "            await google.colab.kernel.invokeFunction('convertToInteractive',\n",
              "                                                     [key], {});\n",
              "          if (!dataTable) return;\n",
              "\n",
              "          const docLinkHtml = 'Like what you see? Visit the ' +\n",
              "            '<a target=\"_blank\" href=https://colab.research.google.com/notebooks/data_table.ipynb>data table notebook</a>'\n",
              "            + ' to learn more about interactive tables.';\n",
              "          element.innerHTML = '';\n",
              "          dataTable['output_type'] = 'display_data';\n",
              "          await google.colab.output.renderOutput(dataTable, element);\n",
              "          const docLink = document.createElement('div');\n",
              "          docLink.innerHTML = docLinkHtml;\n",
              "          element.appendChild(docLink);\n",
              "        }\n",
              "      </script>\n",
              "    </div>\n",
              "  </div>\n",
              "  "
            ],
            "text/plain": [
              "            Name            Team  Number  ... Weight        College     Salary\n",
              "0  Avery Bradley  Boston Celtics     0.0  ...  180.0          Texas  7730337.0\n",
              "1    Jae Crowder  Boston Celtics    99.0  ...  235.0      Marquette  6796117.0\n",
              "3    R.J. Hunter  Boston Celtics    28.0  ...  185.0  Georgia State  1148640.0\n",
              "6  Jordan Mickey  Boston Celtics    55.0  ...  235.0            LSU  1170960.0\n",
              "7   Kelly Olynyk  Boston Celtics    41.0  ...  238.0        Gonzaga  2165160.0\n",
              "\n",
              "[5 rows x 9 columns]"
            ]
          },
          "metadata": {},
          "execution_count": 39
        }
      ]
    },
    {
      "cell_type": "code",
      "source": [
        "nba.info()"
      ],
      "metadata": {
        "id": "NnMgspJS1PzZ",
        "colab": {
          "base_uri": "https://localhost:8080/"
        },
        "outputId": "5ce3a71b-26c9-4244-ab3d-2c930eff5fc2"
      },
      "execution_count": 40,
      "outputs": [
        {
          "output_type": "stream",
          "name": "stdout",
          "text": [
            "<class 'pandas.core.frame.DataFrame'>\n",
            "Int64Index: 364 entries, 0 to 456\n",
            "Data columns (total 9 columns):\n",
            " #   Column    Non-Null Count  Dtype  \n",
            "---  ------    --------------  -----  \n",
            " 0   Name      364 non-null    object \n",
            " 1   Team      364 non-null    object \n",
            " 2   Number    364 non-null    float64\n",
            " 3   Position  364 non-null    object \n",
            " 4   Age       364 non-null    float64\n",
            " 5   Height    364 non-null    object \n",
            " 6   Weight    364 non-null    float64\n",
            " 7   College   364 non-null    object \n",
            " 8   Salary    364 non-null    float64\n",
            "dtypes: float64(4), object(5)\n",
            "memory usage: 28.4+ KB\n"
          ]
        }
      ]
    },
    {
      "cell_type": "code",
      "source": [
        ""
      ],
      "metadata": {
        "id": "kIQ-0cXdiDNF"
      },
      "execution_count": 40,
      "outputs": []
    },
    {
      "cell_type": "code",
      "source": [
        "# Duplicate check:\n",
        "\n",
        "# No duplicated row\n",
        "nba.duplicated().sum()"
      ],
      "metadata": {
        "colab": {
          "base_uri": "https://localhost:8080/"
        },
        "id": "88SFHZ4P0Gmb",
        "outputId": "2b12d9cb-b1eb-4377-e1f9-2c9f98143561"
      },
      "execution_count": 41,
      "outputs": [
        {
          "output_type": "execute_result",
          "data": {
            "text/plain": [
              "0"
            ]
          },
          "metadata": {},
          "execution_count": 41
        }
      ]
    },
    {
      "cell_type": "code",
      "source": [
        "nba.info()"
      ],
      "metadata": {
        "colab": {
          "base_uri": "https://localhost:8080/"
        },
        "id": "4oPX-pBtJJxe",
        "outputId": "2d3d018d-d378-4551-8100-f978450c2b23"
      },
      "execution_count": 42,
      "outputs": [
        {
          "output_type": "stream",
          "name": "stdout",
          "text": [
            "<class 'pandas.core.frame.DataFrame'>\n",
            "Int64Index: 364 entries, 0 to 456\n",
            "Data columns (total 9 columns):\n",
            " #   Column    Non-Null Count  Dtype  \n",
            "---  ------    --------------  -----  \n",
            " 0   Name      364 non-null    object \n",
            " 1   Team      364 non-null    object \n",
            " 2   Number    364 non-null    float64\n",
            " 3   Position  364 non-null    object \n",
            " 4   Age       364 non-null    float64\n",
            " 5   Height    364 non-null    object \n",
            " 6   Weight    364 non-null    float64\n",
            " 7   College   364 non-null    object \n",
            " 8   Salary    364 non-null    float64\n",
            "dtypes: float64(4), object(5)\n",
            "memory usage: 28.4+ KB\n"
          ]
        }
      ]
    },
    {
      "cell_type": "code",
      "source": [
        "nba['Age'].mean()"
      ],
      "metadata": {
        "colab": {
          "base_uri": "https://localhost:8080/"
        },
        "id": "eyR0xwtxw66Q",
        "outputId": "6308448b-323c-4604-e996-0aa5c86019ce"
      },
      "execution_count": 43,
      "outputs": [
        {
          "output_type": "execute_result",
          "data": {
            "text/plain": [
              "26.615384615384617"
            ]
          },
          "metadata": {},
          "execution_count": 43
        }
      ]
    },
    {
      "cell_type": "code",
      "source": [
        "# displaying list\n",
        "nba['Age'].describe()"
      ],
      "metadata": {
        "colab": {
          "base_uri": "https://localhost:8080/"
        },
        "id": "B1SJlHSEzqx8",
        "outputId": "c961fd9d-3535-40e4-d7a8-4ac53f8b021e"
      },
      "execution_count": 44,
      "outputs": [
        {
          "output_type": "execute_result",
          "data": {
            "text/plain": [
              "count    364.000000\n",
              "mean      26.615385\n",
              "std        4.233591\n",
              "min       19.000000\n",
              "25%       24.000000\n",
              "50%       26.000000\n",
              "75%       29.000000\n",
              "max       40.000000\n",
              "Name: Age, dtype: float64"
            ]
          },
          "metadata": {},
          "execution_count": 44
        }
      ]
    },
    {
      "cell_type": "code",
      "source": [
        "nba.groupby('Team').mean().head(8)"
      ],
      "metadata": {
        "id": "cR_u69Puw74H",
        "colab": {
          "base_uri": "https://localhost:8080/",
          "height": 332
        },
        "outputId": "217733f7-5fa4-4960-866d-6848c91feda3"
      },
      "execution_count": 45,
      "outputs": [
        {
          "output_type": "execute_result",
          "data": {
            "text/html": [
              "\n",
              "  <div id=\"df-2461e34a-8b65-4e5f-9efe-035de4471e96\">\n",
              "    <div class=\"colab-df-container\">\n",
              "      <div>\n",
              "<style scoped>\n",
              "    .dataframe tbody tr th:only-of-type {\n",
              "        vertical-align: middle;\n",
              "    }\n",
              "\n",
              "    .dataframe tbody tr th {\n",
              "        vertical-align: top;\n",
              "    }\n",
              "\n",
              "    .dataframe thead th {\n",
              "        text-align: right;\n",
              "    }\n",
              "</style>\n",
              "<table border=\"1\" class=\"dataframe\">\n",
              "  <thead>\n",
              "    <tr style=\"text-align: right;\">\n",
              "      <th></th>\n",
              "      <th>Number</th>\n",
              "      <th>Age</th>\n",
              "      <th>Weight</th>\n",
              "      <th>Salary</th>\n",
              "    </tr>\n",
              "    <tr>\n",
              "      <th>Team</th>\n",
              "      <th></th>\n",
              "      <th></th>\n",
              "      <th></th>\n",
              "      <th></th>\n",
              "    </tr>\n",
              "  </thead>\n",
              "  <tbody>\n",
              "    <tr>\n",
              "      <th>Atlanta Hawks</th>\n",
              "      <td>19.090909</td>\n",
              "      <td>28.545455</td>\n",
              "      <td>220.181818</td>\n",
              "      <td>5.125755e+06</td>\n",
              "    </tr>\n",
              "    <tr>\n",
              "      <th>Boston Celtics</th>\n",
              "      <td>29.166667</td>\n",
              "      <td>23.833333</td>\n",
              "      <td>218.000000</td>\n",
              "      <td>3.461756e+06</td>\n",
              "    </tr>\n",
              "    <tr>\n",
              "      <th>Brooklyn Nets</th>\n",
              "      <td>16.923077</td>\n",
              "      <td>25.769231</td>\n",
              "      <td>216.153846</td>\n",
              "      <td>3.654087e+06</td>\n",
              "    </tr>\n",
              "    <tr>\n",
              "      <th>Charlotte Hornets</th>\n",
              "      <td>17.461538</td>\n",
              "      <td>25.692308</td>\n",
              "      <td>216.692308</td>\n",
              "      <td>3.978124e+06</td>\n",
              "    </tr>\n",
              "    <tr>\n",
              "      <th>Chicago Bulls</th>\n",
              "      <td>18.500000</td>\n",
              "      <td>27.333333</td>\n",
              "      <td>211.583333</td>\n",
              "      <td>6.105483e+06</td>\n",
              "    </tr>\n",
              "    <tr>\n",
              "      <th>Cleveland Cavaliers</th>\n",
              "      <td>12.636364</td>\n",
              "      <td>28.909091</td>\n",
              "      <td>222.090909</td>\n",
              "      <td>6.733472e+06</td>\n",
              "    </tr>\n",
              "    <tr>\n",
              "      <th>Dallas Mavericks</th>\n",
              "      <td>15.166667</td>\n",
              "      <td>29.000000</td>\n",
              "      <td>220.000000</td>\n",
              "      <td>4.761692e+06</td>\n",
              "    </tr>\n",
              "    <tr>\n",
              "      <th>Denver Nuggets</th>\n",
              "      <td>11.111111</td>\n",
              "      <td>27.777778</td>\n",
              "      <td>208.666667</td>\n",
              "      <td>4.240886e+06</td>\n",
              "    </tr>\n",
              "  </tbody>\n",
              "</table>\n",
              "</div>\n",
              "      <button class=\"colab-df-convert\" onclick=\"convertToInteractive('df-2461e34a-8b65-4e5f-9efe-035de4471e96')\"\n",
              "              title=\"Convert this dataframe to an interactive table.\"\n",
              "              style=\"display:none;\">\n",
              "        \n",
              "  <svg xmlns=\"http://www.w3.org/2000/svg\" height=\"24px\"viewBox=\"0 0 24 24\"\n",
              "       width=\"24px\">\n",
              "    <path d=\"M0 0h24v24H0V0z\" fill=\"none\"/>\n",
              "    <path d=\"M18.56 5.44l.94 2.06.94-2.06 2.06-.94-2.06-.94-.94-2.06-.94 2.06-2.06.94zm-11 1L8.5 8.5l.94-2.06 2.06-.94-2.06-.94L8.5 2.5l-.94 2.06-2.06.94zm10 10l.94 2.06.94-2.06 2.06-.94-2.06-.94-.94-2.06-.94 2.06-2.06.94z\"/><path d=\"M17.41 7.96l-1.37-1.37c-.4-.4-.92-.59-1.43-.59-.52 0-1.04.2-1.43.59L10.3 9.45l-7.72 7.72c-.78.78-.78 2.05 0 2.83L4 21.41c.39.39.9.59 1.41.59.51 0 1.02-.2 1.41-.59l7.78-7.78 2.81-2.81c.8-.78.8-2.07 0-2.86zM5.41 20L4 18.59l7.72-7.72 1.47 1.35L5.41 20z\"/>\n",
              "  </svg>\n",
              "      </button>\n",
              "      \n",
              "  <style>\n",
              "    .colab-df-container {\n",
              "      display:flex;\n",
              "      flex-wrap:wrap;\n",
              "      gap: 12px;\n",
              "    }\n",
              "\n",
              "    .colab-df-convert {\n",
              "      background-color: #E8F0FE;\n",
              "      border: none;\n",
              "      border-radius: 50%;\n",
              "      cursor: pointer;\n",
              "      display: none;\n",
              "      fill: #1967D2;\n",
              "      height: 32px;\n",
              "      padding: 0 0 0 0;\n",
              "      width: 32px;\n",
              "    }\n",
              "\n",
              "    .colab-df-convert:hover {\n",
              "      background-color: #E2EBFA;\n",
              "      box-shadow: 0px 1px 2px rgba(60, 64, 67, 0.3), 0px 1px 3px 1px rgba(60, 64, 67, 0.15);\n",
              "      fill: #174EA6;\n",
              "    }\n",
              "\n",
              "    [theme=dark] .colab-df-convert {\n",
              "      background-color: #3B4455;\n",
              "      fill: #D2E3FC;\n",
              "    }\n",
              "\n",
              "    [theme=dark] .colab-df-convert:hover {\n",
              "      background-color: #434B5C;\n",
              "      box-shadow: 0px 1px 3px 1px rgba(0, 0, 0, 0.15);\n",
              "      filter: drop-shadow(0px 1px 2px rgba(0, 0, 0, 0.3));\n",
              "      fill: #FFFFFF;\n",
              "    }\n",
              "  </style>\n",
              "\n",
              "      <script>\n",
              "        const buttonEl =\n",
              "          document.querySelector('#df-2461e34a-8b65-4e5f-9efe-035de4471e96 button.colab-df-convert');\n",
              "        buttonEl.style.display =\n",
              "          google.colab.kernel.accessAllowed ? 'block' : 'none';\n",
              "\n",
              "        async function convertToInteractive(key) {\n",
              "          const element = document.querySelector('#df-2461e34a-8b65-4e5f-9efe-035de4471e96');\n",
              "          const dataTable =\n",
              "            await google.colab.kernel.invokeFunction('convertToInteractive',\n",
              "                                                     [key], {});\n",
              "          if (!dataTable) return;\n",
              "\n",
              "          const docLinkHtml = 'Like what you see? Visit the ' +\n",
              "            '<a target=\"_blank\" href=https://colab.research.google.com/notebooks/data_table.ipynb>data table notebook</a>'\n",
              "            + ' to learn more about interactive tables.';\n",
              "          element.innerHTML = '';\n",
              "          dataTable['output_type'] = 'display_data';\n",
              "          await google.colab.output.renderOutput(dataTable, element);\n",
              "          const docLink = document.createElement('div');\n",
              "          docLink.innerHTML = docLinkHtml;\n",
              "          element.appendChild(docLink);\n",
              "        }\n",
              "      </script>\n",
              "    </div>\n",
              "  </div>\n",
              "  "
            ],
            "text/plain": [
              "                        Number        Age      Weight        Salary\n",
              "Team                                                               \n",
              "Atlanta Hawks        19.090909  28.545455  220.181818  5.125755e+06\n",
              "Boston Celtics       29.166667  23.833333  218.000000  3.461756e+06\n",
              "Brooklyn Nets        16.923077  25.769231  216.153846  3.654087e+06\n",
              "Charlotte Hornets    17.461538  25.692308  216.692308  3.978124e+06\n",
              "Chicago Bulls        18.500000  27.333333  211.583333  6.105483e+06\n",
              "Cleveland Cavaliers  12.636364  28.909091  222.090909  6.733472e+06\n",
              "Dallas Mavericks     15.166667  29.000000  220.000000  4.761692e+06\n",
              "Denver Nuggets       11.111111  27.777778  208.666667  4.240886e+06"
            ]
          },
          "metadata": {},
          "execution_count": 45
        }
      ]
    },
    {
      "cell_type": "code",
      "source": [
        "# nba.groupby('Team').plot()"
      ],
      "metadata": {
        "id": "Pc2Or77PAE9i"
      },
      "execution_count": 46,
      "outputs": []
    },
    {
      "cell_type": "markdown",
      "source": [
        "## GroupBy the College::\n",
        "\n",
        "1.   List item\n",
        "2.   List item\n",
        "\n"
      ],
      "metadata": {
        "id": "EvBNiUfbazRk"
      }
    },
    {
      "cell_type": "code",
      "source": [
        "# Set the precision of the results:\n",
        "pd.set_option(\"display.precision\", 1)"
      ],
      "metadata": {
        "id": "Br3YEdTgDJc-"
      },
      "execution_count": 47,
      "outputs": []
    },
    {
      "cell_type": "code",
      "source": [
        "# Find the Averages:\n",
        "columns_list = ['Age','Weight',\t'Salary']\n",
        "nba.groupby(['College']).mean()\\\n",
        ".head(10)"
      ],
      "metadata": {
        "id": "TMmASG-4PzLO",
        "colab": {
          "base_uri": "https://localhost:8080/",
          "height": 394
        },
        "outputId": "54571b1d-0d05-4be8-b55b-1935b1337247"
      },
      "execution_count": 70,
      "outputs": [
        {
          "output_type": "execute_result",
          "data": {
            "text/html": [
              "\n",
              "  <div id=\"df-3be5839b-fb76-4cb1-b8c9-f0bade764314\">\n",
              "    <div class=\"colab-df-container\">\n",
              "      <div>\n",
              "<style scoped>\n",
              "    .dataframe tbody tr th:only-of-type {\n",
              "        vertical-align: middle;\n",
              "    }\n",
              "\n",
              "    .dataframe tbody tr th {\n",
              "        vertical-align: top;\n",
              "    }\n",
              "\n",
              "    .dataframe thead th {\n",
              "        text-align: right;\n",
              "    }\n",
              "</style>\n",
              "<table border=\"1\" class=\"dataframe\">\n",
              "  <thead>\n",
              "    <tr style=\"text-align: right;\">\n",
              "      <th></th>\n",
              "      <th>Number</th>\n",
              "      <th>Age</th>\n",
              "      <th>Weight</th>\n",
              "      <th>Salary</th>\n",
              "    </tr>\n",
              "    <tr>\n",
              "      <th>College</th>\n",
              "      <th></th>\n",
              "      <th></th>\n",
              "      <th></th>\n",
              "      <th></th>\n",
              "    </tr>\n",
              "  </thead>\n",
              "  <tbody>\n",
              "    <tr>\n",
              "      <th>Alabama</th>\n",
              "      <td>22.3</td>\n",
              "      <td>29.0</td>\n",
              "      <td>216.7</td>\n",
              "      <td>1.4e+06</td>\n",
              "    </tr>\n",
              "    <tr>\n",
              "      <th>Arizona</th>\n",
              "      <td>18.1</td>\n",
              "      <td>27.4</td>\n",
              "      <td>221.7</td>\n",
              "      <td>3.3e+06</td>\n",
              "    </tr>\n",
              "    <tr>\n",
              "      <th>Arizona State</th>\n",
              "      <td>16.0</td>\n",
              "      <td>27.5</td>\n",
              "      <td>235.0</td>\n",
              "      <td>7.9e+06</td>\n",
              "    </tr>\n",
              "    <tr>\n",
              "      <th>Arkansas</th>\n",
              "      <td>3.0</td>\n",
              "      <td>27.3</td>\n",
              "      <td>218.3</td>\n",
              "      <td>2.7e+06</td>\n",
              "    </tr>\n",
              "    <tr>\n",
              "      <th>Baylor</th>\n",
              "      <td>13.0</td>\n",
              "      <td>25.0</td>\n",
              "      <td>240.0</td>\n",
              "      <td>9.8e+05</td>\n",
              "    </tr>\n",
              "    <tr>\n",
              "      <th>Belmont</th>\n",
              "      <td>21.0</td>\n",
              "      <td>25.0</td>\n",
              "      <td>175.0</td>\n",
              "      <td>9.5e+05</td>\n",
              "    </tr>\n",
              "    <tr>\n",
              "      <th>Blinn College</th>\n",
              "      <td>7.0</td>\n",
              "      <td>37.0</td>\n",
              "      <td>245.0</td>\n",
              "      <td>5.0e+06</td>\n",
              "    </tr>\n",
              "    <tr>\n",
              "      <th>Boston College</th>\n",
              "      <td>1.0</td>\n",
              "      <td>28.0</td>\n",
              "      <td>216.5</td>\n",
              "      <td>9.1e+06</td>\n",
              "    </tr>\n",
              "    <tr>\n",
              "      <th>Bowling Green</th>\n",
              "      <td>22.0</td>\n",
              "      <td>22.0</td>\n",
              "      <td>245.0</td>\n",
              "      <td>1.1e+06</td>\n",
              "    </tr>\n",
              "    <tr>\n",
              "      <th>Bucknell</th>\n",
              "      <td>31.0</td>\n",
              "      <td>24.0</td>\n",
              "      <td>240.0</td>\n",
              "      <td>9.5e+05</td>\n",
              "    </tr>\n",
              "  </tbody>\n",
              "</table>\n",
              "</div>\n",
              "      <button class=\"colab-df-convert\" onclick=\"convertToInteractive('df-3be5839b-fb76-4cb1-b8c9-f0bade764314')\"\n",
              "              title=\"Convert this dataframe to an interactive table.\"\n",
              "              style=\"display:none;\">\n",
              "        \n",
              "  <svg xmlns=\"http://www.w3.org/2000/svg\" height=\"24px\"viewBox=\"0 0 24 24\"\n",
              "       width=\"24px\">\n",
              "    <path d=\"M0 0h24v24H0V0z\" fill=\"none\"/>\n",
              "    <path d=\"M18.56 5.44l.94 2.06.94-2.06 2.06-.94-2.06-.94-.94-2.06-.94 2.06-2.06.94zm-11 1L8.5 8.5l.94-2.06 2.06-.94-2.06-.94L8.5 2.5l-.94 2.06-2.06.94zm10 10l.94 2.06.94-2.06 2.06-.94-2.06-.94-.94-2.06-.94 2.06-2.06.94z\"/><path d=\"M17.41 7.96l-1.37-1.37c-.4-.4-.92-.59-1.43-.59-.52 0-1.04.2-1.43.59L10.3 9.45l-7.72 7.72c-.78.78-.78 2.05 0 2.83L4 21.41c.39.39.9.59 1.41.59.51 0 1.02-.2 1.41-.59l7.78-7.78 2.81-2.81c.8-.78.8-2.07 0-2.86zM5.41 20L4 18.59l7.72-7.72 1.47 1.35L5.41 20z\"/>\n",
              "  </svg>\n",
              "      </button>\n",
              "      \n",
              "  <style>\n",
              "    .colab-df-container {\n",
              "      display:flex;\n",
              "      flex-wrap:wrap;\n",
              "      gap: 12px;\n",
              "    }\n",
              "\n",
              "    .colab-df-convert {\n",
              "      background-color: #E8F0FE;\n",
              "      border: none;\n",
              "      border-radius: 50%;\n",
              "      cursor: pointer;\n",
              "      display: none;\n",
              "      fill: #1967D2;\n",
              "      height: 32px;\n",
              "      padding: 0 0 0 0;\n",
              "      width: 32px;\n",
              "    }\n",
              "\n",
              "    .colab-df-convert:hover {\n",
              "      background-color: #E2EBFA;\n",
              "      box-shadow: 0px 1px 2px rgba(60, 64, 67, 0.3), 0px 1px 3px 1px rgba(60, 64, 67, 0.15);\n",
              "      fill: #174EA6;\n",
              "    }\n",
              "\n",
              "    [theme=dark] .colab-df-convert {\n",
              "      background-color: #3B4455;\n",
              "      fill: #D2E3FC;\n",
              "    }\n",
              "\n",
              "    [theme=dark] .colab-df-convert:hover {\n",
              "      background-color: #434B5C;\n",
              "      box-shadow: 0px 1px 3px 1px rgba(0, 0, 0, 0.15);\n",
              "      filter: drop-shadow(0px 1px 2px rgba(0, 0, 0, 0.3));\n",
              "      fill: #FFFFFF;\n",
              "    }\n",
              "  </style>\n",
              "\n",
              "      <script>\n",
              "        const buttonEl =\n",
              "          document.querySelector('#df-3be5839b-fb76-4cb1-b8c9-f0bade764314 button.colab-df-convert');\n",
              "        buttonEl.style.display =\n",
              "          google.colab.kernel.accessAllowed ? 'block' : 'none';\n",
              "\n",
              "        async function convertToInteractive(key) {\n",
              "          const element = document.querySelector('#df-3be5839b-fb76-4cb1-b8c9-f0bade764314');\n",
              "          const dataTable =\n",
              "            await google.colab.kernel.invokeFunction('convertToInteractive',\n",
              "                                                     [key], {});\n",
              "          if (!dataTable) return;\n",
              "\n",
              "          const docLinkHtml = 'Like what you see? Visit the ' +\n",
              "            '<a target=\"_blank\" href=https://colab.research.google.com/notebooks/data_table.ipynb>data table notebook</a>'\n",
              "            + ' to learn more about interactive tables.';\n",
              "          element.innerHTML = '';\n",
              "          dataTable['output_type'] = 'display_data';\n",
              "          await google.colab.output.renderOutput(dataTable, element);\n",
              "          const docLink = document.createElement('div');\n",
              "          docLink.innerHTML = docLinkHtml;\n",
              "          element.appendChild(docLink);\n",
              "        }\n",
              "      </script>\n",
              "    </div>\n",
              "  </div>\n",
              "  "
            ],
            "text/plain": [
              "                Number   Age  Weight   Salary\n",
              "College                                      \n",
              "Alabama           22.3  29.0   216.7  1.4e+06\n",
              "Arizona           18.1  27.4   221.7  3.3e+06\n",
              "Arizona State     16.0  27.5   235.0  7.9e+06\n",
              "Arkansas           3.0  27.3   218.3  2.7e+06\n",
              "Baylor            13.0  25.0   240.0  9.8e+05\n",
              "Belmont           21.0  25.0   175.0  9.5e+05\n",
              "Blinn College      7.0  37.0   245.0  5.0e+06\n",
              "Boston College     1.0  28.0   216.5  9.1e+06\n",
              "Bowling Green     22.0  22.0   245.0  1.1e+06\n",
              "Bucknell          31.0  24.0   240.0  9.5e+05"
            ]
          },
          "metadata": {},
          "execution_count": 70
        }
      ]
    },
    {
      "cell_type": "code",
      "source": [
        "# GroupBy the College:\n",
        "nba.groupby(['College']).sum()\\\n",
        ".sort_values('College', ascending=False)\\\n",
        ".head(12)"
      ],
      "metadata": {
        "colab": {
          "base_uri": "https://localhost:8080/",
          "height": 457
        },
        "id": "czoRbpSVbWAD",
        "outputId": "cba24f9d-6edc-4276-8e9c-7552906322fb"
      },
      "execution_count": 49,
      "outputs": [
        {
          "output_type": "execute_result",
          "data": {
            "text/html": [
              "\n",
              "  <div id=\"df-85d3bb93-8e69-450f-9a77-a33572636662\">\n",
              "    <div class=\"colab-df-container\">\n",
              "      <div>\n",
              "<style scoped>\n",
              "    .dataframe tbody tr th:only-of-type {\n",
              "        vertical-align: middle;\n",
              "    }\n",
              "\n",
              "    .dataframe tbody tr th {\n",
              "        vertical-align: top;\n",
              "    }\n",
              "\n",
              "    .dataframe thead th {\n",
              "        text-align: right;\n",
              "    }\n",
              "</style>\n",
              "<table border=\"1\" class=\"dataframe\">\n",
              "  <thead>\n",
              "    <tr style=\"text-align: right;\">\n",
              "      <th></th>\n",
              "      <th>Number</th>\n",
              "      <th>Age</th>\n",
              "      <th>Weight</th>\n",
              "      <th>Salary</th>\n",
              "    </tr>\n",
              "    <tr>\n",
              "      <th>College</th>\n",
              "      <th></th>\n",
              "      <th></th>\n",
              "      <th></th>\n",
              "      <th></th>\n",
              "    </tr>\n",
              "  </thead>\n",
              "  <tbody>\n",
              "    <tr>\n",
              "      <th>Xavier</th>\n",
              "      <td>30.0</td>\n",
              "      <td>35.0</td>\n",
              "      <td>250.0</td>\n",
              "      <td>1.5e+06</td>\n",
              "    </tr>\n",
              "    <tr>\n",
              "      <th>Wyoming</th>\n",
              "      <td>7.0</td>\n",
              "      <td>23.0</td>\n",
              "      <td>230.0</td>\n",
              "      <td>1.2e+06</td>\n",
              "    </tr>\n",
              "    <tr>\n",
              "      <th>Wisconsin</th>\n",
              "      <td>141.0</td>\n",
              "      <td>129.0</td>\n",
              "      <td>1103.0</td>\n",
              "      <td>9.9e+06</td>\n",
              "    </tr>\n",
              "    <tr>\n",
              "      <th>Wichita State</th>\n",
              "      <td>11.0</td>\n",
              "      <td>25.0</td>\n",
              "      <td>210.0</td>\n",
              "      <td>8.5e+05</td>\n",
              "    </tr>\n",
              "    <tr>\n",
              "      <th>Western Michigan</th>\n",
              "      <td>42.0</td>\n",
              "      <td>25.0</td>\n",
              "      <td>250.0</td>\n",
              "      <td>8.5e+05</td>\n",
              "    </tr>\n",
              "    <tr>\n",
              "      <th>Western Kentucky</th>\n",
              "      <td>22.0</td>\n",
              "      <td>58.0</td>\n",
              "      <td>400.0</td>\n",
              "      <td>6.8e+06</td>\n",
              "    </tr>\n",
              "    <tr>\n",
              "      <th>Western Carolina</th>\n",
              "      <td>23.0</td>\n",
              "      <td>33.0</td>\n",
              "      <td>199.0</td>\n",
              "      <td>2.0e+05</td>\n",
              "    </tr>\n",
              "    <tr>\n",
              "      <th>Westchester CC</th>\n",
              "      <td>44.0</td>\n",
              "      <td>23.0</td>\n",
              "      <td>185.0</td>\n",
              "      <td>5.3e+05</td>\n",
              "    </tr>\n",
              "    <tr>\n",
              "      <th>Weber State</th>\n",
              "      <td>0.0</td>\n",
              "      <td>25.0</td>\n",
              "      <td>195.0</td>\n",
              "      <td>4.2e+06</td>\n",
              "    </tr>\n",
              "    <tr>\n",
              "      <th>Washington State</th>\n",
              "      <td>23.0</td>\n",
              "      <td>55.0</td>\n",
              "      <td>475.0</td>\n",
              "      <td>2.2e+07</td>\n",
              "    </tr>\n",
              "    <tr>\n",
              "      <th>Washington</th>\n",
              "      <td>97.0</td>\n",
              "      <td>183.0</td>\n",
              "      <td>1430.0</td>\n",
              "      <td>2.2e+07</td>\n",
              "    </tr>\n",
              "    <tr>\n",
              "      <th>Wake Forest</th>\n",
              "      <td>36.0</td>\n",
              "      <td>179.0</td>\n",
              "      <td>1251.0</td>\n",
              "      <td>4.6e+07</td>\n",
              "    </tr>\n",
              "  </tbody>\n",
              "</table>\n",
              "</div>\n",
              "      <button class=\"colab-df-convert\" onclick=\"convertToInteractive('df-85d3bb93-8e69-450f-9a77-a33572636662')\"\n",
              "              title=\"Convert this dataframe to an interactive table.\"\n",
              "              style=\"display:none;\">\n",
              "        \n",
              "  <svg xmlns=\"http://www.w3.org/2000/svg\" height=\"24px\"viewBox=\"0 0 24 24\"\n",
              "       width=\"24px\">\n",
              "    <path d=\"M0 0h24v24H0V0z\" fill=\"none\"/>\n",
              "    <path d=\"M18.56 5.44l.94 2.06.94-2.06 2.06-.94-2.06-.94-.94-2.06-.94 2.06-2.06.94zm-11 1L8.5 8.5l.94-2.06 2.06-.94-2.06-.94L8.5 2.5l-.94 2.06-2.06.94zm10 10l.94 2.06.94-2.06 2.06-.94-2.06-.94-.94-2.06-.94 2.06-2.06.94z\"/><path d=\"M17.41 7.96l-1.37-1.37c-.4-.4-.92-.59-1.43-.59-.52 0-1.04.2-1.43.59L10.3 9.45l-7.72 7.72c-.78.78-.78 2.05 0 2.83L4 21.41c.39.39.9.59 1.41.59.51 0 1.02-.2 1.41-.59l7.78-7.78 2.81-2.81c.8-.78.8-2.07 0-2.86zM5.41 20L4 18.59l7.72-7.72 1.47 1.35L5.41 20z\"/>\n",
              "  </svg>\n",
              "      </button>\n",
              "      \n",
              "  <style>\n",
              "    .colab-df-container {\n",
              "      display:flex;\n",
              "      flex-wrap:wrap;\n",
              "      gap: 12px;\n",
              "    }\n",
              "\n",
              "    .colab-df-convert {\n",
              "      background-color: #E8F0FE;\n",
              "      border: none;\n",
              "      border-radius: 50%;\n",
              "      cursor: pointer;\n",
              "      display: none;\n",
              "      fill: #1967D2;\n",
              "      height: 32px;\n",
              "      padding: 0 0 0 0;\n",
              "      width: 32px;\n",
              "    }\n",
              "\n",
              "    .colab-df-convert:hover {\n",
              "      background-color: #E2EBFA;\n",
              "      box-shadow: 0px 1px 2px rgba(60, 64, 67, 0.3), 0px 1px 3px 1px rgba(60, 64, 67, 0.15);\n",
              "      fill: #174EA6;\n",
              "    }\n",
              "\n",
              "    [theme=dark] .colab-df-convert {\n",
              "      background-color: #3B4455;\n",
              "      fill: #D2E3FC;\n",
              "    }\n",
              "\n",
              "    [theme=dark] .colab-df-convert:hover {\n",
              "      background-color: #434B5C;\n",
              "      box-shadow: 0px 1px 3px 1px rgba(0, 0, 0, 0.15);\n",
              "      filter: drop-shadow(0px 1px 2px rgba(0, 0, 0, 0.3));\n",
              "      fill: #FFFFFF;\n",
              "    }\n",
              "  </style>\n",
              "\n",
              "      <script>\n",
              "        const buttonEl =\n",
              "          document.querySelector('#df-85d3bb93-8e69-450f-9a77-a33572636662 button.colab-df-convert');\n",
              "        buttonEl.style.display =\n",
              "          google.colab.kernel.accessAllowed ? 'block' : 'none';\n",
              "\n",
              "        async function convertToInteractive(key) {\n",
              "          const element = document.querySelector('#df-85d3bb93-8e69-450f-9a77-a33572636662');\n",
              "          const dataTable =\n",
              "            await google.colab.kernel.invokeFunction('convertToInteractive',\n",
              "                                                     [key], {});\n",
              "          if (!dataTable) return;\n",
              "\n",
              "          const docLinkHtml = 'Like what you see? Visit the ' +\n",
              "            '<a target=\"_blank\" href=https://colab.research.google.com/notebooks/data_table.ipynb>data table notebook</a>'\n",
              "            + ' to learn more about interactive tables.';\n",
              "          element.innerHTML = '';\n",
              "          dataTable['output_type'] = 'display_data';\n",
              "          await google.colab.output.renderOutput(dataTable, element);\n",
              "          const docLink = document.createElement('div');\n",
              "          docLink.innerHTML = docLinkHtml;\n",
              "          element.appendChild(docLink);\n",
              "        }\n",
              "      </script>\n",
              "    </div>\n",
              "  </div>\n",
              "  "
            ],
            "text/plain": [
              "                  Number    Age  Weight   Salary\n",
              "College                                         \n",
              "Xavier              30.0   35.0   250.0  1.5e+06\n",
              "Wyoming              7.0   23.0   230.0  1.2e+06\n",
              "Wisconsin          141.0  129.0  1103.0  9.9e+06\n",
              "Wichita State       11.0   25.0   210.0  8.5e+05\n",
              "Western Michigan    42.0   25.0   250.0  8.5e+05\n",
              "Western Kentucky    22.0   58.0   400.0  6.8e+06\n",
              "Western Carolina    23.0   33.0   199.0  2.0e+05\n",
              "Westchester CC      44.0   23.0   185.0  5.3e+05\n",
              "Weber State          0.0   25.0   195.0  4.2e+06\n",
              "Washington State    23.0   55.0   475.0  2.2e+07\n",
              "Washington          97.0  183.0  1430.0  2.2e+07\n",
              "Wake Forest         36.0  179.0  1251.0  4.6e+07"
            ]
          },
          "metadata": {},
          "execution_count": 49
        }
      ]
    },
    {
      "cell_type": "markdown",
      "source": [
        "## Age"
      ],
      "metadata": {
        "id": "EvYjlRC6P0Fr"
      }
    },
    {
      "cell_type": "code",
      "source": [
        "nba['Age'].hist(bins=20)"
      ],
      "metadata": {
        "colab": {
          "base_uri": "https://localhost:8080/",
          "height": 282
        },
        "id": "PX_G0yOlKdv6",
        "outputId": "a0f82743-33e6-490b-f11e-96f282f8d5d6"
      },
      "execution_count": 50,
      "outputs": [
        {
          "output_type": "execute_result",
          "data": {
            "text/plain": [
              "<matplotlib.axes._subplots.AxesSubplot at 0x7fa312d14d10>"
            ]
          },
          "metadata": {},
          "execution_count": 50
        },
        {
          "output_type": "display_data",
          "data": {
            "image/png": "[encoded data removed]",
            "text/plain": [
              "<Figure size 432x288 with 1 Axes>"
            ]
          },
          "metadata": {
            "needs_background": "light"
          }
        }
      ]
    },
    {
      "cell_type": "code",
      "source": [
        "sns.distplot(nba['Age'])"
      ],
      "metadata": {
        "colab": {
          "base_uri": "https://localhost:8080/",
          "height": 351
        },
        "id": "kPs22MWMKoUX",
        "outputId": "e040fc51-88f2-493d-b441-d64d4e6343ad"
      },
      "execution_count": 51,
      "outputs": [
        {
          "output_type": "stream",
          "name": "stderr",
          "text": [
            "/usr/local/lib/python3.7/dist-packages/seaborn/distributions.py:2619: FutureWarning: `distplot` is a deprecated function and will be removed in a future version. Please adapt your code to use either `displot` (a figure-level function with similar flexibility) or `histplot` (an axes-level function for histograms).\n",
            "  warnings.warn(msg, FutureWarning)\n"
          ]
        },
        {
          "output_type": "execute_result",
          "data": {
            "text/plain": [
              "<matplotlib.axes._subplots.AxesSubplot at 0x7fa30c1fe8d0>"
            ]
          },
          "metadata": {},
          "execution_count": 51
        },
        {
          "output_type": "display_data",
          "data": {
            "image/png": "[encoded data removed]",
            "text/plain": [
              "<Figure size 432x288 with 1 Axes>"
            ]
          },
          "metadata": {
            "needs_background": "light"
          }
        }
      ]
    },
    {
      "cell_type": "markdown",
      "source": [
        "## GroupBy with Team and Age"
      ],
      "metadata": {
        "id": "pio7JKi1djv5"
      }
    },
    {
      "cell_type": "code",
      "source": [
        "# Use ‘kde’ : Kernel Density Estimation plot\n",
        "# groupby then plot with kind='kde'\n",
        "nba.groupby('Team').Age.plot(kind='kde')"
      ],
      "metadata": {
        "colab": {
          "base_uri": "https://localhost:8080/",
          "height": 821
        },
        "id": "1bPjvo-WMq0I",
        "outputId": "9878f76d-6e21-48b7-db4b-c782257655d7"
      },
      "execution_count": 52,
      "outputs": [
        {
          "output_type": "execute_result",
          "data": {
            "text/plain": [
              "Team\n",
              "Atlanta Hawks             AxesSubplot(0.125,0.125;0.775x0.755)\n",
              "Boston Celtics            AxesSubplot(0.125,0.125;0.775x0.755)\n",
              "Brooklyn Nets             AxesSubplot(0.125,0.125;0.775x0.755)\n",
              "Charlotte Hornets         AxesSubplot(0.125,0.125;0.775x0.755)\n",
              "Chicago Bulls             AxesSubplot(0.125,0.125;0.775x0.755)\n",
              "Cleveland Cavaliers       AxesSubplot(0.125,0.125;0.775x0.755)\n",
              "Dallas Mavericks          AxesSubplot(0.125,0.125;0.775x0.755)\n",
              "Denver Nuggets            AxesSubplot(0.125,0.125;0.775x0.755)\n",
              "Detroit Pistons           AxesSubplot(0.125,0.125;0.775x0.755)\n",
              "Golden State Warriors     AxesSubplot(0.125,0.125;0.775x0.755)\n",
              "Houston Rockets           AxesSubplot(0.125,0.125;0.775x0.755)\n",
              "Indiana Pacers            AxesSubplot(0.125,0.125;0.775x0.755)\n",
              "Los Angeles Clippers      AxesSubplot(0.125,0.125;0.775x0.755)\n",
              "Los Angeles Lakers        AxesSubplot(0.125,0.125;0.775x0.755)\n",
              "Memphis Grizzlies         AxesSubplot(0.125,0.125;0.775x0.755)\n",
              "Miami Heat                AxesSubplot(0.125,0.125;0.775x0.755)\n",
              "Milwaukee Bucks           AxesSubplot(0.125,0.125;0.775x0.755)\n",
              "Minnesota Timberwolves    AxesSubplot(0.125,0.125;0.775x0.755)\n",
              "New Orleans Pelicans      AxesSubplot(0.125,0.125;0.775x0.755)\n",
              "New York Knicks           AxesSubplot(0.125,0.125;0.775x0.755)\n",
              "Oklahoma City Thunder     AxesSubplot(0.125,0.125;0.775x0.755)\n",
              "Orlando Magic             AxesSubplot(0.125,0.125;0.775x0.755)\n",
              "Philadelphia 76ers        AxesSubplot(0.125,0.125;0.775x0.755)\n",
              "Phoenix Suns              AxesSubplot(0.125,0.125;0.775x0.755)\n",
              "Portland Trail Blazers    AxesSubplot(0.125,0.125;0.775x0.755)\n",
              "Sacramento Kings          AxesSubplot(0.125,0.125;0.775x0.755)\n",
              "San Antonio Spurs         AxesSubplot(0.125,0.125;0.775x0.755)\n",
              "Toronto Raptors           AxesSubplot(0.125,0.125;0.775x0.755)\n",
              "Utah Jazz                 AxesSubplot(0.125,0.125;0.775x0.755)\n",
              "Washington Wizards        AxesSubplot(0.125,0.125;0.775x0.755)\n",
              "Name: Age, dtype: object"
            ]
          },
          "metadata": {},
          "execution_count": 52
        },
        {
          "output_type": "display_data",
          "data": {
            "image/png": "[encoded data removed]",
            "text/plain": [
              "<Figure size 432x288 with 1 Axes>"
            ]
          },
          "metadata": {
            "needs_background": "light"
          }
        }
      ]
    },
    {
      "cell_type": "code",
      "source": [
        "# # Use ‘kde’ : Kernel Density Estimation plot\n",
        "nba.groupby('Team').Age.hist()"
      ],
      "metadata": {
        "id": "YNv4Gw7MP4f7",
        "colab": {
          "base_uri": "https://localhost:8080/",
          "height": 821
        },
        "outputId": "6174b318-73af-4267-a597-0f1040cbd72d"
      },
      "execution_count": 53,
      "outputs": [
        {
          "output_type": "execute_result",
          "data": {
            "text/plain": [
              "Team\n",
              "Atlanta Hawks             AxesSubplot(0.125,0.125;0.775x0.755)\n",
              "Boston Celtics            AxesSubplot(0.125,0.125;0.775x0.755)\n",
              "Brooklyn Nets             AxesSubplot(0.125,0.125;0.775x0.755)\n",
              "Charlotte Hornets         AxesSubplot(0.125,0.125;0.775x0.755)\n",
              "Chicago Bulls             AxesSubplot(0.125,0.125;0.775x0.755)\n",
              "Cleveland Cavaliers       AxesSubplot(0.125,0.125;0.775x0.755)\n",
              "Dallas Mavericks          AxesSubplot(0.125,0.125;0.775x0.755)\n",
              "Denver Nuggets            AxesSubplot(0.125,0.125;0.775x0.755)\n",
              "Detroit Pistons           AxesSubplot(0.125,0.125;0.775x0.755)\n",
              "Golden State Warriors     AxesSubplot(0.125,0.125;0.775x0.755)\n",
              "Houston Rockets           AxesSubplot(0.125,0.125;0.775x0.755)\n",
              "Indiana Pacers            AxesSubplot(0.125,0.125;0.775x0.755)\n",
              "Los Angeles Clippers      AxesSubplot(0.125,0.125;0.775x0.755)\n",
              "Los Angeles Lakers        AxesSubplot(0.125,0.125;0.775x0.755)\n",
              "Memphis Grizzlies         AxesSubplot(0.125,0.125;0.775x0.755)\n",
              "Miami Heat                AxesSubplot(0.125,0.125;0.775x0.755)\n",
              "Milwaukee Bucks           AxesSubplot(0.125,0.125;0.775x0.755)\n",
              "Minnesota Timberwolves    AxesSubplot(0.125,0.125;0.775x0.755)\n",
              "New Orleans Pelicans      AxesSubplot(0.125,0.125;0.775x0.755)\n",
              "New York Knicks           AxesSubplot(0.125,0.125;0.775x0.755)\n",
              "Oklahoma City Thunder     AxesSubplot(0.125,0.125;0.775x0.755)\n",
              "Orlando Magic             AxesSubplot(0.125,0.125;0.775x0.755)\n",
              "Philadelphia 76ers        AxesSubplot(0.125,0.125;0.775x0.755)\n",
              "Phoenix Suns              AxesSubplot(0.125,0.125;0.775x0.755)\n",
              "Portland Trail Blazers    AxesSubplot(0.125,0.125;0.775x0.755)\n",
              "Sacramento Kings          AxesSubplot(0.125,0.125;0.775x0.755)\n",
              "San Antonio Spurs         AxesSubplot(0.125,0.125;0.775x0.755)\n",
              "Toronto Raptors           AxesSubplot(0.125,0.125;0.775x0.755)\n",
              "Utah Jazz                 AxesSubplot(0.125,0.125;0.775x0.755)\n",
              "Washington Wizards        AxesSubplot(0.125,0.125;0.775x0.755)\n",
              "Name: Age, dtype: object"
            ]
          },
          "metadata": {},
          "execution_count": 53
        },
        {
          "output_type": "display_data",
          "data": {
            "image/png": "[encoded data removed]",
            "text/plain": [
              "<Figure size 432x288 with 1 Axes>"
            ]
          },
          "metadata": {
            "needs_background": "light"
          }
        }
      ]
    },
    {
      "cell_type": "code",
      "source": [
        ""
      ],
      "metadata": {
        "id": "SBjWmOejSI9J"
      },
      "execution_count": 53,
      "outputs": []
    },
    {
      "cell_type": "markdown",
      "source": [
        "## GroupBy according to Team"
      ],
      "metadata": {
        "id": "rOha3Du1P4vE"
      }
    },
    {
      "cell_type": "markdown",
      "source": [
        ""
      ],
      "metadata": {
        "id": "qA-7Tr0kP6qs"
      }
    },
    {
      "cell_type": "code",
      "source": [
        "# Short way:\n",
        "nba.groupby(['Team']).mean()"
      ],
      "metadata": {
        "colab": {
          "base_uri": "https://localhost:8080/",
          "height": 1000
        },
        "id": "ibjKGzBIdRPJ",
        "outputId": "43327386-9003-4797-c7e6-dc06bf4d9a63"
      },
      "execution_count": 54,
      "outputs": [
        {
          "output_type": "execute_result",
          "data": {
            "text/html": [
              "\n",
              "  <div id=\"df-90afd5d8-ec0c-45ee-b5dd-33b1594f2d5a\">\n",
              "    <div class=\"colab-df-container\">\n",
              "      <div>\n",
              "<style scoped>\n",
              "    .dataframe tbody tr th:only-of-type {\n",
              "        vertical-align: middle;\n",
              "    }\n",
              "\n",
              "    .dataframe tbody tr th {\n",
              "        vertical-align: top;\n",
              "    }\n",
              "\n",
              "    .dataframe thead th {\n",
              "        text-align: right;\n",
              "    }\n",
              "</style>\n",
              "<table border=\"1\" class=\"dataframe\">\n",
              "  <thead>\n",
              "    <tr style=\"text-align: right;\">\n",
              "      <th></th>\n",
              "      <th>Number</th>\n",
              "      <th>Age</th>\n",
              "      <th>Weight</th>\n",
              "      <th>Salary</th>\n",
              "    </tr>\n",
              "    <tr>\n",
              "      <th>Team</th>\n",
              "      <th></th>\n",
              "      <th></th>\n",
              "      <th></th>\n",
              "      <th></th>\n",
              "    </tr>\n",
              "  </thead>\n",
              "  <tbody>\n",
              "    <tr>\n",
              "      <th>Atlanta Hawks</th>\n",
              "      <td>19.1</td>\n",
              "      <td>28.5</td>\n",
              "      <td>220.2</td>\n",
              "      <td>5.1e+06</td>\n",
              "    </tr>\n",
              "    <tr>\n",
              "      <th>Boston Celtics</th>\n",
              "      <td>29.2</td>\n",
              "      <td>23.8</td>\n",
              "      <td>218.0</td>\n",
              "      <td>3.5e+06</td>\n",
              "    </tr>\n",
              "    <tr>\n",
              "      <th>Brooklyn Nets</th>\n",
              "      <td>16.9</td>\n",
              "      <td>25.8</td>\n",
              "      <td>216.2</td>\n",
              "      <td>3.7e+06</td>\n",
              "    </tr>\n",
              "    <tr>\n",
              "      <th>Charlotte Hornets</th>\n",
              "      <td>17.5</td>\n",
              "      <td>25.7</td>\n",
              "      <td>216.7</td>\n",
              "      <td>4.0e+06</td>\n",
              "    </tr>\n",
              "    <tr>\n",
              "      <th>Chicago Bulls</th>\n",
              "      <td>18.5</td>\n",
              "      <td>27.3</td>\n",
              "      <td>211.6</td>\n",
              "      <td>6.1e+06</td>\n",
              "    </tr>\n",
              "    <tr>\n",
              "      <th>Cleveland Cavaliers</th>\n",
              "      <td>12.6</td>\n",
              "      <td>28.9</td>\n",
              "      <td>222.1</td>\n",
              "      <td>6.7e+06</td>\n",
              "    </tr>\n",
              "    <tr>\n",
              "      <th>Dallas Mavericks</th>\n",
              "      <td>15.2</td>\n",
              "      <td>29.0</td>\n",
              "      <td>220.0</td>\n",
              "      <td>4.8e+06</td>\n",
              "    </tr>\n",
              "    <tr>\n",
              "      <th>Denver Nuggets</th>\n",
              "      <td>11.1</td>\n",
              "      <td>27.8</td>\n",
              "      <td>208.7</td>\n",
              "      <td>4.2e+06</td>\n",
              "    </tr>\n",
              "    <tr>\n",
              "      <th>Detroit Pistons</th>\n",
              "      <td>17.3</td>\n",
              "      <td>26.2</td>\n",
              "      <td>222.2</td>\n",
              "      <td>4.5e+06</td>\n",
              "    </tr>\n",
              "    <tr>\n",
              "      <th>Golden State Warriors</th>\n",
              "      <td>20.2</td>\n",
              "      <td>26.6</td>\n",
              "      <td>225.8</td>\n",
              "      <td>6.7e+06</td>\n",
              "    </tr>\n",
              "    <tr>\n",
              "      <th>Houston Rockets</th>\n",
              "      <td>15.3</td>\n",
              "      <td>26.9</td>\n",
              "      <td>213.9</td>\n",
              "      <td>4.4e+06</td>\n",
              "    </tr>\n",
              "    <tr>\n",
              "      <th>Indiana Pacers</th>\n",
              "      <td>20.4</td>\n",
              "      <td>25.7</td>\n",
              "      <td>222.3</td>\n",
              "      <td>4.0e+06</td>\n",
              "    </tr>\n",
              "    <tr>\n",
              "      <th>Los Angeles Clippers</th>\n",
              "      <td>20.3</td>\n",
              "      <td>28.8</td>\n",
              "      <td>222.2</td>\n",
              "      <td>6.7e+06</td>\n",
              "    </tr>\n",
              "    <tr>\n",
              "      <th>Los Angeles Lakers</th>\n",
              "      <td>15.4</td>\n",
              "      <td>26.2</td>\n",
              "      <td>234.9</td>\n",
              "      <td>3.3e+06</td>\n",
              "    </tr>\n",
              "    <tr>\n",
              "      <th>Memphis Grizzlies</th>\n",
              "      <td>14.5</td>\n",
              "      <td>28.8</td>\n",
              "      <td>219.2</td>\n",
              "      <td>4.4e+06</td>\n",
              "    </tr>\n",
              "    <tr>\n",
              "      <th>Miami Heat</th>\n",
              "      <td>10.8</td>\n",
              "      <td>28.8</td>\n",
              "      <td>226.6</td>\n",
              "      <td>6.6e+06</td>\n",
              "    </tr>\n",
              "    <tr>\n",
              "      <th>Milwaukee Bucks</th>\n",
              "      <td>19.2</td>\n",
              "      <td>25.1</td>\n",
              "      <td>222.6</td>\n",
              "      <td>4.8e+06</td>\n",
              "    </tr>\n",
              "    <tr>\n",
              "      <th>Minnesota Timberwolves</th>\n",
              "      <td>16.0</td>\n",
              "      <td>24.0</td>\n",
              "      <td>217.5</td>\n",
              "      <td>2.7e+06</td>\n",
              "    </tr>\n",
              "    <tr>\n",
              "      <th>New Orleans Pelicans</th>\n",
              "      <td>17.1</td>\n",
              "      <td>26.4</td>\n",
              "      <td>214.1</td>\n",
              "      <td>4.3e+06</td>\n",
              "    </tr>\n",
              "    <tr>\n",
              "      <th>New York Knicks</th>\n",
              "      <td>12.8</td>\n",
              "      <td>27.0</td>\n",
              "      <td>223.6</td>\n",
              "      <td>5.3e+06</td>\n",
              "    </tr>\n",
              "    <tr>\n",
              "      <th>Oklahoma City Thunder</th>\n",
              "      <td>14.4</td>\n",
              "      <td>27.1</td>\n",
              "      <td>228.3</td>\n",
              "      <td>5.8e+06</td>\n",
              "    </tr>\n",
              "    <tr>\n",
              "      <th>Orlando Magic</th>\n",
              "      <td>13.5</td>\n",
              "      <td>25.2</td>\n",
              "      <td>216.0</td>\n",
              "      <td>3.8e+06</td>\n",
              "    </tr>\n",
              "    <tr>\n",
              "      <th>Philadelphia 76ers</th>\n",
              "      <td>16.4</td>\n",
              "      <td>23.7</td>\n",
              "      <td>219.9</td>\n",
              "      <td>2.2e+06</td>\n",
              "    </tr>\n",
              "    <tr>\n",
              "      <th>Phoenix Suns</th>\n",
              "      <td>14.8</td>\n",
              "      <td>25.0</td>\n",
              "      <td>215.2</td>\n",
              "      <td>3.5e+06</td>\n",
              "    </tr>\n",
              "    <tr>\n",
              "      <th>Portland Trail Blazers</th>\n",
              "      <td>16.0</td>\n",
              "      <td>25.1</td>\n",
              "      <td>218.6</td>\n",
              "      <td>3.2e+06</td>\n",
              "    </tr>\n",
              "    <tr>\n",
              "      <th>Sacramento Kings</th>\n",
              "      <td>17.9</td>\n",
              "      <td>26.5</td>\n",
              "      <td>221.9</td>\n",
              "      <td>4.8e+06</td>\n",
              "    </tr>\n",
              "    <tr>\n",
              "      <th>San Antonio Spurs</th>\n",
              "      <td>15.2</td>\n",
              "      <td>31.0</td>\n",
              "      <td>220.8</td>\n",
              "      <td>5.4e+06</td>\n",
              "    </tr>\n",
              "    <tr>\n",
              "      <th>Toronto Raptors</th>\n",
              "      <td>19.6</td>\n",
              "      <td>26.6</td>\n",
              "      <td>216.2</td>\n",
              "      <td>5.7e+06</td>\n",
              "    </tr>\n",
              "    <tr>\n",
              "      <th>Utah Jazz</th>\n",
              "      <td>18.2</td>\n",
              "      <td>24.6</td>\n",
              "      <td>220.4</td>\n",
              "      <td>5.2e+06</td>\n",
              "    </tr>\n",
              "    <tr>\n",
              "      <th>Washington Wizards</th>\n",
              "      <td>16.1</td>\n",
              "      <td>27.2</td>\n",
              "      <td>215.0</td>\n",
              "      <td>4.0e+06</td>\n",
              "    </tr>\n",
              "  </tbody>\n",
              "</table>\n",
              "</div>\n",
              "      <button class=\"colab-df-convert\" onclick=\"convertToInteractive('df-90afd5d8-ec0c-45ee-b5dd-33b1594f2d5a')\"\n",
              "              title=\"Convert this dataframe to an interactive table.\"\n",
              "              style=\"display:none;\">\n",
              "        \n",
              "  <svg xmlns=\"http://www.w3.org/2000/svg\" height=\"24px\"viewBox=\"0 0 24 24\"\n",
              "       width=\"24px\">\n",
              "    <path d=\"M0 0h24v24H0V0z\" fill=\"none\"/>\n",
              "    <path d=\"M18.56 5.44l.94 2.06.94-2.06 2.06-.94-2.06-.94-.94-2.06-.94 2.06-2.06.94zm-11 1L8.5 8.5l.94-2.06 2.06-.94-2.06-.94L8.5 2.5l-.94 2.06-2.06.94zm10 10l.94 2.06.94-2.06 2.06-.94-2.06-.94-.94-2.06-.94 2.06-2.06.94z\"/><path d=\"M17.41 7.96l-1.37-1.37c-.4-.4-.92-.59-1.43-.59-.52 0-1.04.2-1.43.59L10.3 9.45l-7.72 7.72c-.78.78-.78 2.05 0 2.83L4 21.41c.39.39.9.59 1.41.59.51 0 1.02-.2 1.41-.59l7.78-7.78 2.81-2.81c.8-.78.8-2.07 0-2.86zM5.41 20L4 18.59l7.72-7.72 1.47 1.35L5.41 20z\"/>\n",
              "  </svg>\n",
              "      </button>\n",
              "      \n",
              "  <style>\n",
              "    .colab-df-container {\n",
              "      display:flex;\n",
              "      flex-wrap:wrap;\n",
              "      gap: 12px;\n",
              "    }\n",
              "\n",
              "    .colab-df-convert {\n",
              "      background-color: #E8F0FE;\n",
              "      border: none;\n",
              "      border-radius: 50%;\n",
              "      cursor: pointer;\n",
              "      display: none;\n",
              "      fill: #1967D2;\n",
              "      height: 32px;\n",
              "      padding: 0 0 0 0;\n",
              "      width: 32px;\n",
              "    }\n",
              "\n",
              "    .colab-df-convert:hover {\n",
              "      background-color: #E2EBFA;\n",
              "      box-shadow: 0px 1px 2px rgba(60, 64, 67, 0.3), 0px 1px 3px 1px rgba(60, 64, 67, 0.15);\n",
              "      fill: #174EA6;\n",
              "    }\n",
              "\n",
              "    [theme=dark] .colab-df-convert {\n",
              "      background-color: #3B4455;\n",
              "      fill: #D2E3FC;\n",
              "    }\n",
              "\n",
              "    [theme=dark] .colab-df-convert:hover {\n",
              "      background-color: #434B5C;\n",
              "      box-shadow: 0px 1px 3px 1px rgba(0, 0, 0, 0.15);\n",
              "      filter: drop-shadow(0px 1px 2px rgba(0, 0, 0, 0.3));\n",
              "      fill: #FFFFFF;\n",
              "    }\n",
              "  </style>\n",
              "\n",
              "      <script>\n",
              "        const buttonEl =\n",
              "          document.querySelector('#df-90afd5d8-ec0c-45ee-b5dd-33b1594f2d5a button.colab-df-convert');\n",
              "        buttonEl.style.display =\n",
              "          google.colab.kernel.accessAllowed ? 'block' : 'none';\n",
              "\n",
              "        async function convertToInteractive(key) {\n",
              "          const element = document.querySelector('#df-90afd5d8-ec0c-45ee-b5dd-33b1594f2d5a');\n",
              "          const dataTable =\n",
              "            await google.colab.kernel.invokeFunction('convertToInteractive',\n",
              "                                                     [key], {});\n",
              "          if (!dataTable) return;\n",
              "\n",
              "          const docLinkHtml = 'Like what you see? Visit the ' +\n",
              "            '<a target=\"_blank\" href=https://colab.research.google.com/notebooks/data_table.ipynb>data table notebook</a>'\n",
              "            + ' to learn more about interactive tables.';\n",
              "          element.innerHTML = '';\n",
              "          dataTable['output_type'] = 'display_data';\n",
              "          await google.colab.output.renderOutput(dataTable, element);\n",
              "          const docLink = document.createElement('div');\n",
              "          docLink.innerHTML = docLinkHtml;\n",
              "          element.appendChild(docLink);\n",
              "        }\n",
              "      </script>\n",
              "    </div>\n",
              "  </div>\n",
              "  "
            ],
            "text/plain": [
              "                        Number   Age  Weight   Salary\n",
              "Team                                                 \n",
              "Atlanta Hawks             19.1  28.5   220.2  5.1e+06\n",
              "Boston Celtics            29.2  23.8   218.0  3.5e+06\n",
              "Brooklyn Nets             16.9  25.8   216.2  3.7e+06\n",
              "Charlotte Hornets         17.5  25.7   216.7  4.0e+06\n",
              "Chicago Bulls             18.5  27.3   211.6  6.1e+06\n",
              "Cleveland Cavaliers       12.6  28.9   222.1  6.7e+06\n",
              "Dallas Mavericks          15.2  29.0   220.0  4.8e+06\n",
              "Denver Nuggets            11.1  27.8   208.7  4.2e+06\n",
              "Detroit Pistons           17.3  26.2   222.2  4.5e+06\n",
              "Golden State Warriors     20.2  26.6   225.8  6.7e+06\n",
              "Houston Rockets           15.3  26.9   213.9  4.4e+06\n",
              "Indiana Pacers            20.4  25.7   222.3  4.0e+06\n",
              "Los Angeles Clippers      20.3  28.8   222.2  6.7e+06\n",
              "Los Angeles Lakers        15.4  26.2   234.9  3.3e+06\n",
              "Memphis Grizzlies         14.5  28.8   219.2  4.4e+06\n",
              "Miami Heat                10.8  28.8   226.6  6.6e+06\n",
              "Milwaukee Bucks           19.2  25.1   222.6  4.8e+06\n",
              "Minnesota Timberwolves    16.0  24.0   217.5  2.7e+06\n",
              "New Orleans Pelicans      17.1  26.4   214.1  4.3e+06\n",
              "New York Knicks           12.8  27.0   223.6  5.3e+06\n",
              "Oklahoma City Thunder     14.4  27.1   228.3  5.8e+06\n",
              "Orlando Magic             13.5  25.2   216.0  3.8e+06\n",
              "Philadelphia 76ers        16.4  23.7   219.9  2.2e+06\n",
              "Phoenix Suns              14.8  25.0   215.2  3.5e+06\n",
              "Portland Trail Blazers    16.0  25.1   218.6  3.2e+06\n",
              "Sacramento Kings          17.9  26.5   221.9  4.8e+06\n",
              "San Antonio Spurs         15.2  31.0   220.8  5.4e+06\n",
              "Toronto Raptors           19.6  26.6   216.2  5.7e+06\n",
              "Utah Jazz                 18.2  24.6   220.4  5.2e+06\n",
              "Washington Wizards        16.1  27.2   215.0  4.0e+06"
            ]
          },
          "metadata": {},
          "execution_count": 54
        }
      ]
    },
    {
      "cell_type": "code",
      "source": [
        "nba.groupby(['Team']).agg(Salary_Mean =('Salary','mean')).head(9)"
      ],
      "metadata": {
        "colab": {
          "base_uri": "https://localhost:8080/",
          "height": 363
        },
        "id": "s4pU8glhP7Bz",
        "outputId": "5be5d585-77c7-4e56-9605-cf72435416b0"
      },
      "execution_count": 55,
      "outputs": [
        {
          "output_type": "execute_result",
          "data": {
            "text/html": [
              "\n",
              "  <div id=\"df-aa07fe94-9968-48a9-afb1-10ea8150de92\">\n",
              "    <div class=\"colab-df-container\">\n",
              "      <div>\n",
              "<style scoped>\n",
              "    .dataframe tbody tr th:only-of-type {\n",
              "        vertical-align: middle;\n",
              "    }\n",
              "\n",
              "    .dataframe tbody tr th {\n",
              "        vertical-align: top;\n",
              "    }\n",
              "\n",
              "    .dataframe thead th {\n",
              "        text-align: right;\n",
              "    }\n",
              "</style>\n",
              "<table border=\"1\" class=\"dataframe\">\n",
              "  <thead>\n",
              "    <tr style=\"text-align: right;\">\n",
              "      <th></th>\n",
              "      <th>Salary_Mean</th>\n",
              "    </tr>\n",
              "    <tr>\n",
              "      <th>Team</th>\n",
              "      <th></th>\n",
              "    </tr>\n",
              "  </thead>\n",
              "  <tbody>\n",
              "    <tr>\n",
              "      <th>Atlanta Hawks</th>\n",
              "      <td>5.1e+06</td>\n",
              "    </tr>\n",
              "    <tr>\n",
              "      <th>Boston Celtics</th>\n",
              "      <td>3.5e+06</td>\n",
              "    </tr>\n",
              "    <tr>\n",
              "      <th>Brooklyn Nets</th>\n",
              "      <td>3.7e+06</td>\n",
              "    </tr>\n",
              "    <tr>\n",
              "      <th>Charlotte Hornets</th>\n",
              "      <td>4.0e+06</td>\n",
              "    </tr>\n",
              "    <tr>\n",
              "      <th>Chicago Bulls</th>\n",
              "      <td>6.1e+06</td>\n",
              "    </tr>\n",
              "    <tr>\n",
              "      <th>Cleveland Cavaliers</th>\n",
              "      <td>6.7e+06</td>\n",
              "    </tr>\n",
              "    <tr>\n",
              "      <th>Dallas Mavericks</th>\n",
              "      <td>4.8e+06</td>\n",
              "    </tr>\n",
              "    <tr>\n",
              "      <th>Denver Nuggets</th>\n",
              "      <td>4.2e+06</td>\n",
              "    </tr>\n",
              "    <tr>\n",
              "      <th>Detroit Pistons</th>\n",
              "      <td>4.5e+06</td>\n",
              "    </tr>\n",
              "  </tbody>\n",
              "</table>\n",
              "</div>\n",
              "      <button class=\"colab-df-convert\" onclick=\"convertToInteractive('df-aa07fe94-9968-48a9-afb1-10ea8150de92')\"\n",
              "              title=\"Convert this dataframe to an interactive table.\"\n",
              "              style=\"display:none;\">\n",
              "        \n",
              "  <svg xmlns=\"http://www.w3.org/2000/svg\" height=\"24px\"viewBox=\"0 0 24 24\"\n",
              "       width=\"24px\">\n",
              "    <path d=\"M0 0h24v24H0V0z\" fill=\"none\"/>\n",
              "    <path d=\"M18.56 5.44l.94 2.06.94-2.06 2.06-.94-2.06-.94-.94-2.06-.94 2.06-2.06.94zm-11 1L8.5 8.5l.94-2.06 2.06-.94-2.06-.94L8.5 2.5l-.94 2.06-2.06.94zm10 10l.94 2.06.94-2.06 2.06-.94-2.06-.94-.94-2.06-.94 2.06-2.06.94z\"/><path d=\"M17.41 7.96l-1.37-1.37c-.4-.4-.92-.59-1.43-.59-.52 0-1.04.2-1.43.59L10.3 9.45l-7.72 7.72c-.78.78-.78 2.05 0 2.83L4 21.41c.39.39.9.59 1.41.59.51 0 1.02-.2 1.41-.59l7.78-7.78 2.81-2.81c.8-.78.8-2.07 0-2.86zM5.41 20L4 18.59l7.72-7.72 1.47 1.35L5.41 20z\"/>\n",
              "  </svg>\n",
              "      </button>\n",
              "      \n",
              "  <style>\n",
              "    .colab-df-container {\n",
              "      display:flex;\n",
              "      flex-wrap:wrap;\n",
              "      gap: 12px;\n",
              "    }\n",
              "\n",
              "    .colab-df-convert {\n",
              "      background-color: #E8F0FE;\n",
              "      border: none;\n",
              "      border-radius: 50%;\n",
              "      cursor: pointer;\n",
              "      display: none;\n",
              "      fill: #1967D2;\n",
              "      height: 32px;\n",
              "      padding: 0 0 0 0;\n",
              "      width: 32px;\n",
              "    }\n",
              "\n",
              "    .colab-df-convert:hover {\n",
              "      background-color: #E2EBFA;\n",
              "      box-shadow: 0px 1px 2px rgba(60, 64, 67, 0.3), 0px 1px 3px 1px rgba(60, 64, 67, 0.15);\n",
              "      fill: #174EA6;\n",
              "    }\n",
              "\n",
              "    [theme=dark] .colab-df-convert {\n",
              "      background-color: #3B4455;\n",
              "      fill: #D2E3FC;\n",
              "    }\n",
              "\n",
              "    [theme=dark] .colab-df-convert:hover {\n",
              "      background-color: #434B5C;\n",
              "      box-shadow: 0px 1px 3px 1px rgba(0, 0, 0, 0.15);\n",
              "      filter: drop-shadow(0px 1px 2px rgba(0, 0, 0, 0.3));\n",
              "      fill: #FFFFFF;\n",
              "    }\n",
              "  </style>\n",
              "\n",
              "      <script>\n",
              "        const buttonEl =\n",
              "          document.querySelector('#df-aa07fe94-9968-48a9-afb1-10ea8150de92 button.colab-df-convert');\n",
              "        buttonEl.style.display =\n",
              "          google.colab.kernel.accessAllowed ? 'block' : 'none';\n",
              "\n",
              "        async function convertToInteractive(key) {\n",
              "          const element = document.querySelector('#df-aa07fe94-9968-48a9-afb1-10ea8150de92');\n",
              "          const dataTable =\n",
              "            await google.colab.kernel.invokeFunction('convertToInteractive',\n",
              "                                                     [key], {});\n",
              "          if (!dataTable) return;\n",
              "\n",
              "          const docLinkHtml = 'Like what you see? Visit the ' +\n",
              "            '<a target=\"_blank\" href=https://colab.research.google.com/notebooks/data_table.ipynb>data table notebook</a>'\n",
              "            + ' to learn more about interactive tables.';\n",
              "          element.innerHTML = '';\n",
              "          dataTable['output_type'] = 'display_data';\n",
              "          await google.colab.output.renderOutput(dataTable, element);\n",
              "          const docLink = document.createElement('div');\n",
              "          docLink.innerHTML = docLinkHtml;\n",
              "          element.appendChild(docLink);\n",
              "        }\n",
              "      </script>\n",
              "    </div>\n",
              "  </div>\n",
              "  "
            ],
            "text/plain": [
              "                     Salary_Mean\n",
              "Team                            \n",
              "Atlanta Hawks            5.1e+06\n",
              "Boston Celtics           3.5e+06\n",
              "Brooklyn Nets            3.7e+06\n",
              "Charlotte Hornets        4.0e+06\n",
              "Chicago Bulls            6.1e+06\n",
              "Cleveland Cavaliers      6.7e+06\n",
              "Dallas Mavericks         4.8e+06\n",
              "Denver Nuggets           4.2e+06\n",
              "Detroit Pistons          4.5e+06"
            ]
          },
          "metadata": {},
          "execution_count": 55
        }
      ]
    },
    {
      "cell_type": "code",
      "source": [
        "# With Aggregation:\n",
        "nba.groupby(['Team'])\\\n",
        ".agg(avr_Age = ('Age', 'mean'),\n",
        "    avr_Weight = ('Weight','mean'),\n",
        "    avr_Salary =('Salary','mean'))\\\n",
        ".sort_values('avr_Salary', ascending=False)\\\n",
        ".head(5)"
      ],
      "metadata": {
        "colab": {
          "base_uri": "https://localhost:8080/",
          "height": 238
        },
        "id": "uq0VaK3gWUKy",
        "outputId": "91bcfce9-bdd3-4ec5-9330-93ab4f21a698"
      },
      "execution_count": 56,
      "outputs": [
        {
          "output_type": "execute_result",
          "data": {
            "text/html": [
              "\n",
              "  <div id=\"df-7b48deb0-3a62-48e4-af9f-a3d604f4c8cf\">\n",
              "    <div class=\"colab-df-container\">\n",
              "      <div>\n",
              "<style scoped>\n",
              "    .dataframe tbody tr th:only-of-type {\n",
              "        vertical-align: middle;\n",
              "    }\n",
              "\n",
              "    .dataframe tbody tr th {\n",
              "        vertical-align: top;\n",
              "    }\n",
              "\n",
              "    .dataframe thead th {\n",
              "        text-align: right;\n",
              "    }\n",
              "</style>\n",
              "<table border=\"1\" class=\"dataframe\">\n",
              "  <thead>\n",
              "    <tr style=\"text-align: right;\">\n",
              "      <th></th>\n",
              "      <th>avr_Age</th>\n",
              "      <th>avr_Weight</th>\n",
              "      <th>avr_Salary</th>\n",
              "    </tr>\n",
              "    <tr>\n",
              "      <th>Team</th>\n",
              "      <th></th>\n",
              "      <th></th>\n",
              "      <th></th>\n",
              "    </tr>\n",
              "  </thead>\n",
              "  <tbody>\n",
              "    <tr>\n",
              "      <th>Cleveland Cavaliers</th>\n",
              "      <td>28.9</td>\n",
              "      <td>222.1</td>\n",
              "      <td>6.7e+06</td>\n",
              "    </tr>\n",
              "    <tr>\n",
              "      <th>Golden State Warriors</th>\n",
              "      <td>26.6</td>\n",
              "      <td>225.8</td>\n",
              "      <td>6.7e+06</td>\n",
              "    </tr>\n",
              "    <tr>\n",
              "      <th>Los Angeles Clippers</th>\n",
              "      <td>28.8</td>\n",
              "      <td>222.2</td>\n",
              "      <td>6.7e+06</td>\n",
              "    </tr>\n",
              "    <tr>\n",
              "      <th>Miami Heat</th>\n",
              "      <td>28.8</td>\n",
              "      <td>226.6</td>\n",
              "      <td>6.6e+06</td>\n",
              "    </tr>\n",
              "    <tr>\n",
              "      <th>Chicago Bulls</th>\n",
              "      <td>27.3</td>\n",
              "      <td>211.6</td>\n",
              "      <td>6.1e+06</td>\n",
              "    </tr>\n",
              "  </tbody>\n",
              "</table>\n",
              "</div>\n",
              "      <button class=\"colab-df-convert\" onclick=\"convertToInteractive('df-7b48deb0-3a62-48e4-af9f-a3d604f4c8cf')\"\n",
              "              title=\"Convert this dataframe to an interactive table.\"\n",
              "              style=\"display:none;\">\n",
              "        \n",
              "  <svg xmlns=\"http://www.w3.org/2000/svg\" height=\"24px\"viewBox=\"0 0 24 24\"\n",
              "       width=\"24px\">\n",
              "    <path d=\"M0 0h24v24H0V0z\" fill=\"none\"/>\n",
              "    <path d=\"M18.56 5.44l.94 2.06.94-2.06 2.06-.94-2.06-.94-.94-2.06-.94 2.06-2.06.94zm-11 1L8.5 8.5l.94-2.06 2.06-.94-2.06-.94L8.5 2.5l-.94 2.06-2.06.94zm10 10l.94 2.06.94-2.06 2.06-.94-2.06-.94-.94-2.06-.94 2.06-2.06.94z\"/><path d=\"M17.41 7.96l-1.37-1.37c-.4-.4-.92-.59-1.43-.59-.52 0-1.04.2-1.43.59L10.3 9.45l-7.72 7.72c-.78.78-.78 2.05 0 2.83L4 21.41c.39.39.9.59 1.41.59.51 0 1.02-.2 1.41-.59l7.78-7.78 2.81-2.81c.8-.78.8-2.07 0-2.86zM5.41 20L4 18.59l7.72-7.72 1.47 1.35L5.41 20z\"/>\n",
              "  </svg>\n",
              "      </button>\n",
              "      \n",
              "  <style>\n",
              "    .colab-df-container {\n",
              "      display:flex;\n",
              "      flex-wrap:wrap;\n",
              "      gap: 12px;\n",
              "    }\n",
              "\n",
              "    .colab-df-convert {\n",
              "      background-color: #E8F0FE;\n",
              "      border: none;\n",
              "      border-radius: 50%;\n",
              "      cursor: pointer;\n",
              "      display: none;\n",
              "      fill: #1967D2;\n",
              "      height: 32px;\n",
              "      padding: 0 0 0 0;\n",
              "      width: 32px;\n",
              "    }\n",
              "\n",
              "    .colab-df-convert:hover {\n",
              "      background-color: #E2EBFA;\n",
              "      box-shadow: 0px 1px 2px rgba(60, 64, 67, 0.3), 0px 1px 3px 1px rgba(60, 64, 67, 0.15);\n",
              "      fill: #174EA6;\n",
              "    }\n",
              "\n",
              "    [theme=dark] .colab-df-convert {\n",
              "      background-color: #3B4455;\n",
              "      fill: #D2E3FC;\n",
              "    }\n",
              "\n",
              "    [theme=dark] .colab-df-convert:hover {\n",
              "      background-color: #434B5C;\n",
              "      box-shadow: 0px 1px 3px 1px rgba(0, 0, 0, 0.15);\n",
              "      filter: drop-shadow(0px 1px 2px rgba(0, 0, 0, 0.3));\n",
              "      fill: #FFFFFF;\n",
              "    }\n",
              "  </style>\n",
              "\n",
              "      <script>\n",
              "        const buttonEl =\n",
              "          document.querySelector('#df-7b48deb0-3a62-48e4-af9f-a3d604f4c8cf button.colab-df-convert');\n",
              "        buttonEl.style.display =\n",
              "          google.colab.kernel.accessAllowed ? 'block' : 'none';\n",
              "\n",
              "        async function convertToInteractive(key) {\n",
              "          const element = document.querySelector('#df-7b48deb0-3a62-48e4-af9f-a3d604f4c8cf');\n",
              "          const dataTable =\n",
              "            await google.colab.kernel.invokeFunction('convertToInteractive',\n",
              "                                                     [key], {});\n",
              "          if (!dataTable) return;\n",
              "\n",
              "          const docLinkHtml = 'Like what you see? Visit the ' +\n",
              "            '<a target=\"_blank\" href=https://colab.research.google.com/notebooks/data_table.ipynb>data table notebook</a>'\n",
              "            + ' to learn more about interactive tables.';\n",
              "          element.innerHTML = '';\n",
              "          dataTable['output_type'] = 'display_data';\n",
              "          await google.colab.output.renderOutput(dataTable, element);\n",
              "          const docLink = document.createElement('div');\n",
              "          docLink.innerHTML = docLinkHtml;\n",
              "          element.appendChild(docLink);\n",
              "        }\n",
              "      </script>\n",
              "    </div>\n",
              "  </div>\n",
              "  "
            ],
            "text/plain": [
              "                       avr_Age  avr_Weight  avr_Salary\n",
              "Team                                                  \n",
              "Cleveland Cavaliers       28.9       222.1     6.7e+06\n",
              "Golden State Warriors     26.6       225.8     6.7e+06\n",
              "Los Angeles Clippers      28.8       222.2     6.7e+06\n",
              "Miami Heat                28.8       226.6     6.6e+06\n",
              "Chicago Bulls             27.3       211.6     6.1e+06"
            ]
          },
          "metadata": {},
          "execution_count": 56
        }
      ]
    },
    {
      "cell_type": "code",
      "source": [
        "by_team = nba.groupby('Team')\n",
        "by_team.size().plot(kind='bar')"
      ],
      "metadata": {
        "id": "t8AgNBYRzYkn",
        "colab": {
          "base_uri": "https://localhost:8080/",
          "height": 410
        },
        "outputId": "7318efa0-17a7-4ecf-8227-3997556e2b8b"
      },
      "execution_count": 57,
      "outputs": [
        {
          "output_type": "execute_result",
          "data": {
            "text/plain": [
              "<matplotlib.axes._subplots.AxesSubplot at 0x7fa30b717390>"
            ]
          },
          "metadata": {},
          "execution_count": 57
        },
        {
          "output_type": "display_data",
          "data": {
            "image/png": "[encoded data removed]",
            "text/plain": [
              "<Figure size 432x288 with 1 Axes>"
            ]
          },
          "metadata": {
            "needs_background": "light"
          }
        }
      ]
    },
    {
      "cell_type": "code",
      "source": [
        ""
      ],
      "metadata": {
        "id": "-hbCoZubzR_f"
      },
      "execution_count": 57,
      "outputs": []
    },
    {
      "cell_type": "markdown",
      "source": [
        "## Determine by graphic whether the Salary are affected by the Team: "
      ],
      "metadata": {
        "id": "xPlaj44IzA4T"
      }
    },
    {
      "cell_type": "code",
      "source": [
        "plt.figure(figsize = (16,6))\n",
        "\n",
        "sns.scatterplot(data = nba,\n",
        "               x = 'Team',\n",
        "               y = 'Salary');"
      ],
      "metadata": {
        "colab": {
          "base_uri": "https://localhost:8080/",
          "height": 399
        },
        "id": "wYGtlVETzELC",
        "outputId": "d241907b-ffa9-4f05-f311-06c3c4b97048"
      },
      "execution_count": 58,
      "outputs": [
        {
          "output_type": "display_data",
          "data": {
            "image/png": "[encoded data removed]",
            "text/plain": [
              "<Figure size 1152x432 with 1 Axes>"
            ]
          },
          "metadata": {
            "needs_background": "light"
          }
        }
      ]
    },
    {
      "cell_type": "markdown",
      "source": [
        "## GroupBy according to College"
      ],
      "metadata": {
        "id": "kHSuAJKEWl53"
      }
    },
    {
      "cell_type": "code",
      "source": [
        "# Short way:\n",
        "nba.groupby(['College']).mean()"
      ],
      "metadata": {
        "colab": {
          "base_uri": "https://localhost:8080/",
          "height": 455
        },
        "id": "j_Y-TfJLZWar",
        "outputId": "1537f440-1936-4c99-895f-2efab6242437"
      },
      "execution_count": 59,
      "outputs": [
        {
          "output_type": "execute_result",
          "data": {
            "text/html": [
              "\n",
              "  <div id=\"df-5af85283-3295-4277-a5d7-2abbf7218574\">\n",
              "    <div class=\"colab-df-container\">\n",
              "      <div>\n",
              "<style scoped>\n",
              "    .dataframe tbody tr th:only-of-type {\n",
              "        vertical-align: middle;\n",
              "    }\n",
              "\n",
              "    .dataframe tbody tr th {\n",
              "        vertical-align: top;\n",
              "    }\n",
              "\n",
              "    .dataframe thead th {\n",
              "        text-align: right;\n",
              "    }\n",
              "</style>\n",
              "<table border=\"1\" class=\"dataframe\">\n",
              "  <thead>\n",
              "    <tr style=\"text-align: right;\">\n",
              "      <th></th>\n",
              "      <th>Number</th>\n",
              "      <th>Age</th>\n",
              "      <th>Weight</th>\n",
              "      <th>Salary</th>\n",
              "    </tr>\n",
              "    <tr>\n",
              "      <th>College</th>\n",
              "      <th></th>\n",
              "      <th></th>\n",
              "      <th></th>\n",
              "      <th></th>\n",
              "    </tr>\n",
              "  </thead>\n",
              "  <tbody>\n",
              "    <tr>\n",
              "      <th>Alabama</th>\n",
              "      <td>22.3</td>\n",
              "      <td>29.0</td>\n",
              "      <td>216.7</td>\n",
              "      <td>1.4e+06</td>\n",
              "    </tr>\n",
              "    <tr>\n",
              "      <th>Arizona</th>\n",
              "      <td>18.1</td>\n",
              "      <td>27.4</td>\n",
              "      <td>221.7</td>\n",
              "      <td>3.3e+06</td>\n",
              "    </tr>\n",
              "    <tr>\n",
              "      <th>Arizona State</th>\n",
              "      <td>16.0</td>\n",
              "      <td>27.5</td>\n",
              "      <td>235.0</td>\n",
              "      <td>7.9e+06</td>\n",
              "    </tr>\n",
              "    <tr>\n",
              "      <th>Arkansas</th>\n",
              "      <td>3.0</td>\n",
              "      <td>27.3</td>\n",
              "      <td>218.3</td>\n",
              "      <td>2.7e+06</td>\n",
              "    </tr>\n",
              "    <tr>\n",
              "      <th>Baylor</th>\n",
              "      <td>13.0</td>\n",
              "      <td>25.0</td>\n",
              "      <td>240.0</td>\n",
              "      <td>9.8e+05</td>\n",
              "    </tr>\n",
              "    <tr>\n",
              "      <th>...</th>\n",
              "      <td>...</td>\n",
              "      <td>...</td>\n",
              "      <td>...</td>\n",
              "      <td>...</td>\n",
              "    </tr>\n",
              "    <tr>\n",
              "      <th>Western Michigan</th>\n",
              "      <td>42.0</td>\n",
              "      <td>25.0</td>\n",
              "      <td>250.0</td>\n",
              "      <td>8.5e+05</td>\n",
              "    </tr>\n",
              "    <tr>\n",
              "      <th>Wichita State</th>\n",
              "      <td>11.0</td>\n",
              "      <td>25.0</td>\n",
              "      <td>210.0</td>\n",
              "      <td>8.5e+05</td>\n",
              "    </tr>\n",
              "    <tr>\n",
              "      <th>Wisconsin</th>\n",
              "      <td>28.2</td>\n",
              "      <td>25.8</td>\n",
              "      <td>220.6</td>\n",
              "      <td>2.0e+06</td>\n",
              "    </tr>\n",
              "    <tr>\n",
              "      <th>Wyoming</th>\n",
              "      <td>7.0</td>\n",
              "      <td>23.0</td>\n",
              "      <td>230.0</td>\n",
              "      <td>1.2e+06</td>\n",
              "    </tr>\n",
              "    <tr>\n",
              "      <th>Xavier</th>\n",
              "      <td>30.0</td>\n",
              "      <td>35.0</td>\n",
              "      <td>250.0</td>\n",
              "      <td>1.5e+06</td>\n",
              "    </tr>\n",
              "  </tbody>\n",
              "</table>\n",
              "<p>115 rows × 4 columns</p>\n",
              "</div>\n",
              "      <button class=\"colab-df-convert\" onclick=\"convertToInteractive('df-5af85283-3295-4277-a5d7-2abbf7218574')\"\n",
              "              title=\"Convert this dataframe to an interactive table.\"\n",
              "              style=\"display:none;\">\n",
              "        \n",
              "  <svg xmlns=\"http://www.w3.org/2000/svg\" height=\"24px\"viewBox=\"0 0 24 24\"\n",
              "       width=\"24px\">\n",
              "    <path d=\"M0 0h24v24H0V0z\" fill=\"none\"/>\n",
              "    <path d=\"M18.56 5.44l.94 2.06.94-2.06 2.06-.94-2.06-.94-.94-2.06-.94 2.06-2.06.94zm-11 1L8.5 8.5l.94-2.06 2.06-.94-2.06-.94L8.5 2.5l-.94 2.06-2.06.94zm10 10l.94 2.06.94-2.06 2.06-.94-2.06-.94-.94-2.06-.94 2.06-2.06.94z\"/><path d=\"M17.41 7.96l-1.37-1.37c-.4-.4-.92-.59-1.43-.59-.52 0-1.04.2-1.43.59L10.3 9.45l-7.72 7.72c-.78.78-.78 2.05 0 2.83L4 21.41c.39.39.9.59 1.41.59.51 0 1.02-.2 1.41-.59l7.78-7.78 2.81-2.81c.8-.78.8-2.07 0-2.86zM5.41 20L4 18.59l7.72-7.72 1.47 1.35L5.41 20z\"/>\n",
              "  </svg>\n",
              "      </button>\n",
              "      \n",
              "  <style>\n",
              "    .colab-df-container {\n",
              "      display:flex;\n",
              "      flex-wrap:wrap;\n",
              "      gap: 12px;\n",
              "    }\n",
              "\n",
              "    .colab-df-convert {\n",
              "      background-color: #E8F0FE;\n",
              "      border: none;\n",
              "      border-radius: 50%;\n",
              "      cursor: pointer;\n",
              "      display: none;\n",
              "      fill: #1967D2;\n",
              "      height: 32px;\n",
              "      padding: 0 0 0 0;\n",
              "      width: 32px;\n",
              "    }\n",
              "\n",
              "    .colab-df-convert:hover {\n",
              "      background-color: #E2EBFA;\n",
              "      box-shadow: 0px 1px 2px rgba(60, 64, 67, 0.3), 0px 1px 3px 1px rgba(60, 64, 67, 0.15);\n",
              "      fill: #174EA6;\n",
              "    }\n",
              "\n",
              "    [theme=dark] .colab-df-convert {\n",
              "      background-color: #3B4455;\n",
              "      fill: #D2E3FC;\n",
              "    }\n",
              "\n",
              "    [theme=dark] .colab-df-convert:hover {\n",
              "      background-color: #434B5C;\n",
              "      box-shadow: 0px 1px 3px 1px rgba(0, 0, 0, 0.15);\n",
              "      filter: drop-shadow(0px 1px 2px rgba(0, 0, 0, 0.3));\n",
              "      fill: #FFFFFF;\n",
              "    }\n",
              "  </style>\n",
              "\n",
              "      <script>\n",
              "        const buttonEl =\n",
              "          document.querySelector('#df-5af85283-3295-4277-a5d7-2abbf7218574 button.colab-df-convert');\n",
              "        buttonEl.style.display =\n",
              "          google.colab.kernel.accessAllowed ? 'block' : 'none';\n",
              "\n",
              "        async function convertToInteractive(key) {\n",
              "          const element = document.querySelector('#df-5af85283-3295-4277-a5d7-2abbf7218574');\n",
              "          const dataTable =\n",
              "            await google.colab.kernel.invokeFunction('convertToInteractive',\n",
              "                                                     [key], {});\n",
              "          if (!dataTable) return;\n",
              "\n",
              "          const docLinkHtml = 'Like what you see? Visit the ' +\n",
              "            '<a target=\"_blank\" href=https://colab.research.google.com/notebooks/data_table.ipynb>data table notebook</a>'\n",
              "            + ' to learn more about interactive tables.';\n",
              "          element.innerHTML = '';\n",
              "          dataTable['output_type'] = 'display_data';\n",
              "          await google.colab.output.renderOutput(dataTable, element);\n",
              "          const docLink = document.createElement('div');\n",
              "          docLink.innerHTML = docLinkHtml;\n",
              "          element.appendChild(docLink);\n",
              "        }\n",
              "      </script>\n",
              "    </div>\n",
              "  </div>\n",
              "  "
            ],
            "text/plain": [
              "                  Number   Age  Weight   Salary\n",
              "College                                        \n",
              "Alabama             22.3  29.0   216.7  1.4e+06\n",
              "Arizona             18.1  27.4   221.7  3.3e+06\n",
              "Arizona State       16.0  27.5   235.0  7.9e+06\n",
              "Arkansas             3.0  27.3   218.3  2.7e+06\n",
              "Baylor              13.0  25.0   240.0  9.8e+05\n",
              "...                  ...   ...     ...      ...\n",
              "Western Michigan    42.0  25.0   250.0  8.5e+05\n",
              "Wichita State       11.0  25.0   210.0  8.5e+05\n",
              "Wisconsin           28.2  25.8   220.6  2.0e+06\n",
              "Wyoming              7.0  23.0   230.0  1.2e+06\n",
              "Xavier              30.0  35.0   250.0  1.5e+06\n",
              "\n",
              "[115 rows x 4 columns]"
            ]
          },
          "metadata": {},
          "execution_count": 59
        }
      ]
    },
    {
      "cell_type": "code",
      "source": [
        "# With Aggregation:\n",
        "nba.groupby(['College'])\\\n",
        ".agg(avr_Age = ('Age', 'mean'),\n",
        "    avr_Weight = ('Weight','mean'),\n",
        "    avr_Salary =('Salary','mean'))\\\n",
        ".sort_values('avr_Salary', ascending=False)\\\n",
        ".head(5)"
      ],
      "metadata": {
        "colab": {
          "base_uri": "https://localhost:8080/",
          "height": 238
        },
        "id": "p7sN3neXWYGs",
        "outputId": "833d4ff9-ac6b-4382-e025-8cb1bf8060b2"
      },
      "execution_count": 60,
      "outputs": [
        {
          "output_type": "execute_result",
          "data": {
            "text/html": [
              "\n",
              "  <div id=\"df-be4ed371-09f7-4f59-b13c-8d6b699d5438\">\n",
              "    <div class=\"colab-df-container\">\n",
              "      <div>\n",
              "<style scoped>\n",
              "    .dataframe tbody tr th:only-of-type {\n",
              "        vertical-align: middle;\n",
              "    }\n",
              "\n",
              "    .dataframe tbody tr th {\n",
              "        vertical-align: top;\n",
              "    }\n",
              "\n",
              "    .dataframe thead th {\n",
              "        text-align: right;\n",
              "    }\n",
              "</style>\n",
              "<table border=\"1\" class=\"dataframe\">\n",
              "  <thead>\n",
              "    <tr style=\"text-align: right;\">\n",
              "      <th></th>\n",
              "      <th>avr_Age</th>\n",
              "      <th>avr_Weight</th>\n",
              "      <th>avr_Salary</th>\n",
              "    </tr>\n",
              "    <tr>\n",
              "      <th>College</th>\n",
              "      <th></th>\n",
              "      <th></th>\n",
              "      <th></th>\n",
              "    </tr>\n",
              "  </thead>\n",
              "  <tbody>\n",
              "    <tr>\n",
              "      <th>Oklahoma</th>\n",
              "      <td>27.0</td>\n",
              "      <td>251.0</td>\n",
              "      <td>1.9e+07</td>\n",
              "    </tr>\n",
              "    <tr>\n",
              "      <th>Louisiana Tech</th>\n",
              "      <td>31.0</td>\n",
              "      <td>246.0</td>\n",
              "      <td>1.9e+07</td>\n",
              "    </tr>\n",
              "    <tr>\n",
              "      <th>San Diego State</th>\n",
              "      <td>24.0</td>\n",
              "      <td>230.0</td>\n",
              "      <td>1.6e+07</td>\n",
              "    </tr>\n",
              "    <tr>\n",
              "      <th>Marquette</th>\n",
              "      <td>29.2</td>\n",
              "      <td>224.0</td>\n",
              "      <td>1.2e+07</td>\n",
              "    </tr>\n",
              "    <tr>\n",
              "      <th>Texas A&amp;M</th>\n",
              "      <td>26.3</td>\n",
              "      <td>234.7</td>\n",
              "      <td>1.2e+07</td>\n",
              "    </tr>\n",
              "  </tbody>\n",
              "</table>\n",
              "</div>\n",
              "      <button class=\"colab-df-convert\" onclick=\"convertToInteractive('df-be4ed371-09f7-4f59-b13c-8d6b699d5438')\"\n",
              "              title=\"Convert this dataframe to an interactive table.\"\n",
              "              style=\"display:none;\">\n",
              "        \n",
              "  <svg xmlns=\"http://www.w3.org/2000/svg\" height=\"24px\"viewBox=\"0 0 24 24\"\n",
              "       width=\"24px\">\n",
              "    <path d=\"M0 0h24v24H0V0z\" fill=\"none\"/>\n",
              "    <path d=\"M18.56 5.44l.94 2.06.94-2.06 2.06-.94-2.06-.94-.94-2.06-.94 2.06-2.06.94zm-11 1L8.5 8.5l.94-2.06 2.06-.94-2.06-.94L8.5 2.5l-.94 2.06-2.06.94zm10 10l.94 2.06.94-2.06 2.06-.94-2.06-.94-.94-2.06-.94 2.06-2.06.94z\"/><path d=\"M17.41 7.96l-1.37-1.37c-.4-.4-.92-.59-1.43-.59-.52 0-1.04.2-1.43.59L10.3 9.45l-7.72 7.72c-.78.78-.78 2.05 0 2.83L4 21.41c.39.39.9.59 1.41.59.51 0 1.02-.2 1.41-.59l7.78-7.78 2.81-2.81c.8-.78.8-2.07 0-2.86zM5.41 20L4 18.59l7.72-7.72 1.47 1.35L5.41 20z\"/>\n",
              "  </svg>\n",
              "      </button>\n",
              "      \n",
              "  <style>\n",
              "    .colab-df-container {\n",
              "      display:flex;\n",
              "      flex-wrap:wrap;\n",
              "      gap: 12px;\n",
              "    }\n",
              "\n",
              "    .colab-df-convert {\n",
              "      background-color: #E8F0FE;\n",
              "      border: none;\n",
              "      border-radius: 50%;\n",
              "      cursor: pointer;\n",
              "      display: none;\n",
              "      fill: #1967D2;\n",
              "      height: 32px;\n",
              "      padding: 0 0 0 0;\n",
              "      width: 32px;\n",
              "    }\n",
              "\n",
              "    .colab-df-convert:hover {\n",
              "      background-color: #E2EBFA;\n",
              "      box-shadow: 0px 1px 2px rgba(60, 64, 67, 0.3), 0px 1px 3px 1px rgba(60, 64, 67, 0.15);\n",
              "      fill: #174EA6;\n",
              "    }\n",
              "\n",
              "    [theme=dark] .colab-df-convert {\n",
              "      background-color: #3B4455;\n",
              "      fill: #D2E3FC;\n",
              "    }\n",
              "\n",
              "    [theme=dark] .colab-df-convert:hover {\n",
              "      background-color: #434B5C;\n",
              "      box-shadow: 0px 1px 3px 1px rgba(0, 0, 0, 0.15);\n",
              "      filter: drop-shadow(0px 1px 2px rgba(0, 0, 0, 0.3));\n",
              "      fill: #FFFFFF;\n",
              "    }\n",
              "  </style>\n",
              "\n",
              "      <script>\n",
              "        const buttonEl =\n",
              "          document.querySelector('#df-be4ed371-09f7-4f59-b13c-8d6b699d5438 button.colab-df-convert');\n",
              "        buttonEl.style.display =\n",
              "          google.colab.kernel.accessAllowed ? 'block' : 'none';\n",
              "\n",
              "        async function convertToInteractive(key) {\n",
              "          const element = document.querySelector('#df-be4ed371-09f7-4f59-b13c-8d6b699d5438');\n",
              "          const dataTable =\n",
              "            await google.colab.kernel.invokeFunction('convertToInteractive',\n",
              "                                                     [key], {});\n",
              "          if (!dataTable) return;\n",
              "\n",
              "          const docLinkHtml = 'Like what you see? Visit the ' +\n",
              "            '<a target=\"_blank\" href=https://colab.research.google.com/notebooks/data_table.ipynb>data table notebook</a>'\n",
              "            + ' to learn more about interactive tables.';\n",
              "          element.innerHTML = '';\n",
              "          dataTable['output_type'] = 'display_data';\n",
              "          await google.colab.output.renderOutput(dataTable, element);\n",
              "          const docLink = document.createElement('div');\n",
              "          docLink.innerHTML = docLinkHtml;\n",
              "          element.appendChild(docLink);\n",
              "        }\n",
              "      </script>\n",
              "    </div>\n",
              "  </div>\n",
              "  "
            ],
            "text/plain": [
              "                 avr_Age  avr_Weight  avr_Salary\n",
              "College                                         \n",
              "Oklahoma            27.0       251.0     1.9e+07\n",
              "Louisiana Tech      31.0       246.0     1.9e+07\n",
              "San Diego State     24.0       230.0     1.6e+07\n",
              "Marquette           29.2       224.0     1.2e+07\n",
              "Texas A&M           26.3       234.7     1.2e+07"
            ]
          },
          "metadata": {},
          "execution_count": 60
        }
      ]
    },
    {
      "cell_type": "markdown",
      "source": [
        "Sorting by an index cosists of multiple columns"
      ],
      "metadata": {
        "id": "zM4G2u4DdIv6"
      }
    },
    {
      "cell_type": "code",
      "source": [
        ""
      ],
      "metadata": {
        "id": "eWW2hm-hdGNq"
      },
      "execution_count": 60,
      "outputs": []
    },
    {
      "cell_type": "code",
      "source": [
        "## Determine by graphic whether the Salary are affected by the College:"
      ],
      "metadata": {
        "id": "sOnyxkabyIGZ"
      },
      "execution_count": 61,
      "outputs": []
    },
    {
      "cell_type": "code",
      "source": [
        "plt.figure(figsize = (16,6))\n",
        "\n",
        "sns.scatterplot(data = nba,\n",
        "               x = 'College',\n",
        "               y = 'Salary');"
      ],
      "metadata": {
        "colab": {
          "base_uri": "https://localhost:8080/",
          "height": 399
        },
        "id": "IC41AfgXyMHd",
        "outputId": "a1def375-f581-427e-d106-0057cc2b93fe"
      },
      "execution_count": 62,
      "outputs": [
        {
          "output_type": "display_data",
          "data": {
            "image/png": "[encoded data removed]",
            "text/plain": [
              "<Figure size 1152x432 with 1 Axes>"
            ]
          },
          "metadata": {
            "needs_background": "light"
          }
        }
      ]
    },
    {
      "cell_type": "code",
      "source": [
        "by_team = nba.groupby('College')\n",
        "by_team.size().plot(kind='barh')"
      ],
      "metadata": {
        "id": "fyfzrD_ceebZ",
        "colab": {
          "base_uri": "https://localhost:8080/",
          "height": 285
        },
        "outputId": "5f7b8432-e566-4879-f830-23ded4966e6c"
      },
      "execution_count": 63,
      "outputs": [
        {
          "output_type": "execute_result",
          "data": {
            "text/plain": [
              "<matplotlib.axes._subplots.AxesSubplot at 0x7fa30b3def10>"
            ]
          },
          "metadata": {},
          "execution_count": 63
        },
        {
          "output_type": "display_data",
          "data": {
            "image/png": "[encoded data removed]",
            "text/plain": [
              "<Figure size 432x288 with 1 Axes>"
            ]
          },
          "metadata": {
            "needs_background": "light"
          }
        }
      ]
    },
    {
      "cell_type": "code",
      "source": [
        "# import geopandas as gpd\n",
        "# df_world = gpd.read_file(gpd.datasets.get_path('naturalearth_lowres'))\n",
        "# print(f\"{type(df_world)}, {df_world.geometry.name}\")\n",
        "# print(df_world.head())\n",
        "# print(df_world.geometry.geom_type.value_counts())"
      ],
      "metadata": {
        "id": "0sXdajBneeyy"
      },
      "execution_count": 64,
      "outputs": []
    },
    {
      "cell_type": "markdown",
      "source": [
        "## Double Groupby"
      ],
      "metadata": {
        "id": "4auOsRfcWDpt"
      }
    },
    {
      "cell_type": "markdown",
      "source": [
        ""
      ],
      "metadata": {
        "id": "3yxjsOBiWGnG"
      }
    },
    {
      "cell_type": "code",
      "source": [
        "by_cat_2 = nba.groupby(['College'])\n",
        "# by_cat_2.get_group[['Age', 'Salary']]\n",
        "\n",
        "# by_cat_2.get_group('Salary',10)"
      ],
      "metadata": {
        "id": "iYsh2ShOZMkr"
      },
      "execution_count": 65,
      "outputs": []
    },
    {
      "cell_type": "code",
      "source": [
        "by_cat_2 = nba.groupby(['College','Team'])\n",
        "# by_cat_2.get_group[['Age', 'Salary']]\n",
        "# by_cat_2.get_group(('Age', 'Salary'))"
      ],
      "metadata": {
        "id": "SRIOMCrGdHPB"
      },
      "execution_count": 66,
      "outputs": []
    }
  ]
}