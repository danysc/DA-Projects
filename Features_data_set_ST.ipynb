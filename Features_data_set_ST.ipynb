{
  "nbformat": 4,
  "nbformat_minor": 0,
  "metadata": {
    "colab": {
      "name": "Features_data_set_ST.ipynb",
      "provenance": [],
      "collapsed_sections": [],
      "authorship_tag": "ABX9TyOR2EP0mq0zlEVmHI8Hr3HQ",
      "include_colab_link": true
    },
    "kernelspec": {
      "name": "python3",
      "display_name": "Python 3"
    },
    "language_info": {
      "name": "python"
    }
  },
  "cells": [
    {
      "cell_type": "markdown",
      "metadata": {
        "id": "view-in-github",
        "colab_type": "text"
      },
      "source": [
        "<a href=\"https://colab.research.google.com/github/danysc/DA-Projects/blob/main/Features_data_set_ST.ipynb\" target=\"_parent\"><img src=\"https://colab.research.google.com/assets/colab-badge.svg\" alt=\"Open In Colab\"/></a>"
      ]
    },
    {
      "cell_type": "markdown",
      "source": [
        "#### Features_data_set_ST"
      ],
      "metadata": {
        "id": "fMX_I1bb-Dtm"
      }
    },
    {
      "cell_type": "markdown",
      "source": [
        "https://www.kaggle.com/manjeetsingh/retaildataset"
      ],
      "metadata": {
        "id": "gH3K6zie-EB3"
      }
    },
    {
      "cell_type": "markdown",
      "source": [
        "**With Statistics**\n"
      ],
      "metadata": {
        "id": "xh70CPDT-MeP"
      }
    },
    {
      "cell_type": "markdown",
      "source": [
        "Features\n",
        "Contains additional data related to the store, department, and regional activity for the given dates.\n",
        "\n",
        "Store - The store number.\n",
        "\n",
        "Date - The week.\n",
        "\n",
        "Temperature - average temperature in the region.\n",
        "\n",
        "Fuel_Price - cost of fuel in the region.\n",
        "\n",
        "MarkDown1-5 - Anonymized data related to promotional markdowns. MarkDown data is only available after Nov 2011, and is not available for all stores all the time. Any missing value is marked with an NA.\n",
        "\n",
        "CPI - The consumer price index.\n",
        "\n",
        "Unemployment - The unemployment rate.\n",
        "\n",
        "IsHoliday - Whether the week is a special holiday week.\n"
      ],
      "metadata": {
        "id": "M73OPRDWTp7a"
      }
    },
    {
      "cell_type": "code",
      "source": [
        "import pandas as pd\n",
        "import numpy as np\n",
        "import matplotlib.pyplot as plt\n",
        "import seaborn as sns\n",
        "from collections import Counter"
      ],
      "metadata": {
        "id": "xXSWSAWh-Q1r"
      },
      "execution_count": 51,
      "outputs": []
    },
    {
      "cell_type": "markdown",
      "source": [
        ""
      ],
      "metadata": {
        "id": "a2YGDKIj-Uh0"
      }
    },
    {
      "cell_type": "code",
      "source": [
        "# Read the csv from my GitHub\n",
        "data_set = pd.read_csv('https://raw.githubusercontent.com/danysc/kgdata/main/Features_data_set.csv')\n",
        "# Printing the first 6 rows of the data frame for visualization\n",
        "data_set[:6]"
      ],
      "metadata": {
        "colab": {
          "base_uri": "https://localhost:8080/",
          "height": 238
        },
        "id": "Y-pBhvtv-U5c",
        "outputId": "69ba916b-19bd-4a9d-d848-c4c1c9973749"
      },
      "execution_count": 52,
      "outputs": [
        {
          "output_type": "execute_result",
          "data": {
            "text/html": [
              "\n",
              "  <div id=\"df-af94b218-865a-4f49-8799-a74041377510\">\n",
              "    <div class=\"colab-df-container\">\n",
              "      <div>\n",
              "<style scoped>\n",
              "    .dataframe tbody tr th:only-of-type {\n",
              "        vertical-align: middle;\n",
              "    }\n",
              "\n",
              "    .dataframe tbody tr th {\n",
              "        vertical-align: top;\n",
              "    }\n",
              "\n",
              "    .dataframe thead th {\n",
              "        text-align: right;\n",
              "    }\n",
              "</style>\n",
              "<table border=\"1\" class=\"dataframe\">\n",
              "  <thead>\n",
              "    <tr style=\"text-align: right;\">\n",
              "      <th></th>\n",
              "      <th>Store</th>\n",
              "      <th>Date</th>\n",
              "      <th>Temperature</th>\n",
              "      <th>Fuel_Price</th>\n",
              "      <th>MarkDown1</th>\n",
              "      <th>MarkDown2</th>\n",
              "      <th>MarkDown3</th>\n",
              "      <th>MarkDown4</th>\n",
              "      <th>MarkDown5</th>\n",
              "      <th>CPI</th>\n",
              "      <th>Unemployment</th>\n",
              "      <th>IsHoliday</th>\n",
              "    </tr>\n",
              "  </thead>\n",
              "  <tbody>\n",
              "    <tr>\n",
              "      <th>0</th>\n",
              "      <td>1</td>\n",
              "      <td>05/02/2010</td>\n",
              "      <td>42.31</td>\n",
              "      <td>2.572</td>\n",
              "      <td>NaN</td>\n",
              "      <td>NaN</td>\n",
              "      <td>NaN</td>\n",
              "      <td>NaN</td>\n",
              "      <td>NaN</td>\n",
              "      <td>211.096</td>\n",
              "      <td>8.106</td>\n",
              "      <td>False</td>\n",
              "    </tr>\n",
              "    <tr>\n",
              "      <th>1</th>\n",
              "      <td>1</td>\n",
              "      <td>12/02/2010</td>\n",
              "      <td>38.51</td>\n",
              "      <td>2.548</td>\n",
              "      <td>NaN</td>\n",
              "      <td>NaN</td>\n",
              "      <td>NaN</td>\n",
              "      <td>NaN</td>\n",
              "      <td>NaN</td>\n",
              "      <td>211.242</td>\n",
              "      <td>8.106</td>\n",
              "      <td>True</td>\n",
              "    </tr>\n",
              "    <tr>\n",
              "      <th>2</th>\n",
              "      <td>1</td>\n",
              "      <td>19/02/2010</td>\n",
              "      <td>39.93</td>\n",
              "      <td>2.514</td>\n",
              "      <td>NaN</td>\n",
              "      <td>NaN</td>\n",
              "      <td>NaN</td>\n",
              "      <td>NaN</td>\n",
              "      <td>NaN</td>\n",
              "      <td>211.289</td>\n",
              "      <td>8.106</td>\n",
              "      <td>False</td>\n",
              "    </tr>\n",
              "    <tr>\n",
              "      <th>3</th>\n",
              "      <td>1</td>\n",
              "      <td>26/02/2010</td>\n",
              "      <td>46.63</td>\n",
              "      <td>2.561</td>\n",
              "      <td>NaN</td>\n",
              "      <td>NaN</td>\n",
              "      <td>NaN</td>\n",
              "      <td>NaN</td>\n",
              "      <td>NaN</td>\n",
              "      <td>211.320</td>\n",
              "      <td>8.106</td>\n",
              "      <td>False</td>\n",
              "    </tr>\n",
              "    <tr>\n",
              "      <th>4</th>\n",
              "      <td>1</td>\n",
              "      <td>05/03/2010</td>\n",
              "      <td>46.50</td>\n",
              "      <td>2.625</td>\n",
              "      <td>NaN</td>\n",
              "      <td>NaN</td>\n",
              "      <td>NaN</td>\n",
              "      <td>NaN</td>\n",
              "      <td>NaN</td>\n",
              "      <td>211.350</td>\n",
              "      <td>8.106</td>\n",
              "      <td>False</td>\n",
              "    </tr>\n",
              "    <tr>\n",
              "      <th>5</th>\n",
              "      <td>1</td>\n",
              "      <td>12/03/2010</td>\n",
              "      <td>57.79</td>\n",
              "      <td>2.667</td>\n",
              "      <td>NaN</td>\n",
              "      <td>NaN</td>\n",
              "      <td>NaN</td>\n",
              "      <td>NaN</td>\n",
              "      <td>NaN</td>\n",
              "      <td>211.381</td>\n",
              "      <td>8.106</td>\n",
              "      <td>False</td>\n",
              "    </tr>\n",
              "  </tbody>\n",
              "</table>\n",
              "</div>\n",
              "      <button class=\"colab-df-convert\" onclick=\"convertToInteractive('df-af94b218-865a-4f49-8799-a74041377510')\"\n",
              "              title=\"Convert this dataframe to an interactive table.\"\n",
              "              style=\"display:none;\">\n",
              "        \n",
              "  <svg xmlns=\"http://www.w3.org/2000/svg\" height=\"24px\"viewBox=\"0 0 24 24\"\n",
              "       width=\"24px\">\n",
              "    <path d=\"M0 0h24v24H0V0z\" fill=\"none\"/>\n",
              "    <path d=\"M18.56 5.44l.94 2.06.94-2.06 2.06-.94-2.06-.94-.94-2.06-.94 2.06-2.06.94zm-11 1L8.5 8.5l.94-2.06 2.06-.94-2.06-.94L8.5 2.5l-.94 2.06-2.06.94zm10 10l.94 2.06.94-2.06 2.06-.94-2.06-.94-.94-2.06-.94 2.06-2.06.94z\"/><path d=\"M17.41 7.96l-1.37-1.37c-.4-.4-.92-.59-1.43-.59-.52 0-1.04.2-1.43.59L10.3 9.45l-7.72 7.72c-.78.78-.78 2.05 0 2.83L4 21.41c.39.39.9.59 1.41.59.51 0 1.02-.2 1.41-.59l7.78-7.78 2.81-2.81c.8-.78.8-2.07 0-2.86zM5.41 20L4 18.59l7.72-7.72 1.47 1.35L5.41 20z\"/>\n",
              "  </svg>\n",
              "      </button>\n",
              "      \n",
              "  <style>\n",
              "    .colab-df-container {\n",
              "      display:flex;\n",
              "      flex-wrap:wrap;\n",
              "      gap: 12px;\n",
              "    }\n",
              "\n",
              "    .colab-df-convert {\n",
              "      background-color: #E8F0FE;\n",
              "      border: none;\n",
              "      border-radius: 50%;\n",
              "      cursor: pointer;\n",
              "      display: none;\n",
              "      fill: #1967D2;\n",
              "      height: 32px;\n",
              "      padding: 0 0 0 0;\n",
              "      width: 32px;\n",
              "    }\n",
              "\n",
              "    .colab-df-convert:hover {\n",
              "      background-color: #E2EBFA;\n",
              "      box-shadow: 0px 1px 2px rgba(60, 64, 67, 0.3), 0px 1px 3px 1px rgba(60, 64, 67, 0.15);\n",
              "      fill: #174EA6;\n",
              "    }\n",
              "\n",
              "    [theme=dark] .colab-df-convert {\n",
              "      background-color: #3B4455;\n",
              "      fill: #D2E3FC;\n",
              "    }\n",
              "\n",
              "    [theme=dark] .colab-df-convert:hover {\n",
              "      background-color: #434B5C;\n",
              "      box-shadow: 0px 1px 3px 1px rgba(0, 0, 0, 0.15);\n",
              "      filter: drop-shadow(0px 1px 2px rgba(0, 0, 0, 0.3));\n",
              "      fill: #FFFFFF;\n",
              "    }\n",
              "  </style>\n",
              "\n",
              "      <script>\n",
              "        const buttonEl =\n",
              "          document.querySelector('#df-af94b218-865a-4f49-8799-a74041377510 button.colab-df-convert');\n",
              "        buttonEl.style.display =\n",
              "          google.colab.kernel.accessAllowed ? 'block' : 'none';\n",
              "\n",
              "        async function convertToInteractive(key) {\n",
              "          const element = document.querySelector('#df-af94b218-865a-4f49-8799-a74041377510');\n",
              "          const dataTable =\n",
              "            await google.colab.kernel.invokeFunction('convertToInteractive',\n",
              "                                                     [key], {});\n",
              "          if (!dataTable) return;\n",
              "\n",
              "          const docLinkHtml = 'Like what you see? Visit the ' +\n",
              "            '<a target=\"_blank\" href=https://colab.research.google.com/notebooks/data_table.ipynb>data table notebook</a>'\n",
              "            + ' to learn more about interactive tables.';\n",
              "          element.innerHTML = '';\n",
              "          dataTable['output_type'] = 'display_data';\n",
              "          await google.colab.output.renderOutput(dataTable, element);\n",
              "          const docLink = document.createElement('div');\n",
              "          docLink.innerHTML = docLinkHtml;\n",
              "          element.appendChild(docLink);\n",
              "        }\n",
              "      </script>\n",
              "    </div>\n",
              "  </div>\n",
              "  "
            ],
            "text/plain": [
              "   Store        Date  Temperature  ...      CPI  Unemployment  IsHoliday\n",
              "0      1  05/02/2010        42.31  ...  211.096         8.106      False\n",
              "1      1  12/02/2010        38.51  ...  211.242         8.106       True\n",
              "2      1  19/02/2010        39.93  ...  211.289         8.106      False\n",
              "3      1  26/02/2010        46.63  ...  211.320         8.106      False\n",
              "4      1  05/03/2010        46.50  ...  211.350         8.106      False\n",
              "5      1  12/03/2010        57.79  ...  211.381         8.106      False\n",
              "\n",
              "[6 rows x 12 columns]"
            ]
          },
          "metadata": {},
          "execution_count": 52
        }
      ]
    },
    {
      "cell_type": "markdown",
      "source": [
        ""
      ],
      "metadata": {
        "id": "WA2JlCooBBp4"
      }
    },
    {
      "cell_type": "code",
      "source": [
        "data_set.info()"
      ],
      "metadata": {
        "colab": {
          "base_uri": "https://localhost:8080/"
        },
        "id": "tI_p1etCBFMY",
        "outputId": "acad0e1c-5fb7-436e-ba25-5a43f5ab571f"
      },
      "execution_count": 53,
      "outputs": [
        {
          "output_type": "stream",
          "name": "stdout",
          "text": [
            "<class 'pandas.core.frame.DataFrame'>\n",
            "RangeIndex: 8190 entries, 0 to 8189\n",
            "Data columns (total 12 columns):\n",
            " #   Column        Non-Null Count  Dtype  \n",
            "---  ------        --------------  -----  \n",
            " 0   Store         8190 non-null   int64  \n",
            " 1   Date          8190 non-null   object \n",
            " 2   Temperature   8190 non-null   float64\n",
            " 3   Fuel_Price    8190 non-null   float64\n",
            " 4   MarkDown1     4032 non-null   float64\n",
            " 5   MarkDown2     2921 non-null   float64\n",
            " 6   MarkDown3     3613 non-null   float64\n",
            " 7   MarkDown4     3464 non-null   float64\n",
            " 8   MarkDown5     4050 non-null   float64\n",
            " 9   CPI           7605 non-null   float64\n",
            " 10  Unemployment  7605 non-null   float64\n",
            " 11  IsHoliday     8190 non-null   bool   \n",
            "dtypes: bool(1), float64(9), int64(1), object(1)\n",
            "memory usage: 712.0+ KB\n"
          ]
        }
      ]
    },
    {
      "cell_type": "code",
      "source": [
        "# Convert the Date column to date format:\n",
        "data_set['Date'] = pd.to_datetime(data_set['Date'])\n",
        "data_set.info()"
      ],
      "metadata": {
        "colab": {
          "base_uri": "https://localhost:8080/"
        },
        "id": "S5Uu4Y8PZZga",
        "outputId": "9a743fe6-c87b-4d6b-835f-74d0760a596e"
      },
      "execution_count": 54,
      "outputs": [
        {
          "output_type": "stream",
          "name": "stdout",
          "text": [
            "<class 'pandas.core.frame.DataFrame'>\n",
            "RangeIndex: 8190 entries, 0 to 8189\n",
            "Data columns (total 12 columns):\n",
            " #   Column        Non-Null Count  Dtype         \n",
            "---  ------        --------------  -----         \n",
            " 0   Store         8190 non-null   int64         \n",
            " 1   Date          8190 non-null   datetime64[ns]\n",
            " 2   Temperature   8190 non-null   float64       \n",
            " 3   Fuel_Price    8190 non-null   float64       \n",
            " 4   MarkDown1     4032 non-null   float64       \n",
            " 5   MarkDown2     2921 non-null   float64       \n",
            " 6   MarkDown3     3613 non-null   float64       \n",
            " 7   MarkDown4     3464 non-null   float64       \n",
            " 8   MarkDown5     4050 non-null   float64       \n",
            " 9   CPI           7605 non-null   float64       \n",
            " 10  Unemployment  7605 non-null   float64       \n",
            " 11  IsHoliday     8190 non-null   bool          \n",
            "dtypes: bool(1), datetime64[ns](1), float64(9), int64(1)\n",
            "memory usage: 712.0 KB\n"
          ]
        }
      ]
    },
    {
      "cell_type": "code",
      "source": [
        "#Null Check:\n",
        "# Note the null values\n",
        "data_set.isnull().sum()"
      ],
      "metadata": {
        "colab": {
          "base_uri": "https://localhost:8080/"
        },
        "id": "dzLgWx98AsGU",
        "outputId": "a4231f1e-be51-4e44-9e4d-e743517ff5ce"
      },
      "execution_count": 55,
      "outputs": [
        {
          "output_type": "execute_result",
          "data": {
            "text/plain": [
              "Store              0\n",
              "Date               0\n",
              "Temperature        0\n",
              "Fuel_Price         0\n",
              "MarkDown1       4158\n",
              "MarkDown2       5269\n",
              "MarkDown3       4577\n",
              "MarkDown4       4726\n",
              "MarkDown5       4140\n",
              "CPI              585\n",
              "Unemployment     585\n",
              "IsHoliday          0\n",
              "dtype: int64"
            ]
          },
          "metadata": {},
          "execution_count": 55
        }
      ]
    },
    {
      "cell_type": "code",
      "source": [
        "# Duplicate check:\n",
        "# No duplicated row\n",
        "data_set.duplicated().sum()"
      ],
      "metadata": {
        "colab": {
          "base_uri": "https://localhost:8080/"
        },
        "id": "rvXoI_r2A8-g",
        "outputId": "db345667-d8ac-4d99-e6bb-576bd805843e"
      },
      "execution_count": 56,
      "outputs": [
        {
          "output_type": "execute_result",
          "data": {
            "text/plain": [
              "0"
            ]
          },
          "metadata": {},
          "execution_count": 56
        }
      ]
    },
    {
      "cell_type": "markdown",
      "source": [
        "Good. No duplicate"
      ],
      "metadata": {
        "id": "j_9mRkOgCbwt"
      }
    },
    {
      "cell_type": "markdown",
      "source": [
        "Because there a lot of Nulls, I decide to delete few columns."
      ],
      "metadata": {
        "id": "0fCJy1cLCcPj"
      }
    },
    {
      "cell_type": "code",
      "source": [
        "# removing null values to avoid errors \n",
        "data_set.dropna(inplace = True)\n",
        "data_set"
      ],
      "metadata": {
        "colab": {
          "base_uri": "https://localhost:8080/",
          "height": 424
        },
        "id": "HREgtOWoC1k8",
        "outputId": "6927da35-affe-4b77-d0ad-cd103d81643f"
      },
      "execution_count": 57,
      "outputs": [
        {
          "output_type": "execute_result",
          "data": {
            "text/html": [
              "\n",
              "  <div id=\"df-9e66a3ae-ab3d-41b7-b2e0-9017a3a77248\">\n",
              "    <div class=\"colab-df-container\">\n",
              "      <div>\n",
              "<style scoped>\n",
              "    .dataframe tbody tr th:only-of-type {\n",
              "        vertical-align: middle;\n",
              "    }\n",
              "\n",
              "    .dataframe tbody tr th {\n",
              "        vertical-align: top;\n",
              "    }\n",
              "\n",
              "    .dataframe thead th {\n",
              "        text-align: right;\n",
              "    }\n",
              "</style>\n",
              "<table border=\"1\" class=\"dataframe\">\n",
              "  <thead>\n",
              "    <tr style=\"text-align: right;\">\n",
              "      <th></th>\n",
              "      <th>Store</th>\n",
              "      <th>Date</th>\n",
              "      <th>Temperature</th>\n",
              "      <th>Fuel_Price</th>\n",
              "      <th>MarkDown1</th>\n",
              "      <th>MarkDown2</th>\n",
              "      <th>MarkDown3</th>\n",
              "      <th>MarkDown4</th>\n",
              "      <th>MarkDown5</th>\n",
              "      <th>CPI</th>\n",
              "      <th>Unemployment</th>\n",
              "      <th>IsHoliday</th>\n",
              "    </tr>\n",
              "  </thead>\n",
              "  <tbody>\n",
              "    <tr>\n",
              "      <th>92</th>\n",
              "      <td>1</td>\n",
              "      <td>2011-11-11</td>\n",
              "      <td>59.11</td>\n",
              "      <td>3.297</td>\n",
              "      <td>10382.90</td>\n",
              "      <td>6115.67</td>\n",
              "      <td>215.07</td>\n",
              "      <td>2406.62</td>\n",
              "      <td>6551.42</td>\n",
              "      <td>217.998</td>\n",
              "      <td>7.866</td>\n",
              "      <td>False</td>\n",
              "    </tr>\n",
              "    <tr>\n",
              "      <th>93</th>\n",
              "      <td>1</td>\n",
              "      <td>2011-11-18</td>\n",
              "      <td>62.25</td>\n",
              "      <td>3.308</td>\n",
              "      <td>6074.12</td>\n",
              "      <td>254.39</td>\n",
              "      <td>51.98</td>\n",
              "      <td>427.39</td>\n",
              "      <td>5988.57</td>\n",
              "      <td>218.221</td>\n",
              "      <td>7.866</td>\n",
              "      <td>False</td>\n",
              "    </tr>\n",
              "    <tr>\n",
              "      <th>94</th>\n",
              "      <td>1</td>\n",
              "      <td>2011-11-25</td>\n",
              "      <td>60.14</td>\n",
              "      <td>3.236</td>\n",
              "      <td>410.31</td>\n",
              "      <td>98.00</td>\n",
              "      <td>55805.51</td>\n",
              "      <td>8.00</td>\n",
              "      <td>554.92</td>\n",
              "      <td>218.468</td>\n",
              "      <td>7.866</td>\n",
              "      <td>True</td>\n",
              "    </tr>\n",
              "    <tr>\n",
              "      <th>95</th>\n",
              "      <td>1</td>\n",
              "      <td>2011-02-12</td>\n",
              "      <td>48.91</td>\n",
              "      <td>3.172</td>\n",
              "      <td>5629.51</td>\n",
              "      <td>68.00</td>\n",
              "      <td>1398.11</td>\n",
              "      <td>2084.64</td>\n",
              "      <td>20475.32</td>\n",
              "      <td>218.715</td>\n",
              "      <td>7.866</td>\n",
              "      <td>False</td>\n",
              "    </tr>\n",
              "    <tr>\n",
              "      <th>96</th>\n",
              "      <td>1</td>\n",
              "      <td>2011-09-12</td>\n",
              "      <td>43.93</td>\n",
              "      <td>3.158</td>\n",
              "      <td>4640.65</td>\n",
              "      <td>19.00</td>\n",
              "      <td>105.02</td>\n",
              "      <td>3639.42</td>\n",
              "      <td>14461.82</td>\n",
              "      <td>218.962</td>\n",
              "      <td>7.866</td>\n",
              "      <td>False</td>\n",
              "    </tr>\n",
              "    <tr>\n",
              "      <th>...</th>\n",
              "      <td>...</td>\n",
              "      <td>...</td>\n",
              "      <td>...</td>\n",
              "      <td>...</td>\n",
              "      <td>...</td>\n",
              "      <td>...</td>\n",
              "      <td>...</td>\n",
              "      <td>...</td>\n",
              "      <td>...</td>\n",
              "      <td>...</td>\n",
              "      <td>...</td>\n",
              "      <td>...</td>\n",
              "    </tr>\n",
              "    <tr>\n",
              "      <th>8168</th>\n",
              "      <td>45</td>\n",
              "      <td>2013-01-03</td>\n",
              "      <td>39.72</td>\n",
              "      <td>3.890</td>\n",
              "      <td>6614.32</td>\n",
              "      <td>147.82</td>\n",
              "      <td>5.60</td>\n",
              "      <td>27.55</td>\n",
              "      <td>1668.95</td>\n",
              "      <td>193.122</td>\n",
              "      <td>8.625</td>\n",
              "      <td>False</td>\n",
              "    </tr>\n",
              "    <tr>\n",
              "      <th>8169</th>\n",
              "      <td>45</td>\n",
              "      <td>2013-08-03</td>\n",
              "      <td>36.13</td>\n",
              "      <td>3.860</td>\n",
              "      <td>16382.54</td>\n",
              "      <td>88.67</td>\n",
              "      <td>34.62</td>\n",
              "      <td>3096.92</td>\n",
              "      <td>3486.91</td>\n",
              "      <td>193.212</td>\n",
              "      <td>8.625</td>\n",
              "      <td>False</td>\n",
              "    </tr>\n",
              "    <tr>\n",
              "      <th>8173</th>\n",
              "      <td>45</td>\n",
              "      <td>2013-05-04</td>\n",
              "      <td>43.94</td>\n",
              "      <td>3.763</td>\n",
              "      <td>16427.83</td>\n",
              "      <td>5341.41</td>\n",
              "      <td>182.59</td>\n",
              "      <td>1523.83</td>\n",
              "      <td>1743.09</td>\n",
              "      <td>193.516</td>\n",
              "      <td>8.335</td>\n",
              "      <td>False</td>\n",
              "    </tr>\n",
              "    <tr>\n",
              "      <th>8174</th>\n",
              "      <td>45</td>\n",
              "      <td>2013-12-04</td>\n",
              "      <td>57.39</td>\n",
              "      <td>3.724</td>\n",
              "      <td>8760.15</td>\n",
              "      <td>1713.11</td>\n",
              "      <td>21.08</td>\n",
              "      <td>1302.31</td>\n",
              "      <td>1380.74</td>\n",
              "      <td>193.589</td>\n",
              "      <td>8.335</td>\n",
              "      <td>False</td>\n",
              "    </tr>\n",
              "    <tr>\n",
              "      <th>8175</th>\n",
              "      <td>45</td>\n",
              "      <td>2013-04-19</td>\n",
              "      <td>56.27</td>\n",
              "      <td>3.676</td>\n",
              "      <td>1399.81</td>\n",
              "      <td>39.89</td>\n",
              "      <td>44.38</td>\n",
              "      <td>60.83</td>\n",
              "      <td>1445.05</td>\n",
              "      <td>193.589</td>\n",
              "      <td>8.335</td>\n",
              "      <td>False</td>\n",
              "    </tr>\n",
              "  </tbody>\n",
              "</table>\n",
              "<p>2069 rows × 12 columns</p>\n",
              "</div>\n",
              "      <button class=\"colab-df-convert\" onclick=\"convertToInteractive('df-9e66a3ae-ab3d-41b7-b2e0-9017a3a77248')\"\n",
              "              title=\"Convert this dataframe to an interactive table.\"\n",
              "              style=\"display:none;\">\n",
              "        \n",
              "  <svg xmlns=\"http://www.w3.org/2000/svg\" height=\"24px\"viewBox=\"0 0 24 24\"\n",
              "       width=\"24px\">\n",
              "    <path d=\"M0 0h24v24H0V0z\" fill=\"none\"/>\n",
              "    <path d=\"M18.56 5.44l.94 2.06.94-2.06 2.06-.94-2.06-.94-.94-2.06-.94 2.06-2.06.94zm-11 1L8.5 8.5l.94-2.06 2.06-.94-2.06-.94L8.5 2.5l-.94 2.06-2.06.94zm10 10l.94 2.06.94-2.06 2.06-.94-2.06-.94-.94-2.06-.94 2.06-2.06.94z\"/><path d=\"M17.41 7.96l-1.37-1.37c-.4-.4-.92-.59-1.43-.59-.52 0-1.04.2-1.43.59L10.3 9.45l-7.72 7.72c-.78.78-.78 2.05 0 2.83L4 21.41c.39.39.9.59 1.41.59.51 0 1.02-.2 1.41-.59l7.78-7.78 2.81-2.81c.8-.78.8-2.07 0-2.86zM5.41 20L4 18.59l7.72-7.72 1.47 1.35L5.41 20z\"/>\n",
              "  </svg>\n",
              "      </button>\n",
              "      \n",
              "  <style>\n",
              "    .colab-df-container {\n",
              "      display:flex;\n",
              "      flex-wrap:wrap;\n",
              "      gap: 12px;\n",
              "    }\n",
              "\n",
              "    .colab-df-convert {\n",
              "      background-color: #E8F0FE;\n",
              "      border: none;\n",
              "      border-radius: 50%;\n",
              "      cursor: pointer;\n",
              "      display: none;\n",
              "      fill: #1967D2;\n",
              "      height: 32px;\n",
              "      padding: 0 0 0 0;\n",
              "      width: 32px;\n",
              "    }\n",
              "\n",
              "    .colab-df-convert:hover {\n",
              "      background-color: #E2EBFA;\n",
              "      box-shadow: 0px 1px 2px rgba(60, 64, 67, 0.3), 0px 1px 3px 1px rgba(60, 64, 67, 0.15);\n",
              "      fill: #174EA6;\n",
              "    }\n",
              "\n",
              "    [theme=dark] .colab-df-convert {\n",
              "      background-color: #3B4455;\n",
              "      fill: #D2E3FC;\n",
              "    }\n",
              "\n",
              "    [theme=dark] .colab-df-convert:hover {\n",
              "      background-color: #434B5C;\n",
              "      box-shadow: 0px 1px 3px 1px rgba(0, 0, 0, 0.15);\n",
              "      filter: drop-shadow(0px 1px 2px rgba(0, 0, 0, 0.3));\n",
              "      fill: #FFFFFF;\n",
              "    }\n",
              "  </style>\n",
              "\n",
              "      <script>\n",
              "        const buttonEl =\n",
              "          document.querySelector('#df-9e66a3ae-ab3d-41b7-b2e0-9017a3a77248 button.colab-df-convert');\n",
              "        buttonEl.style.display =\n",
              "          google.colab.kernel.accessAllowed ? 'block' : 'none';\n",
              "\n",
              "        async function convertToInteractive(key) {\n",
              "          const element = document.querySelector('#df-9e66a3ae-ab3d-41b7-b2e0-9017a3a77248');\n",
              "          const dataTable =\n",
              "            await google.colab.kernel.invokeFunction('convertToInteractive',\n",
              "                                                     [key], {});\n",
              "          if (!dataTable) return;\n",
              "\n",
              "          const docLinkHtml = 'Like what you see? Visit the ' +\n",
              "            '<a target=\"_blank\" href=https://colab.research.google.com/notebooks/data_table.ipynb>data table notebook</a>'\n",
              "            + ' to learn more about interactive tables.';\n",
              "          element.innerHTML = '';\n",
              "          dataTable['output_type'] = 'display_data';\n",
              "          await google.colab.output.renderOutput(dataTable, element);\n",
              "          const docLink = document.createElement('div');\n",
              "          docLink.innerHTML = docLinkHtml;\n",
              "          element.appendChild(docLink);\n",
              "        }\n",
              "      </script>\n",
              "    </div>\n",
              "  </div>\n",
              "  "
            ],
            "text/plain": [
              "      Store       Date  Temperature  ...      CPI  Unemployment  IsHoliday\n",
              "92        1 2011-11-11        59.11  ...  217.998         7.866      False\n",
              "93        1 2011-11-18        62.25  ...  218.221         7.866      False\n",
              "94        1 2011-11-25        60.14  ...  218.468         7.866       True\n",
              "95        1 2011-02-12        48.91  ...  218.715         7.866      False\n",
              "96        1 2011-09-12        43.93  ...  218.962         7.866      False\n",
              "...     ...        ...          ...  ...      ...           ...        ...\n",
              "8168     45 2013-01-03        39.72  ...  193.122         8.625      False\n",
              "8169     45 2013-08-03        36.13  ...  193.212         8.625      False\n",
              "8173     45 2013-05-04        43.94  ...  193.516         8.335      False\n",
              "8174     45 2013-12-04        57.39  ...  193.589         8.335      False\n",
              "8175     45 2013-04-19        56.27  ...  193.589         8.335      False\n",
              "\n",
              "[2069 rows x 12 columns]"
            ]
          },
          "metadata": {},
          "execution_count": 57
        }
      ]
    },
    {
      "cell_type": "code",
      "source": [
        "import matplotlib.pyplot as plt\n",
        "import seaborn as sns"
      ],
      "metadata": {
        "id": "JzBdDIgla_9a"
      },
      "execution_count": 58,
      "outputs": []
    },
    {
      "cell_type": "code",
      "source": [
        "# Graph for Survived count:\n",
        "# In Bars\n",
        "plt.subplots(1, 2, figsize=(14,5))\n",
        "plt.subplot(1,2,1)\n",
        "plt.title(\"Bar of CPI\")\n",
        "sns.countplot(x='IsHoliday', data=data_set)\n",
        "\n",
        "# In Pie Graph\n",
        "# plt.subplot(1,2,2)\n",
        "# plt.title(\"Pie of CPI\")\n",
        "# label=[\"0\", \"1\"]\n",
        "# plt.pie(data_set['CPI'].value_counts(),\n",
        "#        labels=label, counterclock=False, startangle=90,\n",
        "#        autopct='%1.1f%%', pctdistance=0.7)\n",
        "# plt.show()"
      ],
      "metadata": {
        "colab": {
          "base_uri": "https://localhost:8080/",
          "height": 367
        },
        "id": "uEMSvdsvadN4",
        "outputId": "f477b529-d61d-44d5-bf5a-2636f97026a9"
      },
      "execution_count": 59,
      "outputs": [
        {
          "output_type": "execute_result",
          "data": {
            "text/plain": [
              "<matplotlib.axes._subplots.AxesSubplot at 0x7f8de09eff10>"
            ]
          },
          "metadata": {},
          "execution_count": 59
        },
        {
          "output_type": "display_data",
          "data": {
            "image/png": "[encoded data removed]",
            "text/plain": [
              "<Figure size 1008x360 with 2 Axes>"
            ]
          },
          "metadata": {
            "needs_background": "light"
          }
        }
      ]
    },
    {
      "cell_type": "code",
      "source": [
        "\n",
        "data_set.groupby(['Store']).agg(CPI_mean = ('CPI','mean')).head()\n"
      ],
      "metadata": {
        "colab": {
          "base_uri": "https://localhost:8080/",
          "height": 238
        },
        "id": "m27XFZiOVFNA",
        "outputId": "30c9a8e3-9a4f-460a-e3bf-e280787665b5"
      },
      "execution_count": 60,
      "outputs": [
        {
          "output_type": "execute_result",
          "data": {
            "text/html": [
              "\n",
              "  <div id=\"df-98f79956-bb16-42e8-92a4-4bdf8eb36025\">\n",
              "    <div class=\"colab-df-container\">\n",
              "      <div>\n",
              "<style scoped>\n",
              "    .dataframe tbody tr th:only-of-type {\n",
              "        vertical-align: middle;\n",
              "    }\n",
              "\n",
              "    .dataframe tbody tr th {\n",
              "        vertical-align: top;\n",
              "    }\n",
              "\n",
              "    .dataframe thead th {\n",
              "        text-align: right;\n",
              "    }\n",
              "</style>\n",
              "<table border=\"1\" class=\"dataframe\">\n",
              "  <thead>\n",
              "    <tr style=\"text-align: right;\">\n",
              "      <th></th>\n",
              "      <th>CPI_mean</th>\n",
              "    </tr>\n",
              "    <tr>\n",
              "      <th>Store</th>\n",
              "      <th></th>\n",
              "    </tr>\n",
              "  </thead>\n",
              "  <tbody>\n",
              "    <tr>\n",
              "      <th>1</th>\n",
              "      <td>221.974</td>\n",
              "    </tr>\n",
              "    <tr>\n",
              "      <th>2</th>\n",
              "      <td>221.675</td>\n",
              "    </tr>\n",
              "    <tr>\n",
              "      <th>3</th>\n",
              "      <td>225.590</td>\n",
              "    </tr>\n",
              "    <tr>\n",
              "      <th>4</th>\n",
              "      <td>131.028</td>\n",
              "    </tr>\n",
              "    <tr>\n",
              "      <th>5</th>\n",
              "      <td>222.455</td>\n",
              "    </tr>\n",
              "  </tbody>\n",
              "</table>\n",
              "</div>\n",
              "      <button class=\"colab-df-convert\" onclick=\"convertToInteractive('df-98f79956-bb16-42e8-92a4-4bdf8eb36025')\"\n",
              "              title=\"Convert this dataframe to an interactive table.\"\n",
              "              style=\"display:none;\">\n",
              "        \n",
              "  <svg xmlns=\"http://www.w3.org/2000/svg\" height=\"24px\"viewBox=\"0 0 24 24\"\n",
              "       width=\"24px\">\n",
              "    <path d=\"M0 0h24v24H0V0z\" fill=\"none\"/>\n",
              "    <path d=\"M18.56 5.44l.94 2.06.94-2.06 2.06-.94-2.06-.94-.94-2.06-.94 2.06-2.06.94zm-11 1L8.5 8.5l.94-2.06 2.06-.94-2.06-.94L8.5 2.5l-.94 2.06-2.06.94zm10 10l.94 2.06.94-2.06 2.06-.94-2.06-.94-.94-2.06-.94 2.06-2.06.94z\"/><path d=\"M17.41 7.96l-1.37-1.37c-.4-.4-.92-.59-1.43-.59-.52 0-1.04.2-1.43.59L10.3 9.45l-7.72 7.72c-.78.78-.78 2.05 0 2.83L4 21.41c.39.39.9.59 1.41.59.51 0 1.02-.2 1.41-.59l7.78-7.78 2.81-2.81c.8-.78.8-2.07 0-2.86zM5.41 20L4 18.59l7.72-7.72 1.47 1.35L5.41 20z\"/>\n",
              "  </svg>\n",
              "      </button>\n",
              "      \n",
              "  <style>\n",
              "    .colab-df-container {\n",
              "      display:flex;\n",
              "      flex-wrap:wrap;\n",
              "      gap: 12px;\n",
              "    }\n",
              "\n",
              "    .colab-df-convert {\n",
              "      background-color: #E8F0FE;\n",
              "      border: none;\n",
              "      border-radius: 50%;\n",
              "      cursor: pointer;\n",
              "      display: none;\n",
              "      fill: #1967D2;\n",
              "      height: 32px;\n",
              "      padding: 0 0 0 0;\n",
              "      width: 32px;\n",
              "    }\n",
              "\n",
              "    .colab-df-convert:hover {\n",
              "      background-color: #E2EBFA;\n",
              "      box-shadow: 0px 1px 2px rgba(60, 64, 67, 0.3), 0px 1px 3px 1px rgba(60, 64, 67, 0.15);\n",
              "      fill: #174EA6;\n",
              "    }\n",
              "\n",
              "    [theme=dark] .colab-df-convert {\n",
              "      background-color: #3B4455;\n",
              "      fill: #D2E3FC;\n",
              "    }\n",
              "\n",
              "    [theme=dark] .colab-df-convert:hover {\n",
              "      background-color: #434B5C;\n",
              "      box-shadow: 0px 1px 3px 1px rgba(0, 0, 0, 0.15);\n",
              "      filter: drop-shadow(0px 1px 2px rgba(0, 0, 0, 0.3));\n",
              "      fill: #FFFFFF;\n",
              "    }\n",
              "  </style>\n",
              "\n",
              "      <script>\n",
              "        const buttonEl =\n",
              "          document.querySelector('#df-98f79956-bb16-42e8-92a4-4bdf8eb36025 button.colab-df-convert');\n",
              "        buttonEl.style.display =\n",
              "          google.colab.kernel.accessAllowed ? 'block' : 'none';\n",
              "\n",
              "        async function convertToInteractive(key) {\n",
              "          const element = document.querySelector('#df-98f79956-bb16-42e8-92a4-4bdf8eb36025');\n",
              "          const dataTable =\n",
              "            await google.colab.kernel.invokeFunction('convertToInteractive',\n",
              "                                                     [key], {});\n",
              "          if (!dataTable) return;\n",
              "\n",
              "          const docLinkHtml = 'Like what you see? Visit the ' +\n",
              "            '<a target=\"_blank\" href=https://colab.research.google.com/notebooks/data_table.ipynb>data table notebook</a>'\n",
              "            + ' to learn more about interactive tables.';\n",
              "          element.innerHTML = '';\n",
              "          dataTable['output_type'] = 'display_data';\n",
              "          await google.colab.output.renderOutput(dataTable, element);\n",
              "          const docLink = document.createElement('div');\n",
              "          docLink.innerHTML = docLinkHtml;\n",
              "          element.appendChild(docLink);\n",
              "        }\n",
              "      </script>\n",
              "    </div>\n",
              "  </div>\n",
              "  "
            ],
            "text/plain": [
              "       CPI_mean\n",
              "Store          \n",
              "1       221.974\n",
              "2       221.675\n",
              "3       225.590\n",
              "4       131.028\n",
              "5       222.455"
            ]
          },
          "metadata": {},
          "execution_count": 60
        }
      ]
    },
    {
      "cell_type": "markdown",
      "source": [
        ""
      ],
      "metadata": {
        "id": "FqNvam5FFvfG"
      }
    },
    {
      "cell_type": "code",
      "source": [
        ""
      ],
      "metadata": {
        "id": "lLpFU5tRF5i5"
      },
      "execution_count": 60,
      "outputs": []
    },
    {
      "cell_type": "markdown",
      "source": [
        "## Statistics"
      ],
      "metadata": {
        "id": "5vqA1WSaFwa_"
      }
    },
    {
      "cell_type": "markdown",
      "source": [
        "**NumPy Correlation Calculation:**\n",
        "\n",
        "corrcoef() returns the correlation matrix, which is a two-dimensional array with the correlation coefficients"
      ],
      "metadata": {
        "id": "TL3O8BalQAfT"
      }
    },
    {
      "cell_type": "code",
      "source": [
        "# NumPy Correlation Calculation:\n",
        "## https://realpython.com/numpy-scipy-pandas-correlation-python/\n",
        "# r = np.corrcoef(x, y)\n",
        "r = np.corrcoef(data_set['Fuel_Price']\t, data_set['CPI'])\n",
        "r"
      ],
      "metadata": {
        "colab": {
          "base_uri": "https://localhost:8080/"
        },
        "id": "xM7UKCw0F6Yw",
        "outputId": "ea2f10a7-3fa5-4f4f-f8ec-16a37b58fc1a"
      },
      "execution_count": 61,
      "outputs": [
        {
          "output_type": "execute_result",
          "data": {
            "text/plain": [
              "array([[ 1.        , -0.39446808],\n",
              "       [-0.39446808,  1.        ]])"
            ]
          },
          "metadata": {},
          "execution_count": 61
        }
      ]
    },
    {
      "cell_type": "code",
      "source": [
        "# Get the Pearson correlation coefficient:\n",
        "# x.corr(y)\n",
        "data_set['Fuel_Price'].corr(data_set['CPI'])"
      ],
      "metadata": {
        "colab": {
          "base_uri": "https://localhost:8080/"
        },
        "id": "qePvuQCJXFcf",
        "outputId": "78a1b577-f1cf-406c-e7f1-8bd0d6caccb1"
      },
      "execution_count": 62,
      "outputs": [
        {
          "output_type": "execute_result",
          "data": {
            "text/plain": [
              "-0.3944680808066294"
            ]
          },
          "metadata": {},
          "execution_count": 62
        }
      ]
    },
    {
      "cell_type": "markdown",
      "source": [
        "**Pearson correlation coefficient**"
      ],
      "metadata": {
        "id": "autZxwzwQI5_"
      }
    },
    {
      "cell_type": "code",
      "source": [
        "import scipy.stats"
      ],
      "metadata": {
        "id": "mJAOWZPIQJRB"
      },
      "execution_count": 63,
      "outputs": []
    },
    {
      "cell_type": "code",
      "source": [
        "scipy.stats.pearsonr(data_set['Temperature'], data_set['CPI'])    # Pearson's r"
      ],
      "metadata": {
        "colab": {
          "base_uri": "https://localhost:8080/"
        },
        "id": "ZJ-zxTxIQZb2",
        "outputId": "dd86e220-39a9-4fa2-d62e-be007d437d62"
      },
      "execution_count": 64,
      "outputs": [
        {
          "output_type": "execute_result",
          "data": {
            "text/plain": [
              "(0.2035920026768376, 8.506210735290963e-21)"
            ]
          },
          "metadata": {},
          "execution_count": 64
        }
      ]
    },
    {
      "cell_type": "code",
      "source": [
        "scipy.stats.spearmanr(data_set['Temperature'], data_set['CPI'])   # Spearman's rho"
      ],
      "metadata": {
        "colab": {
          "base_uri": "https://localhost:8080/"
        },
        "id": "7wASyVCyRMmn",
        "outputId": "336eef07-19c5-4376-d98e-67782a6a6c4e"
      },
      "execution_count": 65,
      "outputs": [
        {
          "output_type": "execute_result",
          "data": {
            "text/plain": [
              "SpearmanrResult(correlation=0.20964197345653346, pvalue=5.56041517730163e-22)"
            ]
          },
          "metadata": {},
          "execution_count": 65
        }
      ]
    },
    {
      "cell_type": "code",
      "source": [
        "\n",
        "scipy.stats.kendalltau(data_set['Temperature'], data_set['CPI'])  # Kendall's tau"
      ],
      "metadata": {
        "colab": {
          "base_uri": "https://localhost:8080/"
        },
        "id": "ETOP8rQIRPyn",
        "outputId": "7bdef97c-a88f-48eb-f53a-123d38ebb5e4"
      },
      "execution_count": 66,
      "outputs": [
        {
          "output_type": "execute_result",
          "data": {
            "text/plain": [
              "KendalltauResult(correlation=0.1408180972084343, pvalue=8.760892060460995e-22)"
            ]
          },
          "metadata": {},
          "execution_count": 66
        }
      ]
    },
    {
      "cell_type": "code",
      "source": [
        "# If you want to get the Pearson correlation coefficient and p-value at the same time, then you can unpack the return value:\n",
        "\n",
        "# r, p = scipy.stats.pearsonr(x, y)\n",
        "r, p = scipy.stats.pearsonr(data_set['Temperature'], data_set['CPI'])\n",
        "r,p"
      ],
      "metadata": {
        "colab": {
          "base_uri": "https://localhost:8080/"
        },
        "id": "qem1qXg7SIWz",
        "outputId": "19f2f39e-4f27-4cdb-dc35-faa04e185eeb"
      },
      "execution_count": 67,
      "outputs": [
        {
          "output_type": "execute_result",
          "data": {
            "text/plain": [
              "(0.2035920026768376, 8.506210735290963e-21)"
            ]
          },
          "metadata": {},
          "execution_count": 67
        }
      ]
    },
    {
      "cell_type": "markdown",
      "source": [
        "You can use scipy.stats.linregress() to perform linear regression for two arrays of the same length."
      ],
      "metadata": {
        "id": "FNZEN9kMSze8"
      }
    },
    {
      "cell_type": "markdown",
      "source": [
        ".slope: the slope of the regression line/\n",
        "\n",
        ".intercept: the intercept of the regression line/\n",
        "\n",
        ".pvalue: the p-value/\n",
        "\n",
        ".stderr: the standard error of the estimated gradient/\n"
      ],
      "metadata": {
        "id": "DTqPJj_sTdhl"
      }
    },
    {
      "cell_type": "code",
      "source": [
        "# result = scipy.stats.linregress(x, y)\n",
        "result = scipy.stats.linregress(data_set['Temperature'], data_set['CPI'])\n",
        "result"
      ],
      "metadata": {
        "colab": {
          "base_uri": "https://localhost:8080/"
        },
        "id": "33ut_vsRSyPN",
        "outputId": "4ae08a5c-f926-420c-87c1-6f34ce057419"
      },
      "execution_count": 68,
      "outputs": [
        {
          "output_type": "execute_result",
          "data": {
            "text/plain": [
              "LinregressResult(slope=0.4402050539163686, intercept=152.46912992683673, rvalue=0.20359200267683758, pvalue=8.506210735310206e-21, stderr=0.046561989062515255)"
            ]
          },
          "metadata": {},
          "execution_count": 68
        }
      ]
    },
    {
      "cell_type": "code",
      "source": [
        "result.intercept"
      ],
      "metadata": {
        "id": "ZJA1g9PbTPT-",
        "colab": {
          "base_uri": "https://localhost:8080/"
        },
        "outputId": "b7b47f7b-9ea0-4ee8-9dad-37c819b2937e"
      },
      "execution_count": 69,
      "outputs": [
        {
          "output_type": "execute_result",
          "data": {
            "text/plain": [
              "152.46912992683673"
            ]
          },
          "metadata": {},
          "execution_count": 69
        }
      ]
    },
    {
      "cell_type": "code",
      "source": [
        "result.rvalue"
      ],
      "metadata": {
        "id": "cryv33GVTQIY",
        "colab": {
          "base_uri": "https://localhost:8080/"
        },
        "outputId": "ffc4888e-5798-4213-b4f1-901fe5e4a1d2"
      },
      "execution_count": 70,
      "outputs": [
        {
          "output_type": "execute_result",
          "data": {
            "text/plain": [
              "0.20359200267683758"
            ]
          },
          "metadata": {},
          "execution_count": 70
        }
      ]
    },
    {
      "cell_type": "code",
      "source": [
        "result.pvalue"
      ],
      "metadata": {
        "colab": {
          "base_uri": "https://localhost:8080/"
        },
        "id": "SnDo3WDPTUIF",
        "outputId": "14052951-ed68-4d9e-f024-dca231dddd77"
      },
      "execution_count": 71,
      "outputs": [
        {
          "output_type": "execute_result",
          "data": {
            "text/plain": [
              "8.506210735310206e-21"
            ]
          },
          "metadata": {},
          "execution_count": 71
        }
      ]
    },
    {
      "cell_type": "code",
      "source": [
        "result.stderr"
      ],
      "metadata": {
        "colab": {
          "base_uri": "https://localhost:8080/"
        },
        "id": "C2SUQDGJTU1O",
        "outputId": "9e80f760-f65d-4131-b667-40dad3f9aad0"
      },
      "execution_count": 72,
      "outputs": [
        {
          "output_type": "execute_result",
          "data": {
            "text/plain": [
              "0.046561989062515255"
            ]
          },
          "metadata": {},
          "execution_count": 72
        }
      ]
    }
  ]
}