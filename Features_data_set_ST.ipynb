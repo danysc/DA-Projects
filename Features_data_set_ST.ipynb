{
  "nbformat": 4,
  "nbformat_minor": 0,
  "metadata": {
    "colab": {
      "name": "Features_data_set_ST.ipynb",
      "provenance": [],
      "collapsed_sections": [],
      "authorship_tag": "ABX9TyMtqv707MsaF+cL1Xkw8Xtq",
      "include_colab_link": true
    },
    "kernelspec": {
      "name": "python3",
      "display_name": "Python 3"
    },
    "language_info": {
      "name": "python"
    }
  },
  "cells": [
    {
      "cell_type": "markdown",
      "metadata": {
        "id": "view-in-github",
        "colab_type": "text"
      },
      "source": [
        "<a href=\"https://colab.research.google.com/github/danysc/DA-Projects/blob/main/Features_data_set_ST.ipynb\" target=\"_parent\"><img src=\"https://colab.research.google.com/assets/colab-badge.svg\" alt=\"Open In Colab\"/></a>"
      ]
    },
    {
      "cell_type": "markdown",
      "source": [
        "#### Features_data_set_ST"
      ],
      "metadata": {
        "id": "fMX_I1bb-Dtm"
      }
    },
    {
      "cell_type": "markdown",
      "source": [
        "The dataset is from:<br>\n",
        "\n",
        "https://www.kaggle.com/manjeetsingh/retaildataset"
      ],
      "metadata": {
        "id": "gH3K6zie-EB3"
      }
    },
    {
      "cell_type": "markdown",
      "source": [
        "**With Statistics**\n"
      ],
      "metadata": {
        "id": "xh70CPDT-MeP"
      }
    },
    {
      "cell_type": "markdown",
      "source": [
        "Features\n",
        "Contains additional data related to the store, department, and regional activity for the given dates.<br><br>\n",
        "Store - The store number.<br>\n",
        "Date - The date.<br>\n",
        "Temperature - average temperature in the region.<br>\n",
        "Fuel_Price - cost of fuel in the region.<br>\n",
        "MarkDown1-5 - Anonymized data related to promotional markdowns.<br> MarkDown data is only available after Nov 2011, and is not available for all stores all the time. Any missing value is marked with an NA.<br>\n",
        "<br>\n",
        "CPI - The consumer price index.<br>\n",
        "Unemployment - The unemployment rate.<br>\n",
        "IsHoliday - Whether the week is a special holiday week."
      ],
      "metadata": {
        "id": "M73OPRDWTp7a"
      }
    },
    {
      "cell_type": "code",
      "source": [
        "import pandas as pd\n",
        "import numpy as np\n",
        "import matplotlib.pyplot as plt\n",
        "import seaborn as sns\n",
        "from collections import Counter"
      ],
      "metadata": {
        "id": "xXSWSAWh-Q1r"
      },
      "execution_count": 1,
      "outputs": []
    },
    {
      "cell_type": "markdown",
      "source": [
        "### Read the csv data file from my GitHub:"
      ],
      "metadata": {
        "id": "a2YGDKIj-Uh0"
      }
    },
    {
      "cell_type": "code",
      "source": [
        "# Read the csv from my GitHub\n",
        "data_set = pd.read_csv('https://raw.githubusercontent.com/danysc/kgdata/main/Features_data_set.csv')\n",
        "# Printing the first 6 rows of the data frame for visualization\n",
        "data_set[:6]"
      ],
      "metadata": {
        "colab": {
          "base_uri": "https://localhost:8080/",
          "height": 282
        },
        "id": "Y-pBhvtv-U5c",
        "outputId": "d5fd4948-dd0a-49df-8602-b75318c16392"
      },
      "execution_count": 2,
      "outputs": [
        {
          "output_type": "execute_result",
          "data": {
            "text/html": [
              "\n",
              "  <div id=\"df-dec2bc1f-2d4d-4858-9028-ad732f9dcfc2\">\n",
              "    <div class=\"colab-df-container\">\n",
              "      <div>\n",
              "<style scoped>\n",
              "    .dataframe tbody tr th:only-of-type {\n",
              "        vertical-align: middle;\n",
              "    }\n",
              "\n",
              "    .dataframe tbody tr th {\n",
              "        vertical-align: top;\n",
              "    }\n",
              "\n",
              "    .dataframe thead th {\n",
              "        text-align: right;\n",
              "    }\n",
              "</style>\n",
              "<table border=\"1\" class=\"dataframe\">\n",
              "  <thead>\n",
              "    <tr style=\"text-align: right;\">\n",
              "      <th></th>\n",
              "      <th>Store</th>\n",
              "      <th>Date</th>\n",
              "      <th>Temperature</th>\n",
              "      <th>Fuel_Price</th>\n",
              "      <th>MarkDown1</th>\n",
              "      <th>MarkDown2</th>\n",
              "      <th>MarkDown3</th>\n",
              "      <th>MarkDown4</th>\n",
              "      <th>MarkDown5</th>\n",
              "      <th>CPI</th>\n",
              "      <th>Unemployment</th>\n",
              "      <th>IsHoliday</th>\n",
              "    </tr>\n",
              "  </thead>\n",
              "  <tbody>\n",
              "    <tr>\n",
              "      <th>0</th>\n",
              "      <td>1</td>\n",
              "      <td>05/02/2010</td>\n",
              "      <td>42.31</td>\n",
              "      <td>2.572</td>\n",
              "      <td>NaN</td>\n",
              "      <td>NaN</td>\n",
              "      <td>NaN</td>\n",
              "      <td>NaN</td>\n",
              "      <td>NaN</td>\n",
              "      <td>211.096358</td>\n",
              "      <td>8.106</td>\n",
              "      <td>False</td>\n",
              "    </tr>\n",
              "    <tr>\n",
              "      <th>1</th>\n",
              "      <td>1</td>\n",
              "      <td>12/02/2010</td>\n",
              "      <td>38.51</td>\n",
              "      <td>2.548</td>\n",
              "      <td>NaN</td>\n",
              "      <td>NaN</td>\n",
              "      <td>NaN</td>\n",
              "      <td>NaN</td>\n",
              "      <td>NaN</td>\n",
              "      <td>211.242170</td>\n",
              "      <td>8.106</td>\n",
              "      <td>True</td>\n",
              "    </tr>\n",
              "    <tr>\n",
              "      <th>2</th>\n",
              "      <td>1</td>\n",
              "      <td>19/02/2010</td>\n",
              "      <td>39.93</td>\n",
              "      <td>2.514</td>\n",
              "      <td>NaN</td>\n",
              "      <td>NaN</td>\n",
              "      <td>NaN</td>\n",
              "      <td>NaN</td>\n",
              "      <td>NaN</td>\n",
              "      <td>211.289143</td>\n",
              "      <td>8.106</td>\n",
              "      <td>False</td>\n",
              "    </tr>\n",
              "    <tr>\n",
              "      <th>3</th>\n",
              "      <td>1</td>\n",
              "      <td>26/02/2010</td>\n",
              "      <td>46.63</td>\n",
              "      <td>2.561</td>\n",
              "      <td>NaN</td>\n",
              "      <td>NaN</td>\n",
              "      <td>NaN</td>\n",
              "      <td>NaN</td>\n",
              "      <td>NaN</td>\n",
              "      <td>211.319643</td>\n",
              "      <td>8.106</td>\n",
              "      <td>False</td>\n",
              "    </tr>\n",
              "    <tr>\n",
              "      <th>4</th>\n",
              "      <td>1</td>\n",
              "      <td>05/03/2010</td>\n",
              "      <td>46.50</td>\n",
              "      <td>2.625</td>\n",
              "      <td>NaN</td>\n",
              "      <td>NaN</td>\n",
              "      <td>NaN</td>\n",
              "      <td>NaN</td>\n",
              "      <td>NaN</td>\n",
              "      <td>211.350143</td>\n",
              "      <td>8.106</td>\n",
              "      <td>False</td>\n",
              "    </tr>\n",
              "    <tr>\n",
              "      <th>5</th>\n",
              "      <td>1</td>\n",
              "      <td>12/03/2010</td>\n",
              "      <td>57.79</td>\n",
              "      <td>2.667</td>\n",
              "      <td>NaN</td>\n",
              "      <td>NaN</td>\n",
              "      <td>NaN</td>\n",
              "      <td>NaN</td>\n",
              "      <td>NaN</td>\n",
              "      <td>211.380643</td>\n",
              "      <td>8.106</td>\n",
              "      <td>False</td>\n",
              "    </tr>\n",
              "  </tbody>\n",
              "</table>\n",
              "</div>\n",
              "      <button class=\"colab-df-convert\" onclick=\"convertToInteractive('df-dec2bc1f-2d4d-4858-9028-ad732f9dcfc2')\"\n",
              "              title=\"Convert this dataframe to an interactive table.\"\n",
              "              style=\"display:none;\">\n",
              "        \n",
              "  <svg xmlns=\"http://www.w3.org/2000/svg\" height=\"24px\"viewBox=\"0 0 24 24\"\n",
              "       width=\"24px\">\n",
              "    <path d=\"M0 0h24v24H0V0z\" fill=\"none\"/>\n",
              "    <path d=\"M18.56 5.44l.94 2.06.94-2.06 2.06-.94-2.06-.94-.94-2.06-.94 2.06-2.06.94zm-11 1L8.5 8.5l.94-2.06 2.06-.94-2.06-.94L8.5 2.5l-.94 2.06-2.06.94zm10 10l.94 2.06.94-2.06 2.06-.94-2.06-.94-.94-2.06-.94 2.06-2.06.94z\"/><path d=\"M17.41 7.96l-1.37-1.37c-.4-.4-.92-.59-1.43-.59-.52 0-1.04.2-1.43.59L10.3 9.45l-7.72 7.72c-.78.78-.78 2.05 0 2.83L4 21.41c.39.39.9.59 1.41.59.51 0 1.02-.2 1.41-.59l7.78-7.78 2.81-2.81c.8-.78.8-2.07 0-2.86zM5.41 20L4 18.59l7.72-7.72 1.47 1.35L5.41 20z\"/>\n",
              "  </svg>\n",
              "      </button>\n",
              "      \n",
              "  <style>\n",
              "    .colab-df-container {\n",
              "      display:flex;\n",
              "      flex-wrap:wrap;\n",
              "      gap: 12px;\n",
              "    }\n",
              "\n",
              "    .colab-df-convert {\n",
              "      background-color: #E8F0FE;\n",
              "      border: none;\n",
              "      border-radius: 50%;\n",
              "      cursor: pointer;\n",
              "      display: none;\n",
              "      fill: #1967D2;\n",
              "      height: 32px;\n",
              "      padding: 0 0 0 0;\n",
              "      width: 32px;\n",
              "    }\n",
              "\n",
              "    .colab-df-convert:hover {\n",
              "      background-color: #E2EBFA;\n",
              "      box-shadow: 0px 1px 2px rgba(60, 64, 67, 0.3), 0px 1px 3px 1px rgba(60, 64, 67, 0.15);\n",
              "      fill: #174EA6;\n",
              "    }\n",
              "\n",
              "    [theme=dark] .colab-df-convert {\n",
              "      background-color: #3B4455;\n",
              "      fill: #D2E3FC;\n",
              "    }\n",
              "\n",
              "    [theme=dark] .colab-df-convert:hover {\n",
              "      background-color: #434B5C;\n",
              "      box-shadow: 0px 1px 3px 1px rgba(0, 0, 0, 0.15);\n",
              "      filter: drop-shadow(0px 1px 2px rgba(0, 0, 0, 0.3));\n",
              "      fill: #FFFFFF;\n",
              "    }\n",
              "  </style>\n",
              "\n",
              "      <script>\n",
              "        const buttonEl =\n",
              "          document.querySelector('#df-dec2bc1f-2d4d-4858-9028-ad732f9dcfc2 button.colab-df-convert');\n",
              "        buttonEl.style.display =\n",
              "          google.colab.kernel.accessAllowed ? 'block' : 'none';\n",
              "\n",
              "        async function convertToInteractive(key) {\n",
              "          const element = document.querySelector('#df-dec2bc1f-2d4d-4858-9028-ad732f9dcfc2');\n",
              "          const dataTable =\n",
              "            await google.colab.kernel.invokeFunction('convertToInteractive',\n",
              "                                                     [key], {});\n",
              "          if (!dataTable) return;\n",
              "\n",
              "          const docLinkHtml = 'Like what you see? Visit the ' +\n",
              "            '<a target=\"_blank\" href=https://colab.research.google.com/notebooks/data_table.ipynb>data table notebook</a>'\n",
              "            + ' to learn more about interactive tables.';\n",
              "          element.innerHTML = '';\n",
              "          dataTable['output_type'] = 'display_data';\n",
              "          await google.colab.output.renderOutput(dataTable, element);\n",
              "          const docLink = document.createElement('div');\n",
              "          docLink.innerHTML = docLinkHtml;\n",
              "          element.appendChild(docLink);\n",
              "        }\n",
              "      </script>\n",
              "    </div>\n",
              "  </div>\n",
              "  "
            ],
            "text/plain": [
              "   Store        Date  Temperature  ...         CPI  Unemployment  IsHoliday\n",
              "0      1  05/02/2010        42.31  ...  211.096358         8.106      False\n",
              "1      1  12/02/2010        38.51  ...  211.242170         8.106       True\n",
              "2      1  19/02/2010        39.93  ...  211.289143         8.106      False\n",
              "3      1  26/02/2010        46.63  ...  211.319643         8.106      False\n",
              "4      1  05/03/2010        46.50  ...  211.350143         8.106      False\n",
              "5      1  12/03/2010        57.79  ...  211.380643         8.106      False\n",
              "\n",
              "[6 rows x 12 columns]"
            ]
          },
          "metadata": {},
          "execution_count": 2
        }
      ]
    },
    {
      "cell_type": "code",
      "source": [
        "data_set.info()"
      ],
      "metadata": {
        "colab": {
          "base_uri": "https://localhost:8080/"
        },
        "id": "tI_p1etCBFMY",
        "outputId": "cb941196-76af-40f0-dfaa-bc696ae32a8d"
      },
      "execution_count": 3,
      "outputs": [
        {
          "output_type": "stream",
          "name": "stdout",
          "text": [
            "<class 'pandas.core.frame.DataFrame'>\n",
            "RangeIndex: 8190 entries, 0 to 8189\n",
            "Data columns (total 12 columns):\n",
            " #   Column        Non-Null Count  Dtype  \n",
            "---  ------        --------------  -----  \n",
            " 0   Store         8190 non-null   int64  \n",
            " 1   Date          8190 non-null   object \n",
            " 2   Temperature   8190 non-null   float64\n",
            " 3   Fuel_Price    8190 non-null   float64\n",
            " 4   MarkDown1     4032 non-null   float64\n",
            " 5   MarkDown2     2921 non-null   float64\n",
            " 6   MarkDown3     3613 non-null   float64\n",
            " 7   MarkDown4     3464 non-null   float64\n",
            " 8   MarkDown5     4050 non-null   float64\n",
            " 9   CPI           7605 non-null   float64\n",
            " 10  Unemployment  7605 non-null   float64\n",
            " 11  IsHoliday     8190 non-null   bool   \n",
            "dtypes: bool(1), float64(9), int64(1), object(1)\n",
            "memory usage: 712.0+ KB\n"
          ]
        }
      ]
    },
    {
      "cell_type": "code",
      "source": [
        "# Convert the Date column to date format:\n",
        "data_set['Date'] = pd.to_datetime(data_set['Date'])\n",
        "data_set.info()"
      ],
      "metadata": {
        "colab": {
          "base_uri": "https://localhost:8080/"
        },
        "id": "S5Uu4Y8PZZga",
        "outputId": "fcc93b11-3520-4ae4-b9ae-4129124a1dbc"
      },
      "execution_count": 4,
      "outputs": [
        {
          "output_type": "stream",
          "name": "stdout",
          "text": [
            "<class 'pandas.core.frame.DataFrame'>\n",
            "RangeIndex: 8190 entries, 0 to 8189\n",
            "Data columns (total 12 columns):\n",
            " #   Column        Non-Null Count  Dtype         \n",
            "---  ------        --------------  -----         \n",
            " 0   Store         8190 non-null   int64         \n",
            " 1   Date          8190 non-null   datetime64[ns]\n",
            " 2   Temperature   8190 non-null   float64       \n",
            " 3   Fuel_Price    8190 non-null   float64       \n",
            " 4   MarkDown1     4032 non-null   float64       \n",
            " 5   MarkDown2     2921 non-null   float64       \n",
            " 6   MarkDown3     3613 non-null   float64       \n",
            " 7   MarkDown4     3464 non-null   float64       \n",
            " 8   MarkDown5     4050 non-null   float64       \n",
            " 9   CPI           7605 non-null   float64       \n",
            " 10  Unemployment  7605 non-null   float64       \n",
            " 11  IsHoliday     8190 non-null   bool          \n",
            "dtypes: bool(1), datetime64[ns](1), float64(9), int64(1)\n",
            "memory usage: 712.0 KB\n"
          ]
        }
      ]
    },
    {
      "cell_type": "code",
      "source": [
        "#Null Check:\n",
        "# Note the null values\n",
        "data_set.isnull().sum()"
      ],
      "metadata": {
        "colab": {
          "base_uri": "https://localhost:8080/"
        },
        "id": "dzLgWx98AsGU",
        "outputId": "3d7e4d18-a05c-4680-ad98-42b180fe8942"
      },
      "execution_count": 5,
      "outputs": [
        {
          "output_type": "execute_result",
          "data": {
            "text/plain": [
              "Store              0\n",
              "Date               0\n",
              "Temperature        0\n",
              "Fuel_Price         0\n",
              "MarkDown1       4158\n",
              "MarkDown2       5269\n",
              "MarkDown3       4577\n",
              "MarkDown4       4726\n",
              "MarkDown5       4140\n",
              "CPI              585\n",
              "Unemployment     585\n",
              "IsHoliday          0\n",
              "dtype: int64"
            ]
          },
          "metadata": {},
          "execution_count": 5
        }
      ]
    },
    {
      "cell_type": "code",
      "source": [
        "# Duplicate check:\n",
        "# No duplicated row\n",
        "data_set.duplicated().sum()"
      ],
      "metadata": {
        "colab": {
          "base_uri": "https://localhost:8080/"
        },
        "id": "rvXoI_r2A8-g",
        "outputId": "744eadb4-3a89-48b4-9438-2e48f7260ded"
      },
      "execution_count": 6,
      "outputs": [
        {
          "output_type": "execute_result",
          "data": {
            "text/plain": [
              "0"
            ]
          },
          "metadata": {},
          "execution_count": 6
        }
      ]
    },
    {
      "cell_type": "markdown",
      "source": [
        "Good. No duplicate"
      ],
      "metadata": {
        "id": "j_9mRkOgCbwt"
      }
    },
    {
      "cell_type": "markdown",
      "source": [
        "Because there a lot of Nulls, I decide to delete the columns."
      ],
      "metadata": {
        "id": "0fCJy1cLCcPj"
      }
    },
    {
      "cell_type": "code",
      "source": [
        "# removing null values to avoid errors \n",
        "data_set.dropna(inplace = True)\n",
        "data_set"
      ],
      "metadata": {
        "colab": {
          "base_uri": "https://localhost:8080/",
          "height": 641
        },
        "id": "HREgtOWoC1k8",
        "outputId": "90e6f25c-5673-49b4-88dd-79379763cfb2"
      },
      "execution_count": 7,
      "outputs": [
        {
          "output_type": "execute_result",
          "data": {
            "text/html": [
              "\n",
              "  <div id=\"df-36c79b5b-8a9f-4334-aeff-68ccf321aa60\">\n",
              "    <div class=\"colab-df-container\">\n",
              "      <div>\n",
              "<style scoped>\n",
              "    .dataframe tbody tr th:only-of-type {\n",
              "        vertical-align: middle;\n",
              "    }\n",
              "\n",
              "    .dataframe tbody tr th {\n",
              "        vertical-align: top;\n",
              "    }\n",
              "\n",
              "    .dataframe thead th {\n",
              "        text-align: right;\n",
              "    }\n",
              "</style>\n",
              "<table border=\"1\" class=\"dataframe\">\n",
              "  <thead>\n",
              "    <tr style=\"text-align: right;\">\n",
              "      <th></th>\n",
              "      <th>Store</th>\n",
              "      <th>Date</th>\n",
              "      <th>Temperature</th>\n",
              "      <th>Fuel_Price</th>\n",
              "      <th>MarkDown1</th>\n",
              "      <th>MarkDown2</th>\n",
              "      <th>MarkDown3</th>\n",
              "      <th>MarkDown4</th>\n",
              "      <th>MarkDown5</th>\n",
              "      <th>CPI</th>\n",
              "      <th>Unemployment</th>\n",
              "      <th>IsHoliday</th>\n",
              "    </tr>\n",
              "  </thead>\n",
              "  <tbody>\n",
              "    <tr>\n",
              "      <th>92</th>\n",
              "      <td>1</td>\n",
              "      <td>2011-11-11</td>\n",
              "      <td>59.11</td>\n",
              "      <td>3.297</td>\n",
              "      <td>10382.90</td>\n",
              "      <td>6115.67</td>\n",
              "      <td>215.07</td>\n",
              "      <td>2406.62</td>\n",
              "      <td>6551.42</td>\n",
              "      <td>217.998085</td>\n",
              "      <td>7.866</td>\n",
              "      <td>False</td>\n",
              "    </tr>\n",
              "    <tr>\n",
              "      <th>93</th>\n",
              "      <td>1</td>\n",
              "      <td>2011-11-18</td>\n",
              "      <td>62.25</td>\n",
              "      <td>3.308</td>\n",
              "      <td>6074.12</td>\n",
              "      <td>254.39</td>\n",
              "      <td>51.98</td>\n",
              "      <td>427.39</td>\n",
              "      <td>5988.57</td>\n",
              "      <td>218.220509</td>\n",
              "      <td>7.866</td>\n",
              "      <td>False</td>\n",
              "    </tr>\n",
              "    <tr>\n",
              "      <th>94</th>\n",
              "      <td>1</td>\n",
              "      <td>2011-11-25</td>\n",
              "      <td>60.14</td>\n",
              "      <td>3.236</td>\n",
              "      <td>410.31</td>\n",
              "      <td>98.00</td>\n",
              "      <td>55805.51</td>\n",
              "      <td>8.00</td>\n",
              "      <td>554.92</td>\n",
              "      <td>218.467621</td>\n",
              "      <td>7.866</td>\n",
              "      <td>True</td>\n",
              "    </tr>\n",
              "    <tr>\n",
              "      <th>95</th>\n",
              "      <td>1</td>\n",
              "      <td>2011-02-12</td>\n",
              "      <td>48.91</td>\n",
              "      <td>3.172</td>\n",
              "      <td>5629.51</td>\n",
              "      <td>68.00</td>\n",
              "      <td>1398.11</td>\n",
              "      <td>2084.64</td>\n",
              "      <td>20475.32</td>\n",
              "      <td>218.714733</td>\n",
              "      <td>7.866</td>\n",
              "      <td>False</td>\n",
              "    </tr>\n",
              "    <tr>\n",
              "      <th>96</th>\n",
              "      <td>1</td>\n",
              "      <td>2011-09-12</td>\n",
              "      <td>43.93</td>\n",
              "      <td>3.158</td>\n",
              "      <td>4640.65</td>\n",
              "      <td>19.00</td>\n",
              "      <td>105.02</td>\n",
              "      <td>3639.42</td>\n",
              "      <td>14461.82</td>\n",
              "      <td>218.961846</td>\n",
              "      <td>7.866</td>\n",
              "      <td>False</td>\n",
              "    </tr>\n",
              "    <tr>\n",
              "      <th>...</th>\n",
              "      <td>...</td>\n",
              "      <td>...</td>\n",
              "      <td>...</td>\n",
              "      <td>...</td>\n",
              "      <td>...</td>\n",
              "      <td>...</td>\n",
              "      <td>...</td>\n",
              "      <td>...</td>\n",
              "      <td>...</td>\n",
              "      <td>...</td>\n",
              "      <td>...</td>\n",
              "      <td>...</td>\n",
              "    </tr>\n",
              "    <tr>\n",
              "      <th>8168</th>\n",
              "      <td>45</td>\n",
              "      <td>2013-01-03</td>\n",
              "      <td>39.72</td>\n",
              "      <td>3.890</td>\n",
              "      <td>6614.32</td>\n",
              "      <td>147.82</td>\n",
              "      <td>5.60</td>\n",
              "      <td>27.55</td>\n",
              "      <td>1668.95</td>\n",
              "      <td>193.122173</td>\n",
              "      <td>8.625</td>\n",
              "      <td>False</td>\n",
              "    </tr>\n",
              "    <tr>\n",
              "      <th>8169</th>\n",
              "      <td>45</td>\n",
              "      <td>2013-08-03</td>\n",
              "      <td>36.13</td>\n",
              "      <td>3.860</td>\n",
              "      <td>16382.54</td>\n",
              "      <td>88.67</td>\n",
              "      <td>34.62</td>\n",
              "      <td>3096.92</td>\n",
              "      <td>3486.91</td>\n",
              "      <td>193.211524</td>\n",
              "      <td>8.625</td>\n",
              "      <td>False</td>\n",
              "    </tr>\n",
              "    <tr>\n",
              "      <th>8173</th>\n",
              "      <td>45</td>\n",
              "      <td>2013-05-04</td>\n",
              "      <td>43.94</td>\n",
              "      <td>3.763</td>\n",
              "      <td>16427.83</td>\n",
              "      <td>5341.41</td>\n",
              "      <td>182.59</td>\n",
              "      <td>1523.83</td>\n",
              "      <td>1743.09</td>\n",
              "      <td>193.516047</td>\n",
              "      <td>8.335</td>\n",
              "      <td>False</td>\n",
              "    </tr>\n",
              "    <tr>\n",
              "      <th>8174</th>\n",
              "      <td>45</td>\n",
              "      <td>2013-12-04</td>\n",
              "      <td>57.39</td>\n",
              "      <td>3.724</td>\n",
              "      <td>8760.15</td>\n",
              "      <td>1713.11</td>\n",
              "      <td>21.08</td>\n",
              "      <td>1302.31</td>\n",
              "      <td>1380.74</td>\n",
              "      <td>193.589304</td>\n",
              "      <td>8.335</td>\n",
              "      <td>False</td>\n",
              "    </tr>\n",
              "    <tr>\n",
              "      <th>8175</th>\n",
              "      <td>45</td>\n",
              "      <td>2013-04-19</td>\n",
              "      <td>56.27</td>\n",
              "      <td>3.676</td>\n",
              "      <td>1399.81</td>\n",
              "      <td>39.89</td>\n",
              "      <td>44.38</td>\n",
              "      <td>60.83</td>\n",
              "      <td>1445.05</td>\n",
              "      <td>193.589304</td>\n",
              "      <td>8.335</td>\n",
              "      <td>False</td>\n",
              "    </tr>\n",
              "  </tbody>\n",
              "</table>\n",
              "<p>2069 rows × 12 columns</p>\n",
              "</div>\n",
              "      <button class=\"colab-df-convert\" onclick=\"convertToInteractive('df-36c79b5b-8a9f-4334-aeff-68ccf321aa60')\"\n",
              "              title=\"Convert this dataframe to an interactive table.\"\n",
              "              style=\"display:none;\">\n",
              "        \n",
              "  <svg xmlns=\"http://www.w3.org/2000/svg\" height=\"24px\"viewBox=\"0 0 24 24\"\n",
              "       width=\"24px\">\n",
              "    <path d=\"M0 0h24v24H0V0z\" fill=\"none\"/>\n",
              "    <path d=\"M18.56 5.44l.94 2.06.94-2.06 2.06-.94-2.06-.94-.94-2.06-.94 2.06-2.06.94zm-11 1L8.5 8.5l.94-2.06 2.06-.94-2.06-.94L8.5 2.5l-.94 2.06-2.06.94zm10 10l.94 2.06.94-2.06 2.06-.94-2.06-.94-.94-2.06-.94 2.06-2.06.94z\"/><path d=\"M17.41 7.96l-1.37-1.37c-.4-.4-.92-.59-1.43-.59-.52 0-1.04.2-1.43.59L10.3 9.45l-7.72 7.72c-.78.78-.78 2.05 0 2.83L4 21.41c.39.39.9.59 1.41.59.51 0 1.02-.2 1.41-.59l7.78-7.78 2.81-2.81c.8-.78.8-2.07 0-2.86zM5.41 20L4 18.59l7.72-7.72 1.47 1.35L5.41 20z\"/>\n",
              "  </svg>\n",
              "      </button>\n",
              "      \n",
              "  <style>\n",
              "    .colab-df-container {\n",
              "      display:flex;\n",
              "      flex-wrap:wrap;\n",
              "      gap: 12px;\n",
              "    }\n",
              "\n",
              "    .colab-df-convert {\n",
              "      background-color: #E8F0FE;\n",
              "      border: none;\n",
              "      border-radius: 50%;\n",
              "      cursor: pointer;\n",
              "      display: none;\n",
              "      fill: #1967D2;\n",
              "      height: 32px;\n",
              "      padding: 0 0 0 0;\n",
              "      width: 32px;\n",
              "    }\n",
              "\n",
              "    .colab-df-convert:hover {\n",
              "      background-color: #E2EBFA;\n",
              "      box-shadow: 0px 1px 2px rgba(60, 64, 67, 0.3), 0px 1px 3px 1px rgba(60, 64, 67, 0.15);\n",
              "      fill: #174EA6;\n",
              "    }\n",
              "\n",
              "    [theme=dark] .colab-df-convert {\n",
              "      background-color: #3B4455;\n",
              "      fill: #D2E3FC;\n",
              "    }\n",
              "\n",
              "    [theme=dark] .colab-df-convert:hover {\n",
              "      background-color: #434B5C;\n",
              "      box-shadow: 0px 1px 3px 1px rgba(0, 0, 0, 0.15);\n",
              "      filter: drop-shadow(0px 1px 2px rgba(0, 0, 0, 0.3));\n",
              "      fill: #FFFFFF;\n",
              "    }\n",
              "  </style>\n",
              "\n",
              "      <script>\n",
              "        const buttonEl =\n",
              "          document.querySelector('#df-36c79b5b-8a9f-4334-aeff-68ccf321aa60 button.colab-df-convert');\n",
              "        buttonEl.style.display =\n",
              "          google.colab.kernel.accessAllowed ? 'block' : 'none';\n",
              "\n",
              "        async function convertToInteractive(key) {\n",
              "          const element = document.querySelector('#df-36c79b5b-8a9f-4334-aeff-68ccf321aa60');\n",
              "          const dataTable =\n",
              "            await google.colab.kernel.invokeFunction('convertToInteractive',\n",
              "                                                     [key], {});\n",
              "          if (!dataTable) return;\n",
              "\n",
              "          const docLinkHtml = 'Like what you see? Visit the ' +\n",
              "            '<a target=\"_blank\" href=https://colab.research.google.com/notebooks/data_table.ipynb>data table notebook</a>'\n",
              "            + ' to learn more about interactive tables.';\n",
              "          element.innerHTML = '';\n",
              "          dataTable['output_type'] = 'display_data';\n",
              "          await google.colab.output.renderOutput(dataTable, element);\n",
              "          const docLink = document.createElement('div');\n",
              "          docLink.innerHTML = docLinkHtml;\n",
              "          element.appendChild(docLink);\n",
              "        }\n",
              "      </script>\n",
              "    </div>\n",
              "  </div>\n",
              "  "
            ],
            "text/plain": [
              "      Store       Date  Temperature  ...         CPI  Unemployment  IsHoliday\n",
              "92        1 2011-11-11        59.11  ...  217.998085         7.866      False\n",
              "93        1 2011-11-18        62.25  ...  218.220509         7.866      False\n",
              "94        1 2011-11-25        60.14  ...  218.467621         7.866       True\n",
              "95        1 2011-02-12        48.91  ...  218.714733         7.866      False\n",
              "96        1 2011-09-12        43.93  ...  218.961846         7.866      False\n",
              "...     ...        ...          ...  ...         ...           ...        ...\n",
              "8168     45 2013-01-03        39.72  ...  193.122173         8.625      False\n",
              "8169     45 2013-08-03        36.13  ...  193.211524         8.625      False\n",
              "8173     45 2013-05-04        43.94  ...  193.516047         8.335      False\n",
              "8174     45 2013-12-04        57.39  ...  193.589304         8.335      False\n",
              "8175     45 2013-04-19        56.27  ...  193.589304         8.335      False\n",
              "\n",
              "[2069 rows x 12 columns]"
            ]
          },
          "metadata": {},
          "execution_count": 7
        }
      ]
    },
    {
      "cell_type": "markdown",
      "source": [
        "## Statistics (Correlation)"
      ],
      "metadata": {
        "id": "5vqA1WSaFwa_"
      }
    },
    {
      "cell_type": "markdown",
      "source": [
        "**NumPy Correlation Calculation:**\n",
        "\n",
        "corrcoef() returns the correlation matrix, which is a two-dimensional array with the correlation coefficients"
      ],
      "metadata": {
        "id": "TL3O8BalQAfT"
      }
    },
    {
      "cell_type": "code",
      "source": [
        "# NumPy Correlation Calculation:\n",
        "## https://realpython.com/numpy-scipy-pandas-correlation-python/\n",
        "# r = np.corrcoef(x, y)\n",
        "r = np.corrcoef(data_set['Fuel_Price'], data_set['CPI'])\n",
        "r"
      ],
      "metadata": {
        "colab": {
          "base_uri": "https://localhost:8080/"
        },
        "id": "xM7UKCw0F6Yw",
        "outputId": "3046e1e0-a10a-4253-ebdf-4b6035561182"
      },
      "execution_count": 8,
      "outputs": [
        {
          "output_type": "execute_result",
          "data": {
            "text/plain": [
              "array([[ 1.        , -0.39446808],\n",
              "       [-0.39446808,  1.        ]])"
            ]
          },
          "metadata": {},
          "execution_count": 8
        }
      ]
    },
    {
      "cell_type": "code",
      "source": [
        "# Get the Pearson correlation coefficient:\n",
        "# x.corr(y)\n",
        "data_set['Fuel_Price'].corr(data_set['CPI'])"
      ],
      "metadata": {
        "colab": {
          "base_uri": "https://localhost:8080/"
        },
        "id": "qePvuQCJXFcf",
        "outputId": "b2a390c4-73ba-453a-e608-78c767cf32a8"
      },
      "execution_count": 9,
      "outputs": [
        {
          "output_type": "execute_result",
          "data": {
            "text/plain": [
              "-0.39446808080662943"
            ]
          },
          "metadata": {},
          "execution_count": 9
        }
      ]
    },
    {
      "cell_type": "markdown",
      "source": [
        "**Pearson correlation coefficient**"
      ],
      "metadata": {
        "id": "autZxwzwQI5_"
      }
    },
    {
      "cell_type": "code",
      "source": [
        "import scipy.stats"
      ],
      "metadata": {
        "id": "mJAOWZPIQJRB"
      },
      "execution_count": 10,
      "outputs": []
    },
    {
      "cell_type": "code",
      "source": [
        "scipy.stats.pearsonr(data_set['Temperature'], data_set['CPI'])    # Pearson's r"
      ],
      "metadata": {
        "colab": {
          "base_uri": "https://localhost:8080/"
        },
        "id": "ZJ-zxTxIQZb2",
        "outputId": "34d99f8f-51b0-49f2-dbba-833cc52dc3c2"
      },
      "execution_count": 11,
      "outputs": [
        {
          "output_type": "execute_result",
          "data": {
            "text/plain": [
              "(0.20359200267683755, 8.506210735289935e-21)"
            ]
          },
          "metadata": {},
          "execution_count": 11
        }
      ]
    },
    {
      "cell_type": "code",
      "source": [
        "scipy.stats.spearmanr(data_set['Temperature'], data_set['CPI'])   # Spearman's rho"
      ],
      "metadata": {
        "colab": {
          "base_uri": "https://localhost:8080/"
        },
        "id": "7wASyVCyRMmn",
        "outputId": "f01f3053-89e8-492b-e8ad-7f2198365bb4"
      },
      "execution_count": 12,
      "outputs": [
        {
          "output_type": "execute_result",
          "data": {
            "text/plain": [
              "SpearmanrResult(correlation=0.20964197345653346, pvalue=5.56041517730163e-22)"
            ]
          },
          "metadata": {},
          "execution_count": 12
        }
      ]
    },
    {
      "cell_type": "code",
      "source": [
        "\n",
        "scipy.stats.kendalltau(data_set['Temperature'], data_set['CPI'])  # Kendall's tau"
      ],
      "metadata": {
        "colab": {
          "base_uri": "https://localhost:8080/"
        },
        "id": "ETOP8rQIRPyn",
        "outputId": "51cbe78e-e95f-4674-8eb6-c603ea44a614"
      },
      "execution_count": 13,
      "outputs": [
        {
          "output_type": "execute_result",
          "data": {
            "text/plain": [
              "KendalltauResult(correlation=0.1408180972084343, pvalue=8.760892060460995e-22)"
            ]
          },
          "metadata": {},
          "execution_count": 13
        }
      ]
    },
    {
      "cell_type": "code",
      "source": [
        "# If you want to get the Pearson correlation coefficient and p-value at the same time, then you can unpack the return value:\n",
        "\n",
        "# r, p = scipy.stats.pearsonr(x, y)\n",
        "r, p = scipy.stats.pearsonr(data_set['Temperature'], data_set['CPI'])\n",
        "r,p"
      ],
      "metadata": {
        "colab": {
          "base_uri": "https://localhost:8080/"
        },
        "id": "qem1qXg7SIWz",
        "outputId": "15edf22b-5113-404c-a70f-6f990a7a16a8"
      },
      "execution_count": 14,
      "outputs": [
        {
          "output_type": "execute_result",
          "data": {
            "text/plain": [
              "(0.20359200267683755, 8.506210735289935e-21)"
            ]
          },
          "metadata": {},
          "execution_count": 14
        }
      ]
    },
    {
      "cell_type": "markdown",
      "source": [
        "You can use scipy.stats.linregress() to perform linear regression for two arrays of the same length."
      ],
      "metadata": {
        "id": "FNZEN9kMSze8"
      }
    },
    {
      "cell_type": "markdown",
      "source": [
        ".slope: the slope of the regression line/\n",
        "\n",
        ".intercept: the intercept of the regression line/\n",
        "\n",
        ".pvalue: the p-value/\n",
        "\n",
        ".stderr: the standard error of the estimated gradient/\n"
      ],
      "metadata": {
        "id": "DTqPJj_sTdhl"
      }
    },
    {
      "cell_type": "code",
      "source": [
        "# result = scipy.stats.linregress(x, y)\n",
        "result = scipy.stats.linregress(data_set['Temperature'], data_set['CPI'])\n",
        "result"
      ],
      "metadata": {
        "colab": {
          "base_uri": "https://localhost:8080/"
        },
        "id": "33ut_vsRSyPN",
        "outputId": "ec5664e6-0beb-4d07-9e8c-f493cc6d6c11"
      },
      "execution_count": 15,
      "outputs": [
        {
          "output_type": "execute_result",
          "data": {
            "text/plain": [
              "LinregressResult(slope=0.44020505391636855, intercept=152.46912992683673, rvalue=0.20359200267683755, pvalue=8.506210735310206e-21, stderr=0.04656198906251526)"
            ]
          },
          "metadata": {},
          "execution_count": 15
        }
      ]
    },
    {
      "cell_type": "code",
      "source": [
        "result.intercept"
      ],
      "metadata": {
        "id": "ZJA1g9PbTPT-",
        "colab": {
          "base_uri": "https://localhost:8080/"
        },
        "outputId": "9b254635-5f42-4a08-ffa1-bed62abeae11"
      },
      "execution_count": 16,
      "outputs": [
        {
          "output_type": "execute_result",
          "data": {
            "text/plain": [
              "152.46912992683673"
            ]
          },
          "metadata": {},
          "execution_count": 16
        }
      ]
    },
    {
      "cell_type": "code",
      "source": [
        "result.rvalue"
      ],
      "metadata": {
        "id": "cryv33GVTQIY",
        "colab": {
          "base_uri": "https://localhost:8080/"
        },
        "outputId": "1c58599c-e81f-400e-bfb0-de81495f25c6"
      },
      "execution_count": 17,
      "outputs": [
        {
          "output_type": "execute_result",
          "data": {
            "text/plain": [
              "0.20359200267683755"
            ]
          },
          "metadata": {},
          "execution_count": 17
        }
      ]
    },
    {
      "cell_type": "code",
      "source": [
        "result.pvalue"
      ],
      "metadata": {
        "colab": {
          "base_uri": "https://localhost:8080/"
        },
        "id": "SnDo3WDPTUIF",
        "outputId": "bcca6b1d-21a2-4af4-972c-c5314322728f"
      },
      "execution_count": 18,
      "outputs": [
        {
          "output_type": "execute_result",
          "data": {
            "text/plain": [
              "8.506210735310206e-21"
            ]
          },
          "metadata": {},
          "execution_count": 18
        }
      ]
    },
    {
      "cell_type": "code",
      "source": [
        "result.stderr"
      ],
      "metadata": {
        "colab": {
          "base_uri": "https://localhost:8080/"
        },
        "id": "C2SUQDGJTU1O",
        "outputId": "d5fa90e6-c9b8-4abb-aa82-bdbfc8d8bb6d"
      },
      "execution_count": 19,
      "outputs": [
        {
          "output_type": "execute_result",
          "data": {
            "text/plain": [
              "0.04656198906251526"
            ]
          },
          "metadata": {},
          "execution_count": 19
        }
      ]
    }
  ]
}