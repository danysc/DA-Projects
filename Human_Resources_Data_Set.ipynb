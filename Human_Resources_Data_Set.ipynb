{
  "nbformat": 4,
  "nbformat_minor": 0,
  "metadata": {
    "colab": {
      "name": "Human Resources Data Set.ipynb",
      "provenance": [],
      "collapsed_sections": [],
      "authorship_tag": "ABX9TyOaBiWMNqhqEW+euBSm7Z+F",
      "include_colab_link": true
    },
    "kernelspec": {
      "name": "python3",
      "display_name": "Python 3"
    },
    "language_info": {
      "name": "python"
    }
  },
  "cells": [
    {
      "cell_type": "markdown",
      "metadata": {
        "id": "view-in-github",
        "colab_type": "text"
      },
      "source": [
        "<a href=\"https://colab.research.google.com/github/danysc/DA-Projects/blob/main/Human_Resources_Data_Set.ipynb\" target=\"_parent\"><img src=\"https://colab.research.google.com/assets/colab-badge.svg\" alt=\"Open In Colab\"/></a>"
      ]
    },
    {
      "cell_type": "markdown",
      "source": [
        "Human Resources Data Set"
      ],
      "metadata": {
        "id": "_kt6DSeKz96_"
      }
    },
    {
      "cell_type": "markdown",
      "source": [
        "Data From:  :\n",
        "https://www.kaggle.com/rhuebner/human-resources-data-set"
      ],
      "metadata": {
        "id": "ubw3Q6NYz-PZ"
      }
    },
    {
      "cell_type": "code",
      "source": [
        "import pandas as pd\n",
        "import numpy as np\n",
        "import matplotlib.pyplot as plt\n",
        "import seaborn as sns\n",
        "# from collections import Counter"
      ],
      "metadata": {
        "id": "nXmOLh-_DBCV"
      },
      "execution_count": null,
      "outputs": []
    },
    {
      "cell_type": "code",
      "source": [
        "pd.set_option(\"display.precision\", 1)"
      ],
      "metadata": {
        "id": "tN9Dt7H-Zf4K"
      },
      "execution_count": null,
      "outputs": []
    },
    {
      "cell_type": "markdown",
      "source": [
        "Read the data from Github:"
      ],
      "metadata": {
        "id": "EH3aeSqZDEIs"
      }
    },
    {
      "cell_type": "code",
      "source": [
        "# Read the csv from my GitHub\n",
        "df = pd.read_csv('https://raw.githubusercontent.com/danysc/DA-Projects/main/HRDataset_v14.csv')\n",
        "columnNames = list(df)\n",
        "df.head(10)"
      ],
      "metadata": {
        "colab": {
          "base_uri": "https://localhost:8080/",
          "height": 595
        },
        "id": "VD2-kIgyC3oZ",
        "outputId": "0f4cf511-5d50-4092-e74c-321650b55be8"
      },
      "execution_count": null,
      "outputs": [
        {
          "output_type": "execute_result",
          "data": {
            "text/html": [
              "\n",
              "  <div id=\"df-7bc79306-b5ed-4853-bf6e-f9a783c19978\">\n",
              "    <div class=\"colab-df-container\">\n",
              "      <div>\n",
              "<style scoped>\n",
              "    .dataframe tbody tr th:only-of-type {\n",
              "        vertical-align: middle;\n",
              "    }\n",
              "\n",
              "    .dataframe tbody tr th {\n",
              "        vertical-align: top;\n",
              "    }\n",
              "\n",
              "    .dataframe thead th {\n",
              "        text-align: right;\n",
              "    }\n",
              "</style>\n",
              "<table border=\"1\" class=\"dataframe\">\n",
              "  <thead>\n",
              "    <tr style=\"text-align: right;\">\n",
              "      <th></th>\n",
              "      <th>Employee_Name</th>\n",
              "      <th>EmpID</th>\n",
              "      <th>MarriedID</th>\n",
              "      <th>MaritalStatusID</th>\n",
              "      <th>GenderID</th>\n",
              "      <th>EmpStatusID</th>\n",
              "      <th>DeptID</th>\n",
              "      <th>PerfScoreID</th>\n",
              "      <th>FromDiversityJobFairID</th>\n",
              "      <th>Salary</th>\n",
              "      <th>...</th>\n",
              "      <th>ManagerName</th>\n",
              "      <th>ManagerID</th>\n",
              "      <th>RecruitmentSource</th>\n",
              "      <th>PerformanceScore</th>\n",
              "      <th>EngagementSurvey</th>\n",
              "      <th>EmpSatisfaction</th>\n",
              "      <th>SpecialProjectsCount</th>\n",
              "      <th>LastPerformanceReview_Date</th>\n",
              "      <th>DaysLateLast30</th>\n",
              "      <th>Absences</th>\n",
              "    </tr>\n",
              "  </thead>\n",
              "  <tbody>\n",
              "    <tr>\n",
              "      <th>0</th>\n",
              "      <td>Adinolfi, Wilson  K</td>\n",
              "      <td>10026</td>\n",
              "      <td>0</td>\n",
              "      <td>0</td>\n",
              "      <td>1</td>\n",
              "      <td>1</td>\n",
              "      <td>5</td>\n",
              "      <td>4</td>\n",
              "      <td>0</td>\n",
              "      <td>62506</td>\n",
              "      <td>...</td>\n",
              "      <td>Michael Albert</td>\n",
              "      <td>22.0</td>\n",
              "      <td>LinkedIn</td>\n",
              "      <td>Exceeds</td>\n",
              "      <td>4.6</td>\n",
              "      <td>5</td>\n",
              "      <td>0</td>\n",
              "      <td>1/17/2019</td>\n",
              "      <td>0</td>\n",
              "      <td>1</td>\n",
              "    </tr>\n",
              "    <tr>\n",
              "      <th>1</th>\n",
              "      <td>Ait Sidi, Karthikeyan</td>\n",
              "      <td>10084</td>\n",
              "      <td>1</td>\n",
              "      <td>1</td>\n",
              "      <td>1</td>\n",
              "      <td>5</td>\n",
              "      <td>3</td>\n",
              "      <td>3</td>\n",
              "      <td>0</td>\n",
              "      <td>104437</td>\n",
              "      <td>...</td>\n",
              "      <td>Simon Roup</td>\n",
              "      <td>4.0</td>\n",
              "      <td>Indeed</td>\n",
              "      <td>Fully Meets</td>\n",
              "      <td>5.0</td>\n",
              "      <td>3</td>\n",
              "      <td>6</td>\n",
              "      <td>2/24/2016</td>\n",
              "      <td>0</td>\n",
              "      <td>17</td>\n",
              "    </tr>\n",
              "    <tr>\n",
              "      <th>2</th>\n",
              "      <td>Akinkuolie, Sarah</td>\n",
              "      <td>10196</td>\n",
              "      <td>1</td>\n",
              "      <td>1</td>\n",
              "      <td>0</td>\n",
              "      <td>5</td>\n",
              "      <td>5</td>\n",
              "      <td>3</td>\n",
              "      <td>0</td>\n",
              "      <td>64955</td>\n",
              "      <td>...</td>\n",
              "      <td>Kissy Sullivan</td>\n",
              "      <td>20.0</td>\n",
              "      <td>LinkedIn</td>\n",
              "      <td>Fully Meets</td>\n",
              "      <td>3.0</td>\n",
              "      <td>3</td>\n",
              "      <td>0</td>\n",
              "      <td>5/15/2012</td>\n",
              "      <td>0</td>\n",
              "      <td>3</td>\n",
              "    </tr>\n",
              "    <tr>\n",
              "      <th>3</th>\n",
              "      <td>Alagbe,Trina</td>\n",
              "      <td>10088</td>\n",
              "      <td>1</td>\n",
              "      <td>1</td>\n",
              "      <td>0</td>\n",
              "      <td>1</td>\n",
              "      <td>5</td>\n",
              "      <td>3</td>\n",
              "      <td>0</td>\n",
              "      <td>64991</td>\n",
              "      <td>...</td>\n",
              "      <td>Elijiah Gray</td>\n",
              "      <td>16.0</td>\n",
              "      <td>Indeed</td>\n",
              "      <td>Fully Meets</td>\n",
              "      <td>4.8</td>\n",
              "      <td>5</td>\n",
              "      <td>0</td>\n",
              "      <td>1/3/2019</td>\n",
              "      <td>0</td>\n",
              "      <td>15</td>\n",
              "    </tr>\n",
              "    <tr>\n",
              "      <th>4</th>\n",
              "      <td>Anderson, Carol</td>\n",
              "      <td>10069</td>\n",
              "      <td>0</td>\n",
              "      <td>2</td>\n",
              "      <td>0</td>\n",
              "      <td>5</td>\n",
              "      <td>5</td>\n",
              "      <td>3</td>\n",
              "      <td>0</td>\n",
              "      <td>50825</td>\n",
              "      <td>...</td>\n",
              "      <td>Webster Butler</td>\n",
              "      <td>39.0</td>\n",
              "      <td>Google Search</td>\n",
              "      <td>Fully Meets</td>\n",
              "      <td>5.0</td>\n",
              "      <td>4</td>\n",
              "      <td>0</td>\n",
              "      <td>2/1/2016</td>\n",
              "      <td>0</td>\n",
              "      <td>2</td>\n",
              "    </tr>\n",
              "    <tr>\n",
              "      <th>5</th>\n",
              "      <td>Anderson, Linda</td>\n",
              "      <td>10002</td>\n",
              "      <td>0</td>\n",
              "      <td>0</td>\n",
              "      <td>0</td>\n",
              "      <td>1</td>\n",
              "      <td>5</td>\n",
              "      <td>4</td>\n",
              "      <td>0</td>\n",
              "      <td>57568</td>\n",
              "      <td>...</td>\n",
              "      <td>Amy Dunn</td>\n",
              "      <td>11.0</td>\n",
              "      <td>LinkedIn</td>\n",
              "      <td>Exceeds</td>\n",
              "      <td>5.0</td>\n",
              "      <td>5</td>\n",
              "      <td>0</td>\n",
              "      <td>1/7/2019</td>\n",
              "      <td>0</td>\n",
              "      <td>15</td>\n",
              "    </tr>\n",
              "    <tr>\n",
              "      <th>6</th>\n",
              "      <td>Andreola, Colby</td>\n",
              "      <td>10194</td>\n",
              "      <td>0</td>\n",
              "      <td>0</td>\n",
              "      <td>0</td>\n",
              "      <td>1</td>\n",
              "      <td>4</td>\n",
              "      <td>3</td>\n",
              "      <td>0</td>\n",
              "      <td>95660</td>\n",
              "      <td>...</td>\n",
              "      <td>Alex Sweetwater</td>\n",
              "      <td>10.0</td>\n",
              "      <td>LinkedIn</td>\n",
              "      <td>Fully Meets</td>\n",
              "      <td>3.0</td>\n",
              "      <td>3</td>\n",
              "      <td>4</td>\n",
              "      <td>1/2/2019</td>\n",
              "      <td>0</td>\n",
              "      <td>19</td>\n",
              "    </tr>\n",
              "    <tr>\n",
              "      <th>7</th>\n",
              "      <td>Athwal, Sam</td>\n",
              "      <td>10062</td>\n",
              "      <td>0</td>\n",
              "      <td>4</td>\n",
              "      <td>1</td>\n",
              "      <td>1</td>\n",
              "      <td>5</td>\n",
              "      <td>3</td>\n",
              "      <td>0</td>\n",
              "      <td>59365</td>\n",
              "      <td>...</td>\n",
              "      <td>Ketsia Liebig</td>\n",
              "      <td>19.0</td>\n",
              "      <td>Employee Referral</td>\n",
              "      <td>Fully Meets</td>\n",
              "      <td>5.0</td>\n",
              "      <td>4</td>\n",
              "      <td>0</td>\n",
              "      <td>2/25/2019</td>\n",
              "      <td>0</td>\n",
              "      <td>19</td>\n",
              "    </tr>\n",
              "    <tr>\n",
              "      <th>8</th>\n",
              "      <td>Bachiochi, Linda</td>\n",
              "      <td>10114</td>\n",
              "      <td>0</td>\n",
              "      <td>0</td>\n",
              "      <td>0</td>\n",
              "      <td>3</td>\n",
              "      <td>5</td>\n",
              "      <td>3</td>\n",
              "      <td>1</td>\n",
              "      <td>47837</td>\n",
              "      <td>...</td>\n",
              "      <td>Brannon Miller</td>\n",
              "      <td>12.0</td>\n",
              "      <td>Diversity Job Fair</td>\n",
              "      <td>Fully Meets</td>\n",
              "      <td>4.5</td>\n",
              "      <td>3</td>\n",
              "      <td>0</td>\n",
              "      <td>1/25/2019</td>\n",
              "      <td>0</td>\n",
              "      <td>4</td>\n",
              "    </tr>\n",
              "    <tr>\n",
              "      <th>9</th>\n",
              "      <td>Bacong, Alejandro</td>\n",
              "      <td>10250</td>\n",
              "      <td>0</td>\n",
              "      <td>2</td>\n",
              "      <td>1</td>\n",
              "      <td>1</td>\n",
              "      <td>3</td>\n",
              "      <td>3</td>\n",
              "      <td>0</td>\n",
              "      <td>50178</td>\n",
              "      <td>...</td>\n",
              "      <td>Peter Monroe</td>\n",
              "      <td>7.0</td>\n",
              "      <td>Indeed</td>\n",
              "      <td>Fully Meets</td>\n",
              "      <td>5.0</td>\n",
              "      <td>5</td>\n",
              "      <td>6</td>\n",
              "      <td>2/18/2019</td>\n",
              "      <td>0</td>\n",
              "      <td>16</td>\n",
              "    </tr>\n",
              "  </tbody>\n",
              "</table>\n",
              "<p>10 rows × 36 columns</p>\n",
              "</div>\n",
              "      <button class=\"colab-df-convert\" onclick=\"convertToInteractive('df-7bc79306-b5ed-4853-bf6e-f9a783c19978')\"\n",
              "              title=\"Convert this dataframe to an interactive table.\"\n",
              "              style=\"display:none;\">\n",
              "        \n",
              "  <svg xmlns=\"http://www.w3.org/2000/svg\" height=\"24px\"viewBox=\"0 0 24 24\"\n",
              "       width=\"24px\">\n",
              "    <path d=\"M0 0h24v24H0V0z\" fill=\"none\"/>\n",
              "    <path d=\"M18.56 5.44l.94 2.06.94-2.06 2.06-.94-2.06-.94-.94-2.06-.94 2.06-2.06.94zm-11 1L8.5 8.5l.94-2.06 2.06-.94-2.06-.94L8.5 2.5l-.94 2.06-2.06.94zm10 10l.94 2.06.94-2.06 2.06-.94-2.06-.94-.94-2.06-.94 2.06-2.06.94z\"/><path d=\"M17.41 7.96l-1.37-1.37c-.4-.4-.92-.59-1.43-.59-.52 0-1.04.2-1.43.59L10.3 9.45l-7.72 7.72c-.78.78-.78 2.05 0 2.83L4 21.41c.39.39.9.59 1.41.59.51 0 1.02-.2 1.41-.59l7.78-7.78 2.81-2.81c.8-.78.8-2.07 0-2.86zM5.41 20L4 18.59l7.72-7.72 1.47 1.35L5.41 20z\"/>\n",
              "  </svg>\n",
              "      </button>\n",
              "      \n",
              "  <style>\n",
              "    .colab-df-container {\n",
              "      display:flex;\n",
              "      flex-wrap:wrap;\n",
              "      gap: 12px;\n",
              "    }\n",
              "\n",
              "    .colab-df-convert {\n",
              "      background-color: #E8F0FE;\n",
              "      border: none;\n",
              "      border-radius: 50%;\n",
              "      cursor: pointer;\n",
              "      display: none;\n",
              "      fill: #1967D2;\n",
              "      height: 32px;\n",
              "      padding: 0 0 0 0;\n",
              "      width: 32px;\n",
              "    }\n",
              "\n",
              "    .colab-df-convert:hover {\n",
              "      background-color: #E2EBFA;\n",
              "      box-shadow: 0px 1px 2px rgba(60, 64, 67, 0.3), 0px 1px 3px 1px rgba(60, 64, 67, 0.15);\n",
              "      fill: #174EA6;\n",
              "    }\n",
              "\n",
              "    [theme=dark] .colab-df-convert {\n",
              "      background-color: #3B4455;\n",
              "      fill: #D2E3FC;\n",
              "    }\n",
              "\n",
              "    [theme=dark] .colab-df-convert:hover {\n",
              "      background-color: #434B5C;\n",
              "      box-shadow: 0px 1px 3px 1px rgba(0, 0, 0, 0.15);\n",
              "      filter: drop-shadow(0px 1px 2px rgba(0, 0, 0, 0.3));\n",
              "      fill: #FFFFFF;\n",
              "    }\n",
              "  </style>\n",
              "\n",
              "      <script>\n",
              "        const buttonEl =\n",
              "          document.querySelector('#df-7bc79306-b5ed-4853-bf6e-f9a783c19978 button.colab-df-convert');\n",
              "        buttonEl.style.display =\n",
              "          google.colab.kernel.accessAllowed ? 'block' : 'none';\n",
              "\n",
              "        async function convertToInteractive(key) {\n",
              "          const element = document.querySelector('#df-7bc79306-b5ed-4853-bf6e-f9a783c19978');\n",
              "          const dataTable =\n",
              "            await google.colab.kernel.invokeFunction('convertToInteractive',\n",
              "                                                     [key], {});\n",
              "          if (!dataTable) return;\n",
              "\n",
              "          const docLinkHtml = 'Like what you see? Visit the ' +\n",
              "            '<a target=\"_blank\" href=https://colab.research.google.com/notebooks/data_table.ipynb>data table notebook</a>'\n",
              "            + ' to learn more about interactive tables.';\n",
              "          element.innerHTML = '';\n",
              "          dataTable['output_type'] = 'display_data';\n",
              "          await google.colab.output.renderOutput(dataTable, element);\n",
              "          const docLink = document.createElement('div');\n",
              "          docLink.innerHTML = docLinkHtml;\n",
              "          element.appendChild(docLink);\n",
              "        }\n",
              "      </script>\n",
              "    </div>\n",
              "  </div>\n",
              "  "
            ],
            "text/plain": [
              "              Employee_Name  EmpID  MarriedID  MaritalStatusID  GenderID  \\\n",
              "0       Adinolfi, Wilson  K  10026          0                0         1   \n",
              "1  Ait Sidi, Karthikeyan     10084          1                1         1   \n",
              "2         Akinkuolie, Sarah  10196          1                1         0   \n",
              "3              Alagbe,Trina  10088          1                1         0   \n",
              "4          Anderson, Carol   10069          0                2         0   \n",
              "5         Anderson, Linda    10002          0                0         0   \n",
              "6           Andreola, Colby  10194          0                0         0   \n",
              "7               Athwal, Sam  10062          0                4         1   \n",
              "8          Bachiochi, Linda  10114          0                0         0   \n",
              "9        Bacong, Alejandro   10250          0                2         1   \n",
              "\n",
              "   EmpStatusID  DeptID  PerfScoreID  FromDiversityJobFairID  Salary  ...  \\\n",
              "0            1       5            4                       0   62506  ...   \n",
              "1            5       3            3                       0  104437  ...   \n",
              "2            5       5            3                       0   64955  ...   \n",
              "3            1       5            3                       0   64991  ...   \n",
              "4            5       5            3                       0   50825  ...   \n",
              "5            1       5            4                       0   57568  ...   \n",
              "6            1       4            3                       0   95660  ...   \n",
              "7            1       5            3                       0   59365  ...   \n",
              "8            3       5            3                       1   47837  ...   \n",
              "9            1       3            3                       0   50178  ...   \n",
              "\n",
              "       ManagerName  ManagerID   RecruitmentSource PerformanceScore  \\\n",
              "0   Michael Albert       22.0            LinkedIn          Exceeds   \n",
              "1       Simon Roup        4.0              Indeed      Fully Meets   \n",
              "2   Kissy Sullivan       20.0            LinkedIn      Fully Meets   \n",
              "3     Elijiah Gray       16.0              Indeed      Fully Meets   \n",
              "4   Webster Butler       39.0       Google Search      Fully Meets   \n",
              "5         Amy Dunn       11.0            LinkedIn          Exceeds   \n",
              "6  Alex Sweetwater       10.0            LinkedIn      Fully Meets   \n",
              "7    Ketsia Liebig       19.0   Employee Referral      Fully Meets   \n",
              "8   Brannon Miller       12.0  Diversity Job Fair      Fully Meets   \n",
              "9     Peter Monroe        7.0              Indeed      Fully Meets   \n",
              "\n",
              "   EngagementSurvey EmpSatisfaction SpecialProjectsCount  \\\n",
              "0               4.6               5                    0   \n",
              "1               5.0               3                    6   \n",
              "2               3.0               3                    0   \n",
              "3               4.8               5                    0   \n",
              "4               5.0               4                    0   \n",
              "5               5.0               5                    0   \n",
              "6               3.0               3                    4   \n",
              "7               5.0               4                    0   \n",
              "8               4.5               3                    0   \n",
              "9               5.0               5                    6   \n",
              "\n",
              "  LastPerformanceReview_Date DaysLateLast30 Absences  \n",
              "0                  1/17/2019              0        1  \n",
              "1                  2/24/2016              0       17  \n",
              "2                  5/15/2012              0        3  \n",
              "3                   1/3/2019              0       15  \n",
              "4                   2/1/2016              0        2  \n",
              "5                   1/7/2019              0       15  \n",
              "6                   1/2/2019              0       19  \n",
              "7                  2/25/2019              0       19  \n",
              "8                  1/25/2019              0        4  \n",
              "9                  2/18/2019              0       16  \n",
              "\n",
              "[10 rows x 36 columns]"
            ]
          },
          "metadata": {},
          "execution_count": 3
        }
      ]
    },
    {
      "cell_type": "code",
      "source": [
        "print(df.shape)"
      ],
      "metadata": {
        "colab": {
          "base_uri": "https://localhost:8080/"
        },
        "id": "I9olMY36EpwY",
        "outputId": "97a9a18b-dc77-435a-e995-58dad645324f"
      },
      "execution_count": null,
      "outputs": [
        {
          "output_type": "stream",
          "name": "stdout",
          "text": [
            "(311, 36)\n"
          ]
        }
      ]
    },
    {
      "cell_type": "code",
      "source": [
        "# List of the columns:\n",
        "columnNames = list(df)\n",
        "columnNames"
      ],
      "metadata": {
        "colab": {
          "base_uri": "https://localhost:8080/"
        },
        "id": "mhLWvMTrEwiF",
        "outputId": "8b8c732b-8d76-4826-c6e8-4253a7f51b0d"
      },
      "execution_count": null,
      "outputs": [
        {
          "output_type": "execute_result",
          "data": {
            "text/plain": [
              "['Employee_Name',\n",
              " 'EmpID',\n",
              " 'MarriedID',\n",
              " 'MaritalStatusID',\n",
              " 'GenderID',\n",
              " 'EmpStatusID',\n",
              " 'DeptID',\n",
              " 'PerfScoreID',\n",
              " 'FromDiversityJobFairID',\n",
              " 'Salary',\n",
              " 'Termd',\n",
              " 'PositionID',\n",
              " 'Position',\n",
              " 'State',\n",
              " 'Zip',\n",
              " 'DOB',\n",
              " 'Sex',\n",
              " 'MaritalDesc',\n",
              " 'CitizenDesc',\n",
              " 'HispanicLatino',\n",
              " 'RaceDesc',\n",
              " 'DateofHire',\n",
              " 'DateofTermination',\n",
              " 'TermReason',\n",
              " 'EmploymentStatus',\n",
              " 'Department',\n",
              " 'ManagerName',\n",
              " 'ManagerID',\n",
              " 'RecruitmentSource',\n",
              " 'PerformanceScore',\n",
              " 'EngagementSurvey',\n",
              " 'EmpSatisfaction',\n",
              " 'SpecialProjectsCount',\n",
              " 'LastPerformanceReview_Date',\n",
              " 'DaysLateLast30',\n",
              " 'Absences']"
            ]
          },
          "metadata": {},
          "execution_count": 5
        }
      ]
    },
    {
      "cell_type": "markdown",
      "source": [
        "Check Nulls:"
      ],
      "metadata": {
        "id": "-S67db8vUOAg"
      }
    },
    {
      "cell_type": "code",
      "source": [
        "df['Salary'].isnull().sum()"
      ],
      "metadata": {
        "id": "Mrw3MqgSUORy",
        "colab": {
          "base_uri": "https://localhost:8080/"
        },
        "outputId": "206eef3f-cc33-44e2-fa05-6f3e99caf2cb"
      },
      "execution_count": null,
      "outputs": [
        {
          "output_type": "execute_result",
          "data": {
            "text/plain": [
              "0"
            ]
          },
          "metadata": {},
          "execution_count": 6
        }
      ]
    },
    {
      "cell_type": "code",
      "source": [
        "# Set the precision of the results:\n",
        "pd.set_option(\"display.precision\", 1)"
      ],
      "metadata": {
        "id": "qyYmCFTlV1q3"
      },
      "execution_count": null,
      "outputs": []
    },
    {
      "cell_type": "code",
      "source": [
        "# Salary statistics:\n",
        "df['Salary'].describe()"
      ],
      "metadata": {
        "colab": {
          "base_uri": "https://localhost:8080/"
        },
        "id": "3XqSl1EGahGc",
        "outputId": "115dd144-9721-4f73-9e10-1b22ab89bb8d"
      },
      "execution_count": null,
      "outputs": [
        {
          "output_type": "execute_result",
          "data": {
            "text/plain": [
              "count       311.0\n",
              "mean      69020.7\n",
              "std       25156.6\n",
              "min       45046.0\n",
              "25%       55501.5\n",
              "50%       62810.0\n",
              "75%       72036.0\n",
              "max      250000.0\n",
              "Name: Salary, dtype: float64"
            ]
          },
          "metadata": {},
          "execution_count": 8
        }
      ]
    },
    {
      "cell_type": "code",
      "source": [
        "# Convert the Date columns to date format:\n",
        "df['DateofHire'] = pd.to_datetime(df['DateofHire'])\n",
        "df['LastPerformanceReview_Date'] = pd.to_datetime(df['LastPerformanceReview_Date'])\n",
        "df.info()"
      ],
      "metadata": {
        "colab": {
          "base_uri": "https://localhost:8080/"
        },
        "id": "Q3Wa_ywDr903",
        "outputId": "f1a45fec-5b68-488b-ac9e-822a6a36686e"
      },
      "execution_count": null,
      "outputs": [
        {
          "output_type": "stream",
          "name": "stdout",
          "text": [
            "<class 'pandas.core.frame.DataFrame'>\n",
            "RangeIndex: 311 entries, 0 to 310\n",
            "Data columns (total 36 columns):\n",
            " #   Column                      Non-Null Count  Dtype         \n",
            "---  ------                      --------------  -----         \n",
            " 0   Employee_Name               311 non-null    object        \n",
            " 1   EmpID                       311 non-null    int64         \n",
            " 2   MarriedID                   311 non-null    int64         \n",
            " 3   MaritalStatusID             311 non-null    int64         \n",
            " 4   GenderID                    311 non-null    int64         \n",
            " 5   EmpStatusID                 311 non-null    int64         \n",
            " 6   DeptID                      311 non-null    int64         \n",
            " 7   PerfScoreID                 311 non-null    int64         \n",
            " 8   FromDiversityJobFairID      311 non-null    int64         \n",
            " 9   Salary                      311 non-null    int64         \n",
            " 10  Termd                       311 non-null    int64         \n",
            " 11  PositionID                  311 non-null    int64         \n",
            " 12  Position                    311 non-null    object        \n",
            " 13  State                       311 non-null    object        \n",
            " 14  Zip                         311 non-null    int64         \n",
            " 15  DOB                         311 non-null    object        \n",
            " 16  Sex                         311 non-null    object        \n",
            " 17  MaritalDesc                 311 non-null    object        \n",
            " 18  CitizenDesc                 311 non-null    object        \n",
            " 19  HispanicLatino              311 non-null    object        \n",
            " 20  RaceDesc                    311 non-null    object        \n",
            " 21  DateofHire                  311 non-null    datetime64[ns]\n",
            " 22  DateofTermination           104 non-null    object        \n",
            " 23  TermReason                  311 non-null    object        \n",
            " 24  EmploymentStatus            311 non-null    object        \n",
            " 25  Department                  311 non-null    object        \n",
            " 26  ManagerName                 311 non-null    object        \n",
            " 27  ManagerID                   303 non-null    float64       \n",
            " 28  RecruitmentSource           311 non-null    object        \n",
            " 29  PerformanceScore            311 non-null    object        \n",
            " 30  EngagementSurvey            311 non-null    float64       \n",
            " 31  EmpSatisfaction             311 non-null    int64         \n",
            " 32  SpecialProjectsCount        311 non-null    int64         \n",
            " 33  LastPerformanceReview_Date  311 non-null    datetime64[ns]\n",
            " 34  DaysLateLast30              311 non-null    int64         \n",
            " 35  Absences                    311 non-null    int64         \n",
            "dtypes: datetime64[ns](2), float64(2), int64(16), object(16)\n",
            "memory usage: 87.6+ KB\n"
          ]
        }
      ]
    },
    {
      "cell_type": "markdown",
      "source": [
        "Use seaborn to create a simple heatmap to see where we are missing data!"
      ],
      "metadata": {
        "id": "YccGGMKQ-BVI"
      }
    },
    {
      "cell_type": "code",
      "source": [
        "sns.heatmap(df.isnull(),yticklabels=False,cbar=False,cmap='viridis')"
      ],
      "metadata": {
        "colab": {
          "base_uri": "https://localhost:8080/",
          "height": 385
        },
        "id": "280X92Eq-DAk",
        "outputId": "2d5e3f7f-7810-4a56-e573-ce43be0a5c15"
      },
      "execution_count": null,
      "outputs": [
        {
          "output_type": "execute_result",
          "data": {
            "text/plain": [
              "<matplotlib.axes._subplots.AxesSubplot at 0x7f631bfd0bd0>"
            ]
          },
          "metadata": {},
          "execution_count": 16
        },
        {
          "output_type": "display_data",
          "data": {
            "image/png": "[encoded data removed]",
            "text/plain": [
              "<Figure size 432x288 with 1 Axes>"
            ]
          },
          "metadata": {
            "needs_background": "light"
          }
        }
      ]
    },
    {
      "cell_type": "markdown",
      "source": [
        "## Start Group By:"
      ],
      "metadata": {
        "id": "W7l2W21LrtkZ"
      }
    },
    {
      "cell_type": "markdown",
      "source": [
        "Is the married change the salary?"
      ],
      "metadata": {
        "id": "2CjLEXiwU9Ak"
      }
    },
    {
      "cell_type": "code",
      "source": [
        "df.groupby(['MarriedID'])\\\n",
        ".agg(Salary_mean = ('Salary','mean'))\\\n",
        "  .sort_values('Salary_mean', ascending = False)\\\n",
        "  .head(7)"
      ],
      "metadata": {
        "id": "kXJ-06TjU9Xc",
        "colab": {
          "base_uri": "https://localhost:8080/",
          "height": 143
        },
        "outputId": "056363be-9732-498f-80a0-3504268f3d10"
      },
      "execution_count": null,
      "outputs": [
        {
          "output_type": "execute_result",
          "data": {
            "text/html": [
              "\n",
              "  <div id=\"df-2ae7f6bb-5237-4f4e-988c-0ac39c3192a4\">\n",
              "    <div class=\"colab-df-container\">\n",
              "      <div>\n",
              "<style scoped>\n",
              "    .dataframe tbody tr th:only-of-type {\n",
              "        vertical-align: middle;\n",
              "    }\n",
              "\n",
              "    .dataframe tbody tr th {\n",
              "        vertical-align: top;\n",
              "    }\n",
              "\n",
              "    .dataframe thead th {\n",
              "        text-align: right;\n",
              "    }\n",
              "</style>\n",
              "<table border=\"1\" class=\"dataframe\">\n",
              "  <thead>\n",
              "    <tr style=\"text-align: right;\">\n",
              "      <th></th>\n",
              "      <th>Salary_mean</th>\n",
              "    </tr>\n",
              "    <tr>\n",
              "      <th>MarriedID</th>\n",
              "      <th></th>\n",
              "    </tr>\n",
              "  </thead>\n",
              "  <tbody>\n",
              "    <tr>\n",
              "      <th>1</th>\n",
              "      <td>69827.7</td>\n",
              "    </tr>\n",
              "    <tr>\n",
              "      <th>0</th>\n",
              "      <td>68485.5</td>\n",
              "    </tr>\n",
              "  </tbody>\n",
              "</table>\n",
              "</div>\n",
              "      <button class=\"colab-df-convert\" onclick=\"convertToInteractive('df-2ae7f6bb-5237-4f4e-988c-0ac39c3192a4')\"\n",
              "              title=\"Convert this dataframe to an interactive table.\"\n",
              "              style=\"display:none;\">\n",
              "        \n",
              "  <svg xmlns=\"http://www.w3.org/2000/svg\" height=\"24px\"viewBox=\"0 0 24 24\"\n",
              "       width=\"24px\">\n",
              "    <path d=\"M0 0h24v24H0V0z\" fill=\"none\"/>\n",
              "    <path d=\"M18.56 5.44l.94 2.06.94-2.06 2.06-.94-2.06-.94-.94-2.06-.94 2.06-2.06.94zm-11 1L8.5 8.5l.94-2.06 2.06-.94-2.06-.94L8.5 2.5l-.94 2.06-2.06.94zm10 10l.94 2.06.94-2.06 2.06-.94-2.06-.94-.94-2.06-.94 2.06-2.06.94z\"/><path d=\"M17.41 7.96l-1.37-1.37c-.4-.4-.92-.59-1.43-.59-.52 0-1.04.2-1.43.59L10.3 9.45l-7.72 7.72c-.78.78-.78 2.05 0 2.83L4 21.41c.39.39.9.59 1.41.59.51 0 1.02-.2 1.41-.59l7.78-7.78 2.81-2.81c.8-.78.8-2.07 0-2.86zM5.41 20L4 18.59l7.72-7.72 1.47 1.35L5.41 20z\"/>\n",
              "  </svg>\n",
              "      </button>\n",
              "      \n",
              "  <style>\n",
              "    .colab-df-container {\n",
              "      display:flex;\n",
              "      flex-wrap:wrap;\n",
              "      gap: 12px;\n",
              "    }\n",
              "\n",
              "    .colab-df-convert {\n",
              "      background-color: #E8F0FE;\n",
              "      border: none;\n",
              "      border-radius: 50%;\n",
              "      cursor: pointer;\n",
              "      display: none;\n",
              "      fill: #1967D2;\n",
              "      height: 32px;\n",
              "      padding: 0 0 0 0;\n",
              "      width: 32px;\n",
              "    }\n",
              "\n",
              "    .colab-df-convert:hover {\n",
              "      background-color: #E2EBFA;\n",
              "      box-shadow: 0px 1px 2px rgba(60, 64, 67, 0.3), 0px 1px 3px 1px rgba(60, 64, 67, 0.15);\n",
              "      fill: #174EA6;\n",
              "    }\n",
              "\n",
              "    [theme=dark] .colab-df-convert {\n",
              "      background-color: #3B4455;\n",
              "      fill: #D2E3FC;\n",
              "    }\n",
              "\n",
              "    [theme=dark] .colab-df-convert:hover {\n",
              "      background-color: #434B5C;\n",
              "      box-shadow: 0px 1px 3px 1px rgba(0, 0, 0, 0.15);\n",
              "      filter: drop-shadow(0px 1px 2px rgba(0, 0, 0, 0.3));\n",
              "      fill: #FFFFFF;\n",
              "    }\n",
              "  </style>\n",
              "\n",
              "      <script>\n",
              "        const buttonEl =\n",
              "          document.querySelector('#df-2ae7f6bb-5237-4f4e-988c-0ac39c3192a4 button.colab-df-convert');\n",
              "        buttonEl.style.display =\n",
              "          google.colab.kernel.accessAllowed ? 'block' : 'none';\n",
              "\n",
              "        async function convertToInteractive(key) {\n",
              "          const element = document.querySelector('#df-2ae7f6bb-5237-4f4e-988c-0ac39c3192a4');\n",
              "          const dataTable =\n",
              "            await google.colab.kernel.invokeFunction('convertToInteractive',\n",
              "                                                     [key], {});\n",
              "          if (!dataTable) return;\n",
              "\n",
              "          const docLinkHtml = 'Like what you see? Visit the ' +\n",
              "            '<a target=\"_blank\" href=https://colab.research.google.com/notebooks/data_table.ipynb>data table notebook</a>'\n",
              "            + ' to learn more about interactive tables.';\n",
              "          element.innerHTML = '';\n",
              "          dataTable['output_type'] = 'display_data';\n",
              "          await google.colab.output.renderOutput(dataTable, element);\n",
              "          const docLink = document.createElement('div');\n",
              "          docLink.innerHTML = docLinkHtml;\n",
              "          element.appendChild(docLink);\n",
              "        }\n",
              "      </script>\n",
              "    </div>\n",
              "  </div>\n",
              "  "
            ],
            "text/plain": [
              "           Salary_mean\n",
              "MarriedID             \n",
              "1              69827.7\n",
              "0              68485.5"
            ]
          },
          "metadata": {},
          "execution_count": 10
        }
      ]
    },
    {
      "cell_type": "code",
      "source": [
        "# Is the race change the salary?  \n",
        "\n",
        "df.groupby(['RaceDesc'])\\\n",
        ".agg(Salary_mean = ('Salary','mean'))\\\n",
        "  .sort_values('Salary_mean', ascending = False)\\\n",
        "  .head(7)"
      ],
      "metadata": {
        "id": "0q8wf-8PaX_8",
        "colab": {
          "base_uri": "https://localhost:8080/",
          "height": 269
        },
        "outputId": "0053c21e-2a0d-4ed0-e23d-2e080de01acb"
      },
      "execution_count": null,
      "outputs": [
        {
          "output_type": "execute_result",
          "data": {
            "text/html": [
              "\n",
              "  <div id=\"df-eb9e0313-6bea-42cd-b237-b6a45be5d283\">\n",
              "    <div class=\"colab-df-container\">\n",
              "      <div>\n",
              "<style scoped>\n",
              "    .dataframe tbody tr th:only-of-type {\n",
              "        vertical-align: middle;\n",
              "    }\n",
              "\n",
              "    .dataframe tbody tr th {\n",
              "        vertical-align: top;\n",
              "    }\n",
              "\n",
              "    .dataframe thead th {\n",
              "        text-align: right;\n",
              "    }\n",
              "</style>\n",
              "<table border=\"1\" class=\"dataframe\">\n",
              "  <thead>\n",
              "    <tr style=\"text-align: right;\">\n",
              "      <th></th>\n",
              "      <th>Salary_mean</th>\n",
              "    </tr>\n",
              "    <tr>\n",
              "      <th>RaceDesc</th>\n",
              "      <th></th>\n",
              "    </tr>\n",
              "  </thead>\n",
              "  <tbody>\n",
              "    <tr>\n",
              "      <th>Hispanic</th>\n",
              "      <td>83667.0</td>\n",
              "    </tr>\n",
              "    <tr>\n",
              "      <th>Black or African American</th>\n",
              "      <td>74431.0</td>\n",
              "    </tr>\n",
              "    <tr>\n",
              "      <th>Asian</th>\n",
              "      <td>68521.2</td>\n",
              "    </tr>\n",
              "    <tr>\n",
              "      <th>White</th>\n",
              "      <td>67287.5</td>\n",
              "    </tr>\n",
              "    <tr>\n",
              "      <th>American Indian or Alaska Native</th>\n",
              "      <td>65806.0</td>\n",
              "    </tr>\n",
              "    <tr>\n",
              "      <th>Two or more races</th>\n",
              "      <td>59998.2</td>\n",
              "    </tr>\n",
              "  </tbody>\n",
              "</table>\n",
              "</div>\n",
              "      <button class=\"colab-df-convert\" onclick=\"convertToInteractive('df-eb9e0313-6bea-42cd-b237-b6a45be5d283')\"\n",
              "              title=\"Convert this dataframe to an interactive table.\"\n",
              "              style=\"display:none;\">\n",
              "        \n",
              "  <svg xmlns=\"http://www.w3.org/2000/svg\" height=\"24px\"viewBox=\"0 0 24 24\"\n",
              "       width=\"24px\">\n",
              "    <path d=\"M0 0h24v24H0V0z\" fill=\"none\"/>\n",
              "    <path d=\"M18.56 5.44l.94 2.06.94-2.06 2.06-.94-2.06-.94-.94-2.06-.94 2.06-2.06.94zm-11 1L8.5 8.5l.94-2.06 2.06-.94-2.06-.94L8.5 2.5l-.94 2.06-2.06.94zm10 10l.94 2.06.94-2.06 2.06-.94-2.06-.94-.94-2.06-.94 2.06-2.06.94z\"/><path d=\"M17.41 7.96l-1.37-1.37c-.4-.4-.92-.59-1.43-.59-.52 0-1.04.2-1.43.59L10.3 9.45l-7.72 7.72c-.78.78-.78 2.05 0 2.83L4 21.41c.39.39.9.59 1.41.59.51 0 1.02-.2 1.41-.59l7.78-7.78 2.81-2.81c.8-.78.8-2.07 0-2.86zM5.41 20L4 18.59l7.72-7.72 1.47 1.35L5.41 20z\"/>\n",
              "  </svg>\n",
              "      </button>\n",
              "      \n",
              "  <style>\n",
              "    .colab-df-container {\n",
              "      display:flex;\n",
              "      flex-wrap:wrap;\n",
              "      gap: 12px;\n",
              "    }\n",
              "\n",
              "    .colab-df-convert {\n",
              "      background-color: #E8F0FE;\n",
              "      border: none;\n",
              "      border-radius: 50%;\n",
              "      cursor: pointer;\n",
              "      display: none;\n",
              "      fill: #1967D2;\n",
              "      height: 32px;\n",
              "      padding: 0 0 0 0;\n",
              "      width: 32px;\n",
              "    }\n",
              "\n",
              "    .colab-df-convert:hover {\n",
              "      background-color: #E2EBFA;\n",
              "      box-shadow: 0px 1px 2px rgba(60, 64, 67, 0.3), 0px 1px 3px 1px rgba(60, 64, 67, 0.15);\n",
              "      fill: #174EA6;\n",
              "    }\n",
              "\n",
              "    [theme=dark] .colab-df-convert {\n",
              "      background-color: #3B4455;\n",
              "      fill: #D2E3FC;\n",
              "    }\n",
              "\n",
              "    [theme=dark] .colab-df-convert:hover {\n",
              "      background-color: #434B5C;\n",
              "      box-shadow: 0px 1px 3px 1px rgba(0, 0, 0, 0.15);\n",
              "      filter: drop-shadow(0px 1px 2px rgba(0, 0, 0, 0.3));\n",
              "      fill: #FFFFFF;\n",
              "    }\n",
              "  </style>\n",
              "\n",
              "      <script>\n",
              "        const buttonEl =\n",
              "          document.querySelector('#df-eb9e0313-6bea-42cd-b237-b6a45be5d283 button.colab-df-convert');\n",
              "        buttonEl.style.display =\n",
              "          google.colab.kernel.accessAllowed ? 'block' : 'none';\n",
              "\n",
              "        async function convertToInteractive(key) {\n",
              "          const element = document.querySelector('#df-eb9e0313-6bea-42cd-b237-b6a45be5d283');\n",
              "          const dataTable =\n",
              "            await google.colab.kernel.invokeFunction('convertToInteractive',\n",
              "                                                     [key], {});\n",
              "          if (!dataTable) return;\n",
              "\n",
              "          const docLinkHtml = 'Like what you see? Visit the ' +\n",
              "            '<a target=\"_blank\" href=https://colab.research.google.com/notebooks/data_table.ipynb>data table notebook</a>'\n",
              "            + ' to learn more about interactive tables.';\n",
              "          element.innerHTML = '';\n",
              "          dataTable['output_type'] = 'display_data';\n",
              "          await google.colab.output.renderOutput(dataTable, element);\n",
              "          const docLink = document.createElement('div');\n",
              "          docLink.innerHTML = docLinkHtml;\n",
              "          element.appendChild(docLink);\n",
              "        }\n",
              "      </script>\n",
              "    </div>\n",
              "  </div>\n",
              "  "
            ],
            "text/plain": [
              "                                  Salary_mean\n",
              "RaceDesc                                     \n",
              "Hispanic                              83667.0\n",
              "Black or African American             74431.0\n",
              "Asian                                 68521.2\n",
              "White                                 67287.5\n",
              "American Indian or Alaska Native      65806.0\n",
              "Two or more races                     59998.2"
            ]
          },
          "metadata": {},
          "execution_count": 11
        }
      ]
    },
    {
      "cell_type": "markdown",
      "source": [
        "## Graphics with seaborn"
      ],
      "metadata": {
        "id": "LOLaBbhxuGZE"
      }
    },
    {
      "cell_type": "code",
      "source": [
        "import seaborn as sns"
      ],
      "metadata": {
        "id": "toMfl1EfuKKE"
      },
      "execution_count": null,
      "outputs": []
    },
    {
      "cell_type": "code",
      "source": [
        "# groupby then plot with kind='kde'    MarriedID\n",
        "df.groupby('Sex').Salary.plot(kind='kde')"
      ],
      "metadata": {
        "colab": {
          "base_uri": "https://localhost:8080/",
          "height": 345
        },
        "id": "XMzV-39-uNdL",
        "outputId": "2c6915e5-e503-4b3d-ff83-189bf828bb96"
      },
      "execution_count": null,
      "outputs": [
        {
          "output_type": "execute_result",
          "data": {
            "text/plain": [
              "Sex\n",
              "F     AxesSubplot(0.125,0.125;0.775x0.755)\n",
              "M     AxesSubplot(0.125,0.125;0.775x0.755)\n",
              "Name: Salary, dtype: object"
            ]
          },
          "metadata": {},
          "execution_count": 13
        },
        {
          "output_type": "display_data",
          "data": {
            "image/png": "[encoded data removed]",
            "text/plain": [
              "<Figure size 432x288 with 1 Axes>"
            ]
          },
          "metadata": {
            "needs_background": "light"
          }
        }
      ]
    }
  ]
}